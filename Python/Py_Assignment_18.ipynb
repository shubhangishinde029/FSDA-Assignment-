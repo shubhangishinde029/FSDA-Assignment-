{
 "cells": [
  {
   "cell_type": "markdown",
   "id": "57b9e917",
   "metadata": {},
   "source": [
    "### 1. Create a zoo.py file first. Define the hours() function, which prints the string &#39;Open 9-5 daily&#39;. Then, use the interactive interpreter to import the zoo module and call its hours() function."
   ]
  },
  {
   "cell_type": "markdown",
   "id": "ea484c98",
   "metadata": {},
   "source": [
    "create a Python file named zoo.py and define the hours() function inside it. Here's the content of zoo.py:"
   ]
  },
  {
   "cell_type": "code",
   "execution_count": 4,
   "id": "103b572c",
   "metadata": {},
   "outputs": [],
   "source": [
    "# zoo.py\n",
    "\n",
    "# Define the hours() function\n",
    "def hours():\n",
    "    print('Open 9-5 daily')"
   ]
  },
  {
   "cell_type": "markdown",
   "id": "00bea63e",
   "metadata": {},
   "source": [
    "After saving the zoo.py file, you can use the interactive interpreter to import the zoo module and call its hours() function as follows:\n",
    "\n",
    "#### Import the zoo module\n",
    "import zoo\n",
    "\n",
    "#### Call the hours() function from the zoo module\n",
    "zoo.hours()"
   ]
  },
  {
   "cell_type": "markdown",
   "id": "215585c1",
   "metadata": {},
   "source": [
    "### 2. In the interactive interpreter, import the zoo module as menagerie and call its hours() function."
   ]
  },
  {
   "cell_type": "markdown",
   "id": "f7425afc",
   "metadata": {},
   "source": [
    "In the interactive interpreter, you can import the zoo module as menagerie and then call its hours() function. Here's how you can do it:\n",
    "\n",
    "#### # Import the zoo module as menagerie\n",
    "import zoo as menagerie\n",
    "\n",
    "#### # Call the hours() function from the menagerie module\n",
    "menagerie.hours()\n",
    "\n",
    " zoo module is imported with the alias menagerie, and then the hours() function from the menagerie module is called, which prints the specified string."
   ]
  },
  {
   "cell_type": "markdown",
   "id": "2cbb7fa0",
   "metadata": {},
   "source": [
    "### 3. Using the interpreter, explicitly import and call the hours() function from zoo."
   ]
  },
  {
   "cell_type": "markdown",
   "id": "33780875",
   "metadata": {},
   "source": [
    "In the Python interpreter, you can explicitly import the hours() function from the zoo module and then call it. Here's how you can do it step by step in the interpreter\n",
    "\n",
    "#### 1.Explicitly import the hours() function from the zoo module:\n",
    "from zoo import hours\n",
    "This imports only the hours() function from the zoo module.\n",
    "#### 2. Call the imported hours() function:\n",
    "hours()\n",
    "This calls the hours() function\n",
    " you are explicitly importing the hours() function from the zoo module and then calling it directly in the Python interpreter."
   ]
  },
  {
   "cell_type": "markdown",
   "id": "6830589d",
   "metadata": {},
   "source": [
    "### 4. Import the hours() function as info and call it."
   ]
  },
  {
   "cell_type": "markdown",
   "id": "6ca61e87",
   "metadata": {},
   "source": [
    "import hours\n",
    "#### Call the hours() function\n",
    "result = hours()\n",
    "print(result)\n"
   ]
  },
  {
   "cell_type": "markdown",
   "id": "2799e9b8",
   "metadata": {},
   "source": [
    "### 5. Create a plain dictionary with the key-value pairs &#39;a&#39;: 1, &#39;b&#39;: 2, and &#39;c&#39;: 3, and print it out."
   ]
  },
  {
   "cell_type": "code",
   "execution_count": 16,
   "id": "6ef47931",
   "metadata": {},
   "outputs": [
    {
     "name": "stdout",
     "output_type": "stream",
     "text": [
      "{'a': 1, 'b': 2, 'c': 3}\n"
     ]
    }
   ],
   "source": [
    "# Create a plain dictionary\n",
    "my_dict = {'a': 1, 'b': 2, 'c': 3}\n",
    "\n",
    "# Print the dictionary\n",
    "print(my_dict)"
   ]
  },
  {
   "cell_type": "markdown",
   "id": "ab4a97de",
   "metadata": {},
   "source": [
    "### 6.Make an OrderedDict called fancy from the same pairs listed in 5 and print it. Did it print in the same order as plain?"
   ]
  },
  {
   "cell_type": "code",
   "execution_count": 17,
   "id": "e73cf715",
   "metadata": {},
   "outputs": [
    {
     "name": "stdout",
     "output_type": "stream",
     "text": [
      "OrderedDict([('a', 1), ('b', 2), ('c', 3)])\n"
     ]
    }
   ],
   "source": [
    "from collections import OrderedDict\n",
    "\n",
    "# Create an OrderedDict\n",
    "fancy = OrderedDict([('a', 1), ('b', 2), ('c', 3)])\n",
    "\n",
    "# Print the OrderedDict\n",
    "print(fancy)\n"
   ]
  },
  {
   "cell_type": "markdown",
   "id": "5444b51f",
   "metadata": {},
   "source": [
    "### 7. Make a default dictionary called dict_of_lists and pass it the argument list. Make the listdict_of_lists[&#39;a&#39;] and append the value &#39;something for a&#39; to it in one assignment. Printdict_of_lists[&#39;a&#39;]."
   ]
  },
  {
   "cell_type": "code",
   "execution_count": 18,
   "id": "c8abb515",
   "metadata": {},
   "outputs": [
    {
     "name": "stdout",
     "output_type": "stream",
     "text": [
      "['something for a']\n"
     ]
    }
   ],
   "source": [
    "from collections import defaultdict\n",
    "\n",
    "# Create a defaultdict with default value type list\n",
    "dict_of_lists = defaultdict(list)\n",
    "\n",
    "# Append the value 'something for a' to the list associated with key 'a'\n",
    "dict_of_lists['a'].append('something for a')\n",
    "\n",
    "# Print the value associated with key 'a'\n",
    "print(dict_of_lists['a'])\n"
   ]
  }
 ],
 "metadata": {
  "kernelspec": {
   "display_name": "Python 3",
   "language": "python",
   "name": "python3"
  },
  "language_info": {
   "codemirror_mode": {
    "name": "ipython",
    "version": 3
   },
   "file_extension": ".py",
   "mimetype": "text/x-python",
   "name": "python",
   "nbconvert_exporter": "python",
   "pygments_lexer": "ipython3",
   "version": "3.8.8"
  }
 },
 "nbformat": 4,
 "nbformat_minor": 5
}
