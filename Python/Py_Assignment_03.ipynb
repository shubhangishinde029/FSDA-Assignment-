{
 "cells": [
  {
   "cell_type": "markdown",
   "id": "999ef5fe",
   "metadata": {},
   "source": [
    "#### 1. Why are functions advantageous to have in your programs?"
   ]
  },
  {
   "cell_type": "markdown",
   "id": "404caf3e",
   "metadata": {},
   "source": [
    "Advantages of functions:\n",
    "1. Code organization and modularity:Funcations allow you to break dowm your code into smaller,logical units,each responsible for specific task. This promote code organization and modularity,making your code easier to understand,maintain and debug.\n",
    "2. Reusability: Functions can be reused in different parts of a program or even in multile programs. Instead of writing the same code over and over again,you can encapsulate a set of instructions into a function and call it whenever needed.\n",
    "3. Abstraction: Functaions provide a level of abstraction by hiding the implementationsdetails of a particular funcationality. This abstraction allow you to focus on the higher-level logic of your program without getting bogged down in implementaion details of individual functions.\n",
    "4. Testing and debugging: Funcations enable easier testing and debugging of code.By encapsulation a specific functionality within a function,you can isolate it from the rest of the program and test it idependently.\n",
    "    \n",
    "    "
   ]
  },
  {
   "cell_type": "markdown",
   "id": "9f134e51",
   "metadata": {},
   "source": [
    "#### 2. When does the code in a function run: when it&#39;s specified or when it&#39;s called?"
   ]
  },
  {
   "cell_type": "markdown",
   "id": "2fc45c61",
   "metadata": {},
   "source": [
    "The code in a funcatio runs when the function is called. A functaion is defined witha set of instructions that specify what shoukd happen when the function is executed. However,those instrucations are not executed immediately upon defining the function. When you call a function, the program flow trasfers to the functions code block,and the instructions within that code block are executed sequentially. The function can perform operations,manipulate data, and return a result if necessary. Once the execution of the function is complete,the program flow returns to the point where the function was called and the program continues from there. Defining a function does not execute its code. Defining a function simply creates a reusabke template or blueprint for performing a specific task."
   ]
  },
  {
   "cell_type": "markdown",
   "id": "6fd21bb9",
   "metadata": {},
   "source": [
    "#### 3. What statement creates a function?"
   ]
  },
  {
   "cell_type": "markdown",
   "id": "8d323474",
   "metadata": {},
   "source": [
    "Statement used to create a function is typically called a function definition or function declaration. In Python the 'def'statment is used to define a function.\n",
    "\n",
    "The general syntax for creating a function in python:\n",
    "    \n",
    "    def function_name(parameter):\n",
    "        \n",
    " - 'def': This keyword is used to declare a function\n",
    " - 'function_name' : It is the identifier or name given to the function.\n",
    " - 'parameter' : These are optional placeholders for values that the function can accept as inputs. They are enclosed in parentheses and separated by commas. If the function doesn't require any parameters,you can leave the parentheses empty."
   ]
  },
  {
   "cell_type": "markdown",
   "id": "66c1a728",
   "metadata": {},
   "source": [
    "#### 4. What is the difference between a function and a function call?"
   ]
  },
  {
   "cell_type": "markdown",
   "id": "bf9ee917",
   "metadata": {},
   "source": [
    "1.Function: A function is a block of code that performs a specific task or a set of instructions. It is named sequence of statements that can accept input parameters,perform opertions,and optionally return a result. Funcations are defined using the 'def'statment. The function definition specifies the name,parameters and the code block that defined the functions dehavior.\n",
    "2.Function Call: A function call,also known as invoking or executing a function,is the action of actually running the code inside a function. When you make a function call, you specifty the function's name followed by parentheses. If the function reuires input parameter,you provide those value within the parentheses.\n",
    "\n",
    "A function is defined block of code that represents a specific task or functionality,while function call is the act of executing or invoking that function to perform the desired opertions.    "
   ]
  },
  {
   "cell_type": "markdown",
   "id": "f78e9764",
   "metadata": {},
   "source": [
    "#### 5. How many global scopes are there in a Python program? How many local scopes?"
   ]
  },
  {
   "cell_type": "markdown",
   "id": "767588bf",
   "metadata": {},
   "source": [
    "The numbr of global scopes in a Python program is one,where as the numbr of local scopes can vary depending on the number of function of function calls and "
   ]
  },
  {
   "cell_type": "markdown",
   "id": "e130510d",
   "metadata": {},
   "source": [
    "#### 6. What happens to variables in a local scope when the function call returns?"
   ]
  },
  {
   "cell_type": "markdown",
   "id": "894e016d",
   "metadata": {},
   "source": [
    "When a function call returns,the local variables within that functions scope are typically destroyed,and their memory is released. This means that the variables and any values they held are no longer accessible or retained after the function execution completes."
   ]
  },
  {
   "cell_type": "markdown",
   "id": "c097b49f",
   "metadata": {},
   "source": [
    "#### 7. What is the concept of a return value? Is it possible to have a return value in an expression?"
   ]
  },
  {
   "cell_type": "markdown",
   "id": "b2f81649",
   "metadata": {},
   "source": [
    "Return value in programming refers to the value that a function provides back to the caller after it finishes its execution. When a function is called,it may perform certain operation and computations and then it can return a value to the code that called it.\n",
    "A return value can be specified using the 'return' statement within a function. The 'return' statement allows you to explicitly define the value that the function will return."
   ]
  },
  {
   "cell_type": "markdown",
   "id": "34514948",
   "metadata": {},
   "source": [
    "#### 8. If a function does not have a return statement, what is the return value of a call to that function?"
   ]
  },
  {
   "cell_type": "markdown",
   "id": "2f92789d",
   "metadata": {},
   "source": [
    "If a function doesn't have a 'return' statement or if the 'return' statment is without any value,the function will implicitly return 'None'. 'None' is a special Python object that represents the absence of value."
   ]
  },
  {
   "cell_type": "markdown",
   "id": "3c419fa5",
   "metadata": {},
   "source": [
    "#### 9. How do you make a function variable refer to the global variable?"
   ]
  },
  {
   "cell_type": "markdown",
   "id": "6ca8b169",
   "metadata": {},
   "source": [
    "If you want a function variable to refer to a global variable,you can use the 'global'keyword inside the function. This informs pythin that the variable being used is a global variable,rather than a local variable \n",
    "\n",
    "Example:\n",
    "    \n",
    "    x=10 #Global varibale\n",
    "def my.function():\n",
    "    global x\n",
    "    x=20\n",
    "my_funcation()\n",
    "print(x)"
   ]
  },
  {
   "cell_type": "markdown",
   "id": "ab6f8d5a",
   "metadata": {},
   "source": [
    "#### 10. What is the data type of None?"
   ]
  },
  {
   "cell_type": "markdown",
   "id": "8324ebad",
   "metadata": {},
   "source": [
    "Datatype of 'None'in Python is 'NoneType'. 'None' represents that absence of a value or lack of value. It is often used to indicate that a variable or a function does not have a meaningful value or that condition is not met. "
   ]
  },
  {
   "cell_type": "markdown",
   "id": "776fb9f9",
   "metadata": {},
   "source": [
    "#### 11. What does the sentence import areallyourpetsnamederic do?"
   ]
  },
  {
   "cell_type": "markdown",
   "id": "c08b3ba2",
   "metadata": {},
   "source": [
    "The sentence 'import areallyourpetsnamederic' is a syntactically vaild python import statment,but not referto any existing module in the Python standered library or commonly used third-party libraries.\n",
    "In Python,the 'import'statment is used to bring functionality from other module into your current module,allowing you to access and use their defined classed,functions or variables.Import module loads it into memory.\n",
    "If we execute statment'import areallyourpetsnamederic' and there us no module named it will gives the error   'ModuleNotFoundError' indicating that the specified module cannot be found."
   ]
  },
  {
   "cell_type": "markdown",
   "id": "468a7af7",
   "metadata": {},
   "source": [
    "#### 12. If you had a bacon() feature in a spam module, what would you call it after importing spam?"
   ]
  },
  {
   "cell_type": "markdown",
   "id": "e349fcca",
   "metadata": {},
   "source": [
    "If you have imported a module named 'spam'that contains a feature or function called bacon()\n",
    "Syntax:\n",
    "    import spam\n",
    "      spam.bacon()\n",
    "        \n",
    "In this case,you would call the bacon() function by prefixing it with the module name 'spam' and a dot to indicate that it is a function within the 'spam' module. This ensures that your specfically referencing the 'bacon()' function from the 'spam' module.      "
   ]
  },
  {
   "cell_type": "markdown",
   "id": "f1b738da",
   "metadata": {},
   "source": [
    "#### 13. What can you do to save a programme from crashing if it encounters an error?"
   ]
  },
  {
   "cell_type": "markdown",
   "id": "527ff48b",
   "metadata": {},
   "source": [
    "To save a program from crashing when it encouters an error handling technique.\n",
    "1.Use try-except blocks: Wrap the code that may raise an exception inside a try block,and then use except blocks to catch and handle specific exceptions. This prevents the program from abruptly terminating when a exception occurs."
   ]
  },
  {
   "cell_type": "markdown",
   "id": "7026476d",
   "metadata": {},
   "source": [
    "#### 14. What is the purpose of the try clause? What is the purpose of the except clause?"
   ]
  },
  {
   "cell_type": "markdown",
   "id": "bfb95002",
   "metadata": {},
   "source": [
    "The 'try' and 'except' clause in python are used for error handling and exception handling. They allow you to handle and recover from runtime error or exceptional situations taht may accur duaring the execution of your program.The purpose of the 'try'clause is to enclose a block of code that might potentially raise an exception.It allows you to specify the code taht want to monitor for exceptions.\n",
    "The purpose of the 'except' clause is to define the actions or code that shoukd be executed when a specific exception accurs. You can have multiple 'except'clauses following the 'try'block,each handling a diffrent type of exception. It an exceptionof a particykar type occurs,the corresponding 'except'block executed.If no exception occures,the 'except'blocks are skipped,and the program continues execution afterthe 'try-except'block."
   ]
  }
 ],
 "metadata": {
  "kernelspec": {
   "display_name": "Python 3",
   "language": "python",
   "name": "python3"
  },
  "language_info": {
   "codemirror_mode": {
    "name": "ipython",
    "version": 3
   },
   "file_extension": ".py",
   "mimetype": "text/x-python",
   "name": "python",
   "nbconvert_exporter": "python",
   "pygments_lexer": "ipython3",
   "version": "3.8.8"
  }
 },
 "nbformat": 4,
 "nbformat_minor": 5
}
