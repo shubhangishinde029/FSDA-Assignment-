{
 "cells": [
  {
   "cell_type": "markdown",
   "id": "38fa5ee4",
   "metadata": {},
   "source": [
    "### 1. What is the result of the code, and why?\n",
    "#### &gt;&gt;&gt; def func(a, b=6, c=8):\n",
    "#### print(a, b, c)\n",
    "#### &gt;&gt;&gt; func(1, 2)"
   ]
  },
  {
   "cell_type": "code",
   "execution_count": 1,
   "id": "1c3f58bf",
   "metadata": {},
   "outputs": [],
   "source": [
    "def func(a, b=6, c=8):\n",
    "    print(a, b, c)\n",
    "    func(1, 2)"
   ]
  },
  {
   "cell_type": "markdown",
   "id": "b788717a",
   "metadata": {},
   "source": [
    "The func function is defined with three parameters: a, b, and c. b and c have default values of 6 and 8 respectively. When the function is called with func(1, 2), the following happens:\n",
    "\n",
    "a is assigned the value 1 (provided as the first argument).\n",
    "b is assigned the value 2 (provided as the second argument).\n",
    "c retains its default value of 8.\n",
    "Therefore, the function prints 1 2 8, indicating the values of a, b, and c at the time of the function call."
   ]
  },
  {
   "cell_type": "markdown",
   "id": "ca3c5d08",
   "metadata": {},
   "source": [
    "#### 2. What is the result of this code, and why?\n",
    "#### &gt;&gt;&gt; def func(a, b, c=5):\n",
    "#### print(a, b, c)\n",
    "#### &gt;&gt;&gt; func(1, c=3, b=2)"
   ]
  },
  {
   "cell_type": "code",
   "execution_count": 2,
   "id": "6df898a4",
   "metadata": {},
   "outputs": [],
   "source": [
    "def func(a, b, c=5):\n",
    "    print(a, b, c)\n",
    "    func(1, c=3, b=2)"
   ]
  },
  {
   "cell_type": "markdown",
   "id": "799dfb1d",
   "metadata": {},
   "source": [
    "The func function is defined with three parameters: a, b, and c, where c has a default value of 5. When the function is called with func(1, c=3, b=2), the following happens:\n",
    "\n",
    "a is assigned the value 1 (provided as the first argument).\n",
    "b is assigned the value 2 (provided as the keyword argument b=2).\n",
    "c is assigned the value 3 (provided as the keyword argument c=3), overriding the default value of 5.\n",
    "Therefore, the function prints 1 2 3, indicating the values of a, b, and c at the time of the function call."
   ]
  },
  {
   "cell_type": "markdown",
   "id": "8b1d684d",
   "metadata": {},
   "source": [
    "#### 3. How about this code: what is its result, and why?\n",
    "#### gt;&gt;&gt; def func(a, *pargs):\n",
    "#### print(a, pargs)\n",
    "#### &gt;&gt;&gt; func(1, 2, 3)"
   ]
  },
  {
   "cell_type": "code",
   "execution_count": 4,
   "id": "ab64aed9",
   "metadata": {},
   "outputs": [],
   "source": [
    "def func(a, *pargs):\n",
    "    print(a, pargs)\n",
    "    func(1, 2, 3)"
   ]
  },
  {
   "cell_type": "markdown",
   "id": "cabba950",
   "metadata": {},
   "source": [
    "In the func function definition, *pargs is used to collect any additional positional arguments passed to the function. When the function is called with func(1, 2, 3), the following happens:\n",
    "\n",
    "a is assigned the value 1 (provided as the first positional argument).\n",
    "*pargs collects the remaining positional arguments (2, 3) into a tuple.\n",
    "Therefore, the function prints 1 (2, 3), indicating that a is 1 and pargs is the tuple (2, 3)."
   ]
  },
  {
   "cell_type": "markdown",
   "id": "7cfc4d0b",
   "metadata": {},
   "source": [
    "#### 4. What does this code print, and why?\n",
    "#### &gt;&gt;&gt; def func(a, **kargs):\n",
    "#### print(a, kargs)\n",
    "#### &gt;&gt;&gt; func(a=1, c=3, b=2)"
   ]
  },
  {
   "cell_type": "code",
   "execution_count": 6,
   "id": "8b5ae517",
   "metadata": {},
   "outputs": [],
   "source": [
    "def func(a, **kargs):\n",
    "    print(a, kargs)\n",
    "    func(a=1, c=3, b=2)"
   ]
  },
  {
   "cell_type": "markdown",
   "id": "56274a49",
   "metadata": {},
   "source": [
    "In the func function definition, **kargs is used to collect any additional keyword arguments passed to the function. When the function is called with func(a=1, c=3, b=2), the following happens:\n",
    "\n",
    "a is assigned the value 1 (provided as a keyword argument).\n",
    "**kargs collects the remaining keyword arguments c=3 and b=2 into a dictionary.\n",
    "Therefore, the function prints 1 {'a': 1, 'c': 3, 'b': 2}, indicating that a is 1 and kargs is the dictionary {'a': 1, 'c': 3, 'b': 2} containing the additional keyword arguments passed to the function."
   ]
  },
  {
   "cell_type": "markdown",
   "id": "6789b8d1",
   "metadata": {},
   "source": [
    "#### 5. What gets printed by this, and explain?\n",
    "#### &gt;&gt;&gt; def func(a, b, c=8, d=5): print(a, b, c, d)\n",
    "#### &gt;&gt;&gt; func(1, *(5, 6))"
   ]
  },
  {
   "cell_type": "code",
   "execution_count": 7,
   "id": "a592ece0",
   "metadata": {},
   "outputs": [
    {
     "name": "stdout",
     "output_type": "stream",
     "text": [
      "1 5 6 5\n"
     ]
    }
   ],
   "source": [
    "def func(a, b, c=8, d=5): print(a, b, c, d)\n",
    "func(1, *(5, 6))"
   ]
  },
  {
   "cell_type": "markdown",
   "id": "ae3788d3",
   "metadata": {},
   "source": [
    "The func function is defined with four parameters: a, b, c, and d, where c and d have default values of 8 and 5 respectively.\n",
    "\n",
    "When the function is called with func(1, *(5, 6)), the * operator is used to unpack the tuple (5, 6) into positional arguments. Therefore, the function call becomes equivalent to func(1, 5, 6), where 1 is assigned to a, 5 is assigned to b, and 6 is assigned to c. Since d doesn't have a provided value, it retains its default value of 5.\n",
    "\n",
    "As a result, the function prints 1 5 6 5, indicating the values of a, b, c, and d at the time of the function call."
   ]
  },
  {
   "cell_type": "markdown",
   "id": "de4b5d6b",
   "metadata": {},
   "source": [
    "#### 6. what is the result of this, and explain?\n",
    "#### &gt;&gt;&gt; def func(a, b, c): a = 2; b[0] = &#39;x&#39;; c[&#39;a&#39;] = &#39;y&#39;\n",
    "#### &gt;&gt;&gt; l=1; m=[1]; n={&#39;a&#39;:0}\n",
    "#### &gt;&gt;&gt; func(l, m, n)\n",
    "\n",
    "#### &gt;&gt;&gt; l, m, n"
   ]
  },
  {
   "cell_type": "code",
   "execution_count": 11,
   "id": "58a28fbb",
   "metadata": {},
   "outputs": [],
   "source": [
    "def func(a, b, c): \n",
    "    a = 2; \n",
    "    b[0] = 'x'; c['a'] = 'y'\n",
    "    l=1; m=[1]; n={'a':0}\n",
    "    func(l, m, n)\n",
    "    l, m, n"
   ]
  },
  {
   "cell_type": "markdown",
   "id": "e8c55ab3",
   "metadata": {},
   "source": [
    "l is an immutable integer variable with a value of 1. Since immutable objects cannot be modified inside the function, l remains unchanged after the function call.\n",
    "\n",
    "m is a mutable list with a single element 1. The function modifies the first element of the list, changing it from 1 to 'x'.\n",
    "\n",
    "n is a mutable dictionary with a key 'a' and a value 0. The function modifies the value associated with the key 'a', changing it from 0 to 'y'.\n",
    "\n",
    "After the function call, the values of l, m, and n are printed. l remains 1 because integers are immutable and cannot be changed within the function. m becomes ['x'] because lists are mutable, and the function modifies the list inside the function. n becomes {'a': 'y'} because dictionaries are mutable, and the function modifies the dictionary inside the function."
   ]
  }
 ],
 "metadata": {
  "kernelspec": {
   "display_name": "Python 3",
   "language": "python",
   "name": "python3"
  },
  "language_info": {
   "codemirror_mode": {
    "name": "ipython",
    "version": 3
   },
   "file_extension": ".py",
   "mimetype": "text/x-python",
   "name": "python",
   "nbconvert_exporter": "python",
   "pygments_lexer": "ipython3",
   "version": "3.8.8"
  }
 },
 "nbformat": 4,
 "nbformat_minor": 5
}
