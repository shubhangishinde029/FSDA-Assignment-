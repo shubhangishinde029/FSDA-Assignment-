{
 "cells": [
  {
   "cell_type": "markdown",
   "id": "5a4b8040",
   "metadata": {},
   "source": [
    "### 1. How do you distinguish between shutil.copy() and shutil.copytree()?"
   ]
  },
  {
   "cell_type": "markdown",
   "id": "8c3e031d",
   "metadata": {},
   "source": [
    "In Python's shutil module, both shutil.copy() and shutil.copytree() functions are used for file operations, but they serve different purposes:\n",
    "\n",
    "shutil.copy(src, dst):\n",
    "\n",
    "This function is used to copy a single file from the source path (src) to the destination path (dst).\n",
    "If dst is a directory, the file will be copied into that directory with the same name.\n",
    "If dst is a file path, the file will be copied and overwritten if the destination file already exists.\n",
    "\n",
    "shutil.copytree(src, dst):\n",
    "\n",
    "This function is used to copy an entire directory tree from the source directory (src) to the destination directory (dst).\n",
    "It recursively copies all files and subdirectories from the source to the destination.\n",
    "If dst directory doesn't exist, it will be created. If it exists, the content of src will be copied into dst.\n",
    "\n",
    "shutil.copy() is used for copying individual files, whereas shutil.copytree() is used for copying entire directories and their contents."
   ]
  },
  {
   "cell_type": "markdown",
   "id": "717e221f",
   "metadata": {},
   "source": [
    "### 2. What function is used to rename files??"
   ]
  },
  {
   "cell_type": "markdown",
   "id": "339be960",
   "metadata": {},
   "source": [
    "To rename files in Python, you can use the os.rename() function from the os module"
   ]
  },
  {
   "cell_type": "markdown",
   "id": "f6e8bd41",
   "metadata": {},
   "source": [
    "### 3. What is the difference between the delete functions in the send2trash and shutil modules?"
   ]
  },
  {
   "cell_type": "markdown",
   "id": "970ccd32",
   "metadata": {},
   "source": [
    "Both the send2trash and shutil modules in Python provide functions to delete files, but they have different approaches and purposes:\n",
    "\n",
    "send2trash Module:\n",
    "send2trash is a third-party Python module that provides a safe way to delete files by moving them to the trash or recycle bin instead of permanently deleting them. It's particularly useful when you want to delete files but still have the option to recover them from the trash.\n",
    "\n",
    "send2trash.send2trash(path):\n",
    "This function moves the file or directory specified by path to the trash or recycle bin.\n",
    "\n",
    "\n",
    "shutil Module:\n",
    "The shutil module is part of the Python standard library and provides various file operations, including deleting files. Unlike send2trash, the shutil module's os.remove() function permanently deletes files.\n",
    "\n",
    "shutil.rmtree(path):\n",
    "This function is used to delete a directory and all its contents (including subdirectories and files).\n",
    "Note: Be cautious when using shutil.rmtree() as it permanently deletes files and directories without moving them to the trash.\n",
    "    \n",
    "os.remove(path):\n",
    "This function is used to delete a single file.\n",
    "Note: Like shutil.rmtree(), os.remove() permanently deletes files without moving them to the trash.\n",
    "\n",
    "In summary, send2trash is preferred when you want to delete files or directories and have the option to recover them from the trash. On the other hand, functions from the shutil module (shutil.rmtree() and os.remove()) are used for permanent deletion without the option for recovery from the trash.    "
   ]
  },
  {
   "cell_type": "markdown",
   "id": "ec61d87f",
   "metadata": {},
   "source": [
    "### 4.ZipFile objects have a close() method just like File objects’ close() method. What ZipFile method is equivalent to File objects’ open() method?"
   ]
  },
  {
   "cell_type": "markdown",
   "id": "9db62be7",
   "metadata": {},
   "source": [
    "The equivalent method to the open() method for ZipFile objects in the zipfile module is the zipfile.ZipFile() constructor. When you want to work with a ZIP file, you create a ZipFile object using its constructor. Here's how you can use it to open a ZIP file"
   ]
  },
  {
   "cell_type": "markdown",
   "id": "a107a4fb",
   "metadata": {},
   "source": [
    "### 5. Create a programme that searches a folder tree for files with a certain file extension (such as .pdf or .jpg). Copy these files from whatever location they are in to a new folder."
   ]
  },
  {
   "cell_type": "markdown",
   "id": "f0685a67",
   "metadata": {},
   "source": [
    "To achieve this, you can use the os and shutil modules in Python. Here's a program that searches for files with a specified file extension (e.g., .pdf or .jpg) within a folder tree and copies them to a new folder:\n",
    "import os\n",
    "import shutil\n",
    "\n",
    "def search_and_copy_files(src_folder, dest_folder, file_extension):\n",
    "    # Iterate through the source folder and its subdirectories\n",
    "    for foldername, subfolders, filenames in os.walk(src_folder):\n",
    "        for filename in filenames:\n",
    "            # Check if the file has the specified file extension\n",
    "            if filename.lower().endswith(file_extension.lower()):\n",
    "                # Construct the source and destination file paths\n",
    "                src_file_path = os.path.join(foldername, filename)\n",
    "                dest_file_path = os.path.join(dest_folder, filename)\n",
    "                # Copy the file to the destination folder\n",
    "                shutil.copy2(src_file_path, dest_file_path)\n",
    "                print(f\"Copied: {src_file_path} to {dest_file_path}\")\n",
    "\n",
    "#### Specify the source folder, destination folder, and file extension\n",
    "src_folder = '/path/to/source/folder'  # Replace this with the path to your source folder\n",
    "dest_folder = '/path/to/destination/folder'  # Replace this with the path to your destination folder\n",
    "file_extension = '.pdf'  # Specify the file extension you want to search for\n",
    "\n",
    "#### Call the function to search and copy files\n",
    "search_and_copy_files(src_folder, dest_folder, file_extension)\n",
    "Replace '/path/to/source/folder' with the path to the folder where you want to search for files, '/path/to/destination/folder' with the path to the folder where you want to copy the files, and '.pdf' with the desired file extension.\n",
    "\n",
    "In this program, the os.walk() function is used to traverse the source folder and its subdirectories. For each file found with the specified file extension, shutil.copy2() is used to copy the file to the destination folder. The shutil.copy2() function preserves the original file metadata, such as timestamps, when copying the file."
   ]
  }
 ],
 "metadata": {
  "kernelspec": {
   "display_name": "Python 3",
   "language": "python",
   "name": "python3"
  },
  "language_info": {
   "codemirror_mode": {
    "name": "ipython",
    "version": 3
   },
   "file_extension": ".py",
   "mimetype": "text/x-python",
   "name": "python",
   "nbconvert_exporter": "python",
   "pygments_lexer": "ipython3",
   "version": "3.8.8"
  }
 },
 "nbformat": 4,
 "nbformat_minor": 5
}
