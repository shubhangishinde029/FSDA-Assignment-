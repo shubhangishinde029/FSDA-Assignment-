{
 "cells": [
  {
   "cell_type": "markdown",
   "id": "f39582c3",
   "metadata": {},
   "source": [
    "#### 1. What advantages do Excel spreadsheets have over CSV spreadsheets?"
   ]
  },
  {
   "cell_type": "markdown",
   "id": "4e11aaab",
   "metadata": {},
   "source": [
    "Excel spreadsheets and CSV (Comma-Separated Values) files serve different purposes, and each format has its own advantages and disadvantages. Here are some advantages of Excel spreadsheets over CSV spreadsheets:\n",
    "\n",
    "#### Rich Formatting and Styling:\n",
    "\n",
    "Excel supports rich formatting options, including various font styles, colors, cell borders, and background shading. You can create visually appealing and well-formatted documents, which is not possible in a plain CSV file.\n",
    "\n",
    "#### Multiple Sheets:\n",
    "\n",
    "Excel files can contain multiple sheets within a single file. Each sheet can have its own set of data, allowing you to organize and categorize information effectively. CSV files store only one sheet of data per file.\n",
    "\n",
    "#### Cell Formulas and Functions:\n",
    "\n",
    "Excel allows the use of formulas and functions within cells. You can perform calculations, manipulate data, and create complex formulas. Formulas can reference other cells, perform mathematical operations, and more. CSV files only store raw data and do not support formulas or functions.\n",
    "\n",
    "#### Data Validation and Drop-Down Lists:\n",
    "\n",
    "Excel enables the use of data validation rules to restrict the type of data entered into cells. You can create drop-down lists, specify date ranges, or restrict values based on predefined criteria. This feature helps maintain data integrity and consistency, which is not available in CSV files.\n",
    "\n",
    "#### Charts and Graphs:\n",
    "\n",
    "Excel allows you to create various types of charts and graphs to visualize data trends. You can create bar charts, pie charts, line charts, and more directly within Excel. While you can import data from CSV files into Excel for charting, the creation of charts is a native feature of Excel.\n",
    "\n",
    "#### Cell Merging and Splitting:\n",
    "\n",
    "Excel supports cell merging, allowing you to merge multiple cells into a single larger cell. This feature is useful for creating headers or labels that span across multiple columns or rows. CSV files do not support cell merging.\n",
    "\n",
    "#### Data Filters and Sorting:\n",
    "\n",
    "Excel provides built-in features for filtering and sorting data. You can easily sort columns alphabetically or numerically, apply custom filters to display specific data, and perform advanced filtering based on criteria. CSV files do not have these features.\n",
    "\n",
    "#### Data Protection and Security:\n",
    "\n",
    "Excel allows you to password-protect sheets and workbooks, restricting access to sensitive information. You can also set permissions for specific users to view or edit specific parts of the workbook. CSV files do not offer built-in security features.\n"
   ]
  },
  {
   "cell_type": "markdown",
   "id": "905060ff",
   "metadata": {},
   "source": [
    "#### 2.What do you pass to csv.reader() and csv.writer() to create reader and writer objects?"
   ]
  },
  {
   "cell_type": "markdown",
   "id": "137e39d0",
   "metadata": {},
   "source": [
    "To create reader and writer objects using the csv module in Python, you pass a file object opened in the appropriate mode. Here's how you can create reader and writer objects:\n",
    "\n",
    "#### Creating a CSV Reader Object:\n",
    "\n",
    "To create a CSV reader object, you pass a file object opened in text mode ('rt' or simply 'r') to the csv.reader() function. The file object should be opened with the CSV file in read mode.\n",
    "\n",
    " import csv\n",
    "\n",
    "#### # Open the CSV file in read mode\n",
    " with open('your_csv_file.csv', 'r') as file:\n",
    "####    # Create a CSV reader object\n",
    "   csv_reader = csv.reader(file)\n",
    "\n",
    "####    # Now you can use csv_reader to read data from the CSV file\n",
    "   for row in csv_reader:\n",
    "   print(row)\n",
    "   \n",
    "   \n",
    "#### Creating a CSV Writer Object:\n",
    "\n",
    "To create a CSV writer object, you pass a file object opened in text mode ('wt' or simply 'w') to the csv.writer() function. The file object should be opened with the CSV file in write mode.   \n",
    "\n",
    "import csv\n",
    "\n",
    "#### #Open a CSV file in write mode\n",
    "with open('output_csv_file.csv', 'w', newline='') as file:\n",
    "####    # Create a CSV writer object\n",
    "    csv_writer = csv.writer(file)\n",
    "\n",
    "####    # Use csv_writer to write data to the CSV file\n",
    "    csv_writer.writerow(['Column1', 'Column2', 'Column3'])  # Write header row\n",
    "    csv_writer.writerow(['Value1', 'Value2', 'Value3'])      # Write data row"
   ]
  },
  {
   "cell_type": "markdown",
   "id": "02a84574",
   "metadata": {},
   "source": [
    "#### 3. What modes do File objects for reader and writer objects need to be opened in?"
   ]
  },
  {
   "cell_type": "markdown",
   "id": "9b716811",
   "metadata": {},
   "source": [
    "When working with reader and writer objects in Python's csv module, you need to open File objects in specific modes:\n",
    "\n",
    "#### CSV Reader Object:\n",
    "\n",
    "For the CSV reader object, you need to open the file in text mode ('rt' or simply 'r'). This mode indicates that you are opening the file for reading in text (string) mode.\n",
    "\n",
    "#### CSV Writer Object:\n",
    "\n",
    "For the CSV writer object, you need to open the file in text mode ('wt' or simply 'w'). This mode indicates that you are opening the file for writing in text (string) mode.\n",
    "It's also recommended to use the newline='' parameter when opening the file to ensure consistent handling of newlines across different platforms.\n",
    "In both cases, the file is opened with 'r' mode for reading and 'w' mode for writing. The 't' (text mode) is the default mode in Python 3, and it's used to indicate that the file should be treated as a text file."
   ]
  },
  {
   "cell_type": "markdown",
   "id": "bba45461",
   "metadata": {},
   "source": [
    "#### 4. What method takes a list argument and writes it to a CSV file?"
   ]
  },
  {
   "cell_type": "markdown",
   "id": "e5ad8b3f",
   "metadata": {},
   "source": [
    "The writerow() method in the csv module takes a list argument and writes it to a CSV file. This method is used with a csv.writer object to write a single row of data to the CSV file. Each element in the list represents a column in the CSV file.\n",
    "csv.writer.writerow() method writes the list ['Column1', 'Column2', 'Column3'] as a single row in the CSV file. Each element in the list corresponds to a column in the CSV file. You can call writerow() multiple times with different lists to write multiple rows of data to the CSV file."
   ]
  },
  {
   "cell_type": "markdown",
   "id": "ebd5e392",
   "metadata": {},
   "source": [
    "#### 5. What do the keyword arguments delimiter and line terminator do?"
   ]
  },
  {
   "cell_type": "markdown",
   "id": "969db253",
   "metadata": {},
   "source": [
    "In the context of the csv module in Python, the delimiter and lineterminator are optional keyword arguments used when reading from or writing to CSV files. They allow you to customize how the CSV module interprets and generates CSV content.\n",
    "\n",
    "#### delimiter Argument:\n",
    "\n",
    "The delimiter argument specifies the character used to separate fields (columns) in a CSV file. By default, the comma (,) is used as the delimiter.\n",
    "For example, if your CSV file uses a tab character ('\\t') as the field separator, you can specify it using the delimiter argument.\n",
    "\n",
    "#### lineterminator Argument:\n",
    "\n",
    "The lineterminator argument specifies the character sequence used to terminate lines (rows) in a CSV file. By default, the newline character ('\\n') is used as the line terminator on all platforms.\n",
    "For example, if you want to use a carriage return and newline ('\\r\\n') as the line terminator, you can specify it using the lineterminator argument.\n"
   ]
  },
  {
   "cell_type": "markdown",
   "id": "74a1e020",
   "metadata": {},
   "source": [
    "#### 6. What function takes a string of JSON data and returns a Python data structure?"
   ]
  },
  {
   "cell_type": "markdown",
   "id": "31e8470f",
   "metadata": {},
   "source": [
    "n Python, the json.loads() function is used to parse (load) a JSON-formatted string and convert it into a Python data structure. The json.loads() function stands for \"load string\" and is part of the json module in the Python standard library.\n",
    "the json_data variable contains a JSON-formatted string. The json.loads() function is called with this string as an argument, and it returns a Python dictionary representing the JSON data. The resulting Python dictionary (python_data) can be used as a normal Python data structure."
   ]
  },
  {
   "cell_type": "markdown",
   "id": "c77ac383",
   "metadata": {},
   "source": [
    "#### 7. What function takes a Python data structure and returns a string of JSON data?"
   ]
  },
  {
   "cell_type": "markdown",
   "id": "9f7de045",
   "metadata": {},
   "source": [
    "In Python, the json.dumps() function is used to serialize a Python data structure into a JSON-formatted string. The dumps function stands for \"dump string\" and is part of the json module in the Python standard library.\n",
    "You can also use additional parameters of json.dumps() to customize the serialization process, such as specifying the indent parameter to format the output with indentation for readability\n",
    "In this case, the indent=4 argument adds indentation of 4 spaces to the JSON output for improved readability."
   ]
  }
 ],
 "metadata": {
  "kernelspec": {
   "display_name": "Python 3",
   "language": "python",
   "name": "python3"
  },
  "language_info": {
   "codemirror_mode": {
    "name": "ipython",
    "version": 3
   },
   "file_extension": ".py",
   "mimetype": "text/x-python",
   "name": "python",
   "nbconvert_exporter": "python",
   "pygments_lexer": "ipython3",
   "version": "3.8.8"
  }
 },
 "nbformat": 4,
 "nbformat_minor": 5
}
