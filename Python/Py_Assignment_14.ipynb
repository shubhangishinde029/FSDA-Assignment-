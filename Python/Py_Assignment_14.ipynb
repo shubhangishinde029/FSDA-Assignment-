{
 "cells": [
  {
   "cell_type": "markdown",
   "id": "641af34f",
   "metadata": {},
   "source": [
    "### 1. What does RGBA stand for?"
   ]
  },
  {
   "cell_type": "markdown",
   "id": "4dc276cf",
   "metadata": {},
   "source": [
    " RGBA stands for Red, Green, Blue, and Alpha, which represents a color model where each color component (red, green, and blue) is represented by an 8-bit value ranging from 0 to 255, indicating the intensity of the color. The alpha channel (A) represents the transparency or opacity of the color and is also an 8-bit value, where 0 means completely transparent (invisible) and 255 means completely opaque (fully visible).\n",
    "\n",
    "In Python, RGBA colors are often represented as tuples of four integers ranging from 0 to 255, denoting the red, green, blue, and alpha values, respectively. For example, the RGBA tuple (255, 0, 0, 128) represents a semi-transparent red color, where the red component is fully saturated (255), the green and blue components are zero, and the alpha component is partially transparent (128)."
   ]
  },
  {
   "cell_type": "markdown",
   "id": "dd7fad92",
   "metadata": {},
   "source": [
    "### 2. From the Pillow module, how do you get the RGBA value of any images?"
   ]
  },
  {
   "cell_type": "markdown",
   "id": "fe42e484",
   "metadata": {},
   "source": [
    "In the Pillow (PIL) module, you can use the getpixel() method to get the RGBA (Red, Green, Blue, Alpha) value of any pixel in an image. Here's how you can do it:\n",
    "\n",
    "from PIL import Image\n",
    "\n",
    "#### # Open an image file\n",
    "image = Image.open('your_image.png')  # Replace 'your_image.png' with the path to your image file\n",
    "\n",
    "#### # Get the RGBA value of a specific pixel (x, y)\n",
    "x = 100  # x-coordinate of the pixel\n",
    "y = 50   # y-coordinate of the pixel\n",
    "\n",
    "#### # Get the RGBA value of the pixel at (x, y)\n",
    "rgba_value = image.getpixel((x, y))\n",
    "\n",
    "#### # Print the RGBA value\n",
    "print(f'RGBA value at pixel ({x}, {y}): {rgba_value}')\n",
    "\n",
    "\n",
    "In this code, replace 'your_image.png' with the path to the image file you want to work with. The getpixel() method takes a tuple of (x, y) coordinates as input and returns the RGBA value of the pixel at that position. The rgba_value will be a tuple containing four integers representing the Red, Green, Blue, and Alpha components of the pixel at the specified coordinates.\n",
    "\n",
    "Remember that the coordinates (x, y) start from the top-left corner of the image, where (0, 0) represents the pixel at the top-left corner. You can change the (x, y) values to get the RGBA values of different pixels in the image."
   ]
  },
  {
   "cell_type": "markdown",
   "id": "083d532a",
   "metadata": {},
   "source": [
    "### 3. What is a box tuple, and how does it work?"
   ]
  },
  {
   "cell_type": "markdown",
   "id": "325ea3ad",
   "metadata": {},
   "source": [
    "In the context of image processing and the Python Imaging Library (PIL), which is now known as Pillow, a box tuple is a tuple representing a rectangular region within an image. It is used to specify a bounding box around a portion of the image. The box tuple typically contains four integers representing the left, upper, right, and lower coordinates of the rectangular region, defining its boundaries.\n",
    "\n",
    "The format of a box tuple is (left, upper, right, lower), where:\n",
    "\n",
    "left is the x-coordinate of the left edge of the rectangle.\n",
    "upper is the y-coordinate of the upper edge of the rectangle.\n",
    "right is the x-coordinate of the right edge of the rectangle.\n",
    "lower is the y-coordinate of the lower edge of the rectangle.\n",
    "\n",
    "Here's how it works:\n",
    "\n",
    "Extracting a Region from an Image:\n",
    "You can use a box tuple to extract a specific region from an image using the crop() method in the Pillow library. For example, if you have an image object img, you can extract a portion of the image defined by a box tuple (left, upper, right, lower) like this:\n",
    "\n",
    "\n",
    "from PIL import Image\n",
    "\n",
    "#### # Open an image file\n",
    "img = Image.open('example.jpg')\n",
    "\n",
    "#### # Define a box tuple (left, upper, right, lower)\n",
    "box = (100, 50, 300, 250)  # Example coordinates\n",
    "\n",
    "#### # Crop the image using the box tuple\n",
    "cropped_img = img.crop(box)\n",
    "\n",
    "#### # Save the cropped image\n",
    "cropped_img.save('cropped_example.jpg')\n",
    "In this example, the crop() method takes the box tuple as an argument and extracts the region of the image defined by that bounding box.\n",
    "\n",
    "Drawing a Rectangle on an Image:\n",
    "You can also draw a rectangle around a specific region in an image using the ImageDraw module in Pillow. Here's an example:\n",
    "\n",
    "from PIL import Image, ImageDraw\n",
    "\n",
    "#### # Open an image file\n",
    "img = Image.open('example.jpg')\n",
    "\n",
    "#### # Define a box tuple (left, upper, right, lower)\n",
    "box = (100, 50, 300, 250)  # Example coordinates\n",
    "\n",
    "#### # Draw a rectangle around the region defined by the box tuple\n",
    "draw = ImageDraw.Draw(img)\n",
    "draw.rectangle(box, outline='red', width=2)\n",
    "\n",
    "#### #Save the image with the drawn rectangle\n",
    "img.save('image_with_rectangle.jpg')\n",
    "\n",
    "In this example, the ImageDraw.Draw() function is used to create a drawing context, and then the rectangle() method is called with the box tuple to draw a red rectangle around the specified region.\n",
    "\n",
    "Box tuples are versatile and commonly used in image processing tasks to define regions of interest, crop images, and draw shapes around specific areas within an image."
   ]
  },
  {
   "cell_type": "markdown",
   "id": "c322cea3",
   "metadata": {},
   "source": [
    "### 4. Use your image and load in notebook then, How can you find out the width and height of an Image object?"
   ]
  },
  {
   "cell_type": "markdown",
   "id": "916bdcb2",
   "metadata": {},
   "source": [
    "If you have an image loaded into a Jupyter Notebook using the Pillow library (PIL), you can find out the width and height of the image using the size attribute of the Image object. Here's how you can do it:\n",
    "\n",
    "First, make sure you have the Pillow library installed. If you haven't installed it yet, you can do so by running the following command in a Jupyter Notebook cell:\n",
    "\n",
    "!pip install pillow\n",
    "Once Pillow is installed, you can use it to work with images in your Jupyter Notebook. Here's an example of how to find out the width and height of an image loaded into the notebook:\n",
    "\n",
    "\n",
    "from PIL import Image\n",
    "import requests\n",
    "from io import BytesIO\n",
    "import IPython.display as display\n",
    "\n",
    "#### # Example: Load an image from a URL\n",
    "image_url = 'https://example.com/your_image.jpg'\n",
    "response = requests.get(image_url)\n",
    "img = Image.open(BytesIO(response.content))\n",
    "\n",
    "#### # Display the image in the notebook\n",
    "display.display(img)\n",
    "\n",
    "#### # Get the width and height of the Image object\n",
    "width, height = img.size\n",
    "\n",
    "#### # Print the width and height\n",
    "print(f'Width: {width}, Height: {height}')\n",
    "\n",
    "In this example, replace 'https://example.com/your_image.jpg' with the URL of your image. The Image.open() function is used to open the image from the URL. The width and height of the image are obtained using the size attribute of the img object, and then they are printed out.\n",
    "\n",
    "When you run this code in a Jupyter Notebook cell, it will display the image and print its width and height below the image."
   ]
  },
  {
   "cell_type": "markdown",
   "id": "9ae75120",
   "metadata": {},
   "source": [
    "### 5. What method would you call to get Image object for a 100×100 image, excluding the lower-leftquarter of it?"
   ]
  },
  {
   "cell_type": "markdown",
   "id": "9180399a",
   "metadata": {},
   "source": [
    "To obtain an Image object for a 100×100 image excluding the lower-left quarter of it, you can use the crop() method from the Pillow (PIL) library. The crop() method allows you to extract a rectangular region (specified by a box tuple) from an image.\n",
    "original_image.crop(box) crops the original image based on the specified box tuple (0, 50, 50, 100), which corresponds to the lower-left quarter of a 100×100 image. You can adjust the box tuple based on your specific requirements and image dimensions. The cropped_image variable will hold the resulting cropped image, and you can choose to display it or save it to a file as needed."
   ]
  },
  {
   "cell_type": "markdown",
   "id": "e5e92f7b",
   "metadata": {},
   "source": [
    "### 6. After making changes to an Image object, how could you save it as an image file?"
   ]
  },
  {
   "cell_type": "markdown",
   "id": "b4a4b0a5",
   "metadata": {},
   "source": [
    "After making changes to an Image object in Pillow (PIL), you can save it as an image file using the save() method. The save() method allows you to save the modified Image object to a file with the specified file path and format.\n",
    "\n",
    "from PIL import Image\n",
    "\n",
    "#### # Open an image file\n",
    "image = Image.open('original_image.jpg')  # Replace 'original_image.jpg' with your image file path\n",
    "\n",
    "#### # Perform operations on the image (e.g., cropping, resizing, filtering, etc.)\n",
    "\n",
    "\n",
    "#### # Save the modified image to a file\n",
    "\n",
    "image.save('modified_image.jpg')  # Specify the desired file path and format (e.g., 'modified_image.jpg')\n",
    "In the save() method, you need to provide the desired file path and filename, including the file extension that corresponds to the image format you want to use (e.g., 'modified_image.jpg', 'output.png', etc.). Pillow will automatically determine the format based on the file extension.\n",
    "\n",
    "You can also specify additional options such as the image format, quality, and DPI (dots per inch) using keyword arguments. For example:\n",
    "\n",
    "#### # Save the modified image with specific options\n",
    "image.save('modified_image.jpg', format='JPEG', quality=90, dpi=(300, 300))\n",
    "\n",
    "In this example, the format argument specifies the desired image format, quality determines the image compression quality (for formats like JPEG), and dpi sets the dots per inch resolution for printing (if applicable). You can adjust these options based on your requirements."
   ]
  },
  {
   "cell_type": "markdown",
   "id": "b1c87224",
   "metadata": {},
   "source": [
    "### 7. What module contains Pillow’s shape-drawing code?"
   ]
  },
  {
   "cell_type": "markdown",
   "id": "1a7c37bd",
   "metadata": {},
   "source": [
    "Pillow's shape-drawing code is contained within the ImageDraw module. The ImageDraw module provides a set of methods to draw shapes, text, and other graphic elements on Image objects in the Pillow (PIL) library. You can use this module to create and modify images by drawing various shapes like lines, rectangles, ellipses, polygons, and text onto the images. \n",
    "ImageDraw is used to draw a red rectangle and a blue ellipse on a blank white image. You can use various methods provided by the ImageDraw module to draw different shapes and text on images."
   ]
  },
  {
   "cell_type": "markdown",
   "id": "e217d120",
   "metadata": {},
   "source": [
    "### 8. Image objects do not have drawing methods. What kind of object does? How do you get this kind of object?"
   ]
  },
  {
   "cell_type": "markdown",
   "id": "64a783e4",
   "metadata": {},
   "source": [
    "'Image' objects in the Pillow library (PIL) do not have direct drawing methods. To draw on images, you need to use an ImageDraw object. ImageDraw objects have drawing methods that allow you to draw shapes, text, and other graphic elements on images.\n",
    "you open an existing image or create a new one, and then you create an ImageDraw object using the ImageDraw.Draw() function. The draw object now has various methods, such as rectangle(), ellipse(), line(), text(), etc., which allow you to draw shapes and text on the image.\n",
    "\n",
    "After drawing on the ImageDraw object, you can save or display the modified image, as shown in the previous examples. This separation of Image objects and ImageDraw objects allows you to perform various drawing operations on images without modifying the original image data directly."
   ]
  }
 ],
 "metadata": {
  "kernelspec": {
   "display_name": "Python 3",
   "language": "python",
   "name": "python3"
  },
  "language_info": {
   "codemirror_mode": {
    "name": "ipython",
    "version": 3
   },
   "file_extension": ".py",
   "mimetype": "text/x-python",
   "name": "python",
   "nbconvert_exporter": "python",
   "pygments_lexer": "ipython3",
   "version": "3.8.8"
  }
 },
 "nbformat": 4,
 "nbformat_minor": 5
}
