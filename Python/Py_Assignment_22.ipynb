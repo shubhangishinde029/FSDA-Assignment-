{
 "cells": [
  {
   "cell_type": "markdown",
   "id": "da02f054",
   "metadata": {},
   "source": [
    "#### 1. What is the result of the code, and explain?\n",
    "\n",
    "#### &gt;&gt;&gt; X = &#39;iNeuron&#39;\n",
    "#### &gt;&gt;&gt; def func():\n",
    "#### print(X)\n",
    "\n",
    "#### &gt;&gt;&gt; func()"
   ]
  },
  {
   "cell_type": "code",
   "execution_count": 5,
   "id": "29038d47",
   "metadata": {},
   "outputs": [],
   "source": [
    "X = 'iNeuron'\n",
    "def func():\n",
    "    print(X)\n",
    "    func()"
   ]
  },
  {
   "cell_type": "markdown",
   "id": "fc1fcdd0",
   "metadata": {},
   "source": [
    "X = 'iNeuron': This line assigns the string 'iNeuron' to the variable X.\n",
    "\n",
    "def func():: This line defines a function named func.\n",
    "\n",
    "print(X): Inside the func function, it prints the value of the variable X, which is 'iNeuron'.\n",
    "\n",
    "func(): This line calls the func function, causing it to execute and print the value of X."
   ]
  },
  {
   "cell_type": "markdown",
   "id": "40f0938b",
   "metadata": {},
   "source": [
    "#### 2. What is the result of the code, and explain?\n",
    "\n",
    "#### &gt;&gt;&gt; X = &#39;iNeuron&#39;\n",
    "#### &gt;&gt;&gt; def func():\n",
    "#### X = &#39;NI!&#39;\n",
    "\n",
    "#### &gt;&gt;&gt; func()\n",
    "#### &gt;&gt;&gt; print(X)"
   ]
  },
  {
   "cell_type": "code",
   "execution_count": 11,
   "id": "aefd2b20",
   "metadata": {},
   "outputs": [
    {
     "name": "stdout",
     "output_type": "stream",
     "text": [
      "iNeuron\n"
     ]
    }
   ],
   "source": [
    "X = 'iNeuron'\n",
    "def func():\n",
    "    X = 'NI!'\n",
    "    func()\n",
    "print(X)"
   ]
  },
  {
   "cell_type": "markdown",
   "id": "c4f555ef",
   "metadata": {},
   "source": [
    " X = 'iNeuron': This line assigns the string 'iNeuron' to the variable X.\n",
    "\n",
    "def func():: This line defines a function named func.\n",
    "\n",
    "X = 'NI!': Inside the func function, a local variable X is assigned the string 'NI!'. This local variable X is different from the global variable X defined outside the function.\n",
    "\n",
    "func(): This line calls the func function. Inside the function, a local variable X with the value 'NI!' is created, but this does not affect the global variable X.\n",
    "\n",
    "print(X): This line prints the global variable X, which is still 'iNeuron'."
   ]
  },
  {
   "cell_type": "markdown",
   "id": "97faf82c",
   "metadata": {},
   "source": [
    "#### 3. What does this code print, and why?\n",
    "\n",
    "#### &gt;&gt;&gt; X = &#39;iNeuron&#39;\n",
    "#### gt;&gt;&gt; def func():\n",
    "#### X = &#39;NI&#39;\n",
    "#### print(X)\n",
    "\n",
    "#### &gt;&gt;&gt; func()\n",
    "#### gt;&gt;&gt; print(X)"
   ]
  },
  {
   "cell_type": "code",
   "execution_count": 44,
   "id": "99f90c36",
   "metadata": {},
   "outputs": [],
   "source": [
    "X = 'iNeuron'\n",
    "def func():\n",
    "    X = 'NI'\n",
    "    print(X)\n",
    "    func()\n",
    "    print(X)"
   ]
  },
  {
   "cell_type": "markdown",
   "id": "1756c8c8",
   "metadata": {},
   "source": [
    "X = 'iNeuron': This line assigns the string 'iNeuron' to the global variable X.\n",
    "\n",
    "def func():: This line defines a function named func.\n",
    "\n",
    "X = 'NI': Inside the func function, a local variable X is assigned the string 'NI'. This local variable X shadows the global variable X within the scope of the function.\n",
    "\n",
    "print(X): Inside the function, the local variable X with the value 'NI' is printed. This prints 'NI' when the function is called.\n",
    "\n",
    "func(): This line calls the func function. Inside the function, the local variable X is printed, so 'NI' is printed.\n",
    "\n",
    "print(X): Outside the function, the global variable X with the value 'iNeuron' is printed. This prints 'iNeuron'."
   ]
  },
  {
   "cell_type": "markdown",
   "id": "8e605cd6",
   "metadata": {},
   "source": [
    "#### 4. What output does this code produce? Why?\n",
    "\n",
    "#### &gt;&gt;&gt; X = &#39;iNeuron&#39;\n",
    "#### &gt;&gt;&gt; def func():\n",
    "#### global X\n",
    "#### X = &#39;NI&#39;\n",
    "\n",
    "#### gt;&gt;&gt; func()\n",
    "#### &gt;&gt;&gt; print(X)"
   ]
  },
  {
   "cell_type": "code",
   "execution_count": 47,
   "id": "c587938f",
   "metadata": {},
   "outputs": [],
   "source": [
    "X = 'iNeuron'\n",
    "def func():\n",
    "    global X\n",
    "    X = 'NI'\n",
    "    func()\n",
    "    print(X)"
   ]
  },
  {
   "cell_type": "markdown",
   "id": "ef66916d",
   "metadata": {},
   "source": [
    "X = 'iNeuron': This line initializes a global variable X with the value 'iNeuron'.\n",
    "\n",
    "def func():: This line defines a function named func.\n",
    "\n",
    "global X: This line inside the func function declares that the variable X being used is the global variable X, not a local variable. This allows the function to modify the global variable.\n",
    "\n",
    "X = 'NI': Inside the func function, the global variable X is assigned the string 'NI'. Since X is declared as a global variable inside the function, this assignment modifies the global variable, not a local variable.\n",
    "\n",
    "func(): This line calls the func function. Inside the function, the global variable X is modified to 'NI'.\n",
    "\n",
    "print(X): Outside the function, the modified global variable X with the value 'NI' is printed. This prints 'NI'."
   ]
  },
  {
   "cell_type": "markdown",
   "id": "7e767155",
   "metadata": {},
   "source": [
    "#### 5. What about this code—what’s the output, and why?\n",
    "\n",
    "#### &gt;&gt;&gt; X = &#39;iNeuron&#39;\n",
    "#### &gt;&gt;&gt; def func():\n",
    "#### X = &#39;NI&#39;\n",
    "#### def nested():\n",
    "#### print(X)\n",
    "#### nested()\n",
    "\n",
    "#### &gt;&gt;&gt; func()\n",
    "#### &gt;&gt;&gt; X"
   ]
  },
  {
   "cell_type": "code",
   "execution_count": 49,
   "id": "ecedc7f1",
   "metadata": {},
   "outputs": [],
   "source": [
    "X = 'iNeuron'\n",
    "def func():\n",
    "    X = 'NI'\n",
    "    def nested():\n",
    "        print(X)\n",
    "        nested()\n",
    "        func()\n",
    "        X"
   ]
  },
  {
   "cell_type": "markdown",
   "id": "f5f38658",
   "metadata": {},
   "source": [
    "X = 'iNeuron': This line initializes a global variable X with the value 'iNeuron'.\n",
    "\n",
    "def func():: This line defines a function named func.\n",
    "\n",
    "X = 'NI': Inside the func function, a local variable X is assigned the string 'NI'. This local variable X shadows the global variable X within the scope of the func function.\n",
    "\n",
    "def nested():: This line defines a nested function named nested.\n",
    "\n",
    "print(X): Inside the nested function, it prints the value of the local variable X, which is the string 'NI' from the outer func function scope.\n",
    "\n",
    "nested(): This line calls the nested nested function. Inside the nested function, the local variable X from the func function is printed, so 'NI' is printed.\n",
    "\n",
    "func(): This line calls the func function. Inside the func function, the local variable X with the value 'NI' is printed by the nested function, then the outer func function exits, and the global variable X with the value 'iNeuron' is printed.\n",
    "\n",
    "X: This line, which is not indented properly, refers to the global variable X. However, since it is not being used or printed, it does not affect the output."
   ]
  },
  {
   "cell_type": "markdown",
   "id": "2d3e1681",
   "metadata": {},
   "source": [
    "#### 6. How about this code: what is its output in Python 3, and explain?\n",
    "\n",
    "#### &gt;&gt;&gt; def func():\n",
    "#### X = &#39;NI&#39;\n",
    "#### def nested():\n",
    "#### nonlocal X\n",
    "#### X = &#39;Spam&#39;\n",
    "#### nested()\n",
    "#### print(X)\n",
    "\n",
    "#### &gt;&gt;&gt; func()"
   ]
  },
  {
   "cell_type": "code",
   "execution_count": 51,
   "id": "6b29eb1a",
   "metadata": {},
   "outputs": [],
   "source": [
    "def func():\n",
    "    X = 'NI'\n",
    "    def nested():\n",
    "        nonlocal X\n",
    "        X = 'Spam'\n",
    "        nested()\n",
    "        print(X)\n",
    "        func()"
   ]
  },
  {
   "cell_type": "markdown",
   "id": "f30de8c0",
   "metadata": {},
   "source": [
    "The given code will raise a SyntaxError in Python 3 because the nonlocal keyword is used without a corresponding variable. In Python, the nonlocal keyword is used to indicate that a variable is nonlocal, meaning it is not local to the current function but refers to a variable in an outer (enclosing) scope. However, it must refer to a variable that already exists in an enclosing scope. In the given code, nonlocal X is used without an existing X in an enclosing scope, causing a syntax error."
   ]
  }
 ],
 "metadata": {
  "kernelspec": {
   "display_name": "Python 3",
   "language": "python",
   "name": "python3"
  },
  "language_info": {
   "codemirror_mode": {
    "name": "ipython",
    "version": 3
   },
   "file_extension": ".py",
   "mimetype": "text/x-python",
   "name": "python",
   "nbconvert_exporter": "python",
   "pygments_lexer": "ipython3",
   "version": "3.8.8"
  }
 },
 "nbformat": 4,
 "nbformat_minor": 5
}
