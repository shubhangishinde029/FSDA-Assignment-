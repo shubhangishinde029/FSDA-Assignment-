{
 "cells": [
  {
   "cell_type": "markdown",
   "id": "785aa0a8",
   "metadata": {},
   "source": [
    "### 1. Is the Python Standard Library included with PyInputPlus?"
   ]
  },
  {
   "cell_type": "markdown",
   "id": "8fc372e0",
   "metadata": {},
   "source": [
    "Python Standard Library is not included with PyInputPlus. PyInputPlus is a separate third-party library that provides additional features for taking input from users, such as input validation and retrying in case of invalid input. While PyInputPlus can be installed and used alongside the Python Standard Library, it is not a part of the standard library itself. You need to install PyInputPlus separately if you want to use its functionalities in your Python programs."
   ]
  },
  {
   "cell_type": "markdown",
   "id": "6ebf798a",
   "metadata": {},
   "source": [
    "### 2. Why is PyInputPlus commonly imported with import pyinputplus as pypi?"
   ]
  },
  {
   "cell_type": "markdown",
   "id": "a435d4a9",
   "metadata": {},
   "source": [
    "The practice of importing PyInputPlus as pypi is just a convention and not a requirement. When developers import modules, they often use abbreviations to make the code shorter and more readable. Using pypi as an alias for pyinputplus can save typing and make the code more concise, especially when PyInputPlus functions are used frequently in the code. However, you can choose any valid Python variable name as an alias. For example, you could import PyInputPlus as input_module or any other name you find meaningful and descriptive for your particular use case. The choice of alias depends on the developer's preference and coding style."
   ]
  },
  {
   "cell_type": "markdown",
   "id": "d49efe3c",
   "metadata": {},
   "source": [
    "### 3. How do you distinguish between inputInt() and inputFloat()?"
   ]
  },
  {
   "cell_type": "markdown",
   "id": "af46c3d1",
   "metadata": {},
   "source": [
    "In the PyInputPlus library, inputInt() and inputFloat() are functions used to obtain integer and floating-point input from the user, respectively. Here's how you distinguish between the two:\n",
    "\n",
    "1.inputInt(prompt=None, default=None, limit=None, timeout=None, allowRegexes=None, blockRegexes=None):\n",
    "\n",
    "inputInt() is used to get an integer input from the user.\n",
    "If the user enters a non-integer value, it will raise a pyinputplus.RetryLimitException or a pyinputplus.TimeoutException if the user exceeds the allowed number of retries or the specified time limit.\n",
    "You can use inputInt() if you specifically need an integer input from the user and want to ensure that the input is an integer.\n",
    "\n",
    "2.inputFloat(prompt=None, default=None, limit=None, timeout=None, allowRegexes=None, blockRegexes=None):\n",
    "\n",
    "inputFloat() is used to get a floating-point input from the user.\n",
    "If the user enters a non-floating-point value, it will raise a pyinputplus.RetryLimitException or a pyinputplus.TimeoutException if the user exceeds the allowed number of retries or the specified time limit.\n",
    "You can use inputFloat() if you need a number that can have decimal points, such as 3.14 or 2.718.\n",
    "\n",
    "\n",
    "\n"
   ]
  },
  {
   "cell_type": "markdown",
   "id": "877489aa",
   "metadata": {},
   "source": [
    "### 4. Using PyInputPlus, how do you ensure that the user enters a whole number between 0 and 99?"
   ]
  },
  {
   "cell_type": "markdown",
   "id": "11260240",
   "metadata": {},
   "source": [
    "You can use the inputInt() function from the PyInputPlus library along with the min and max arguments to ensure that the user enters a whole number between 0 and 99. The min argument specifies the minimum allowed value, and the max argument specifies the maximum allowed value."
   ]
  },
  {
   "cell_type": "markdown",
   "id": "457dbbea",
   "metadata": {},
   "source": [
    "import pyinputplus as pyip\n",
    "num = pyip.inputInt(prompt=\"Enter a whole number between 0 and 99: \", min=0, max=99)\n",
    "\n",
    "print(\"You entered:\", num)"
   ]
  },
  {
   "cell_type": "markdown",
   "id": "a2f107a5",
   "metadata": {},
   "source": [
    "In this example, the inputInt() function ensures that the user's input is an integer. The min=0 argument specifies that the minimum allowed value is 0, and the max=99 argument specifies that the maximum allowed value is 99. If the user enters a value outside this range or a non-integer value, PyInputPlus will automatically handle the situation by asking the user to enter a valid value."
   ]
  },
  {
   "cell_type": "markdown",
   "id": "2fa7886d",
   "metadata": {},
   "source": [
    "### 5. What is transferred to the keyword arguments allowRegexes and blockRegexes?"
   ]
  },
  {
   "cell_type": "markdown",
   "id": "bd1da392",
   "metadata": {},
   "source": [
    "In the PyInputPlus library, the allowRegexes and blockRegexes keyword arguments are used to specify regular expressions that define patterns for input validation. Here's what they represent:\n",
    "\n",
    "1. allowRegexes:\n",
    "\n",
    "allowRegexes is a keyword argument that allows specific regular expression patterns for input validation.\n",
    "If you pass a list of regular expression strings as the allowRegexes argument, PyInputPlus will only accept input that matches one of the patterns in the list.\n",
    "For example, if you want to allow only input that consists of digits or the letter 'A', you can use: allowRegexes=[r'\\d', r'A'].\n",
    "\n",
    "2. blockRegexes:\n",
    "\n",
    "blockRegexes is a keyword argument that blocks specific regular expression patterns for input validation.\n",
    "If you pass a list of regular expression strings as the blockRegexes argument, PyInputPlus will reject input that matches any of the patterns in the list.\n",
    "For example, if you want to block input that contains any whitespace characters, you can use: blockRegexes=[r'\\s']."
   ]
  },
  {
   "cell_type": "markdown",
   "id": "c29c5853",
   "metadata": {},
   "source": [
    "### 6. If a blank input is entered three times, what does inputStr(limit=3) do?"
   ]
  },
  {
   "cell_type": "markdown",
   "id": "2d22ff0d",
   "metadata": {},
   "source": [
    "If the inputStr(limit=3) function is called and the user enters a blank input three times consecutively, PyInputPlus will raise a pyinputplus.TimeoutException. The limit parameter in inputStr(limit=3) specifies the maximum number of tries the function allows before raising a timeout exception."
   ]
  },
  {
   "cell_type": "markdown",
   "id": "6d72173d",
   "metadata": {},
   "source": [
    "### 7. If blank input is entered three times, what does inputStr(limit=3, default=&#39;hello&#39;) do?"
   ]
  },
  {
   "cell_type": "markdown",
   "id": "a7059a61",
   "metadata": {},
   "source": [
    "\n",
    "If the inputStr(limit=3, default='hello') function is called and the user enters a blank input three times consecutively, PyInputPlus will return the default value 'hello' without raising an exception. The limit parameter specifies the maximum number of tries allowed, and the default parameter provides the value that will be returned if the user's input exceeds the specified limit."
   ]
  }
 ],
 "metadata": {
  "kernelspec": {
   "display_name": "Python 3",
   "language": "python",
   "name": "python3"
  },
  "language_info": {
   "codemirror_mode": {
    "name": "ipython",
    "version": 3
   },
   "file_extension": ".py",
   "mimetype": "text/x-python",
   "name": "python",
   "nbconvert_exporter": "python",
   "pygments_lexer": "ipython3",
   "version": "3.8.8"
  }
 },
 "nbformat": 4,
 "nbformat_minor": 5
}
