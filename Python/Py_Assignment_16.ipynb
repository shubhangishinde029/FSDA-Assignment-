{
 "cells": [
  {
   "cell_type": "markdown",
   "id": "17404e0d",
   "metadata": {},
   "source": [
    "### 1. Create a list called years_list, starting with the year of your birth, and each year thereafter until the year of your fifth birthday. For example, if you were born in 1980. the list would be years_list =\n",
    "[1980, 1981, 1982, 1983, 1984, 1985]."
   ]
  },
  {
   "cell_type": "code",
   "execution_count": 2,
   "id": "ed5afaaf",
   "metadata": {},
   "outputs": [
    {
     "name": "stdout",
     "output_type": "stream",
     "text": [
      "[1995, 1996, 1997, 1998, 1999, 2000]\n"
     ]
    }
   ],
   "source": [
    "birth_year = 1995\n",
    "\n",
    "# Calculate the years from your birth year to your fifth birthday\n",
    "years_list = [year for year in range(birth_year, birth_year + 6)]\n",
    "\n",
    "# Print the years_list\n",
    "print(years_list)"
   ]
  },
  {
   "cell_type": "markdown",
   "id": "3524a1e9",
   "metadata": {},
   "source": [
    "### 2. In which year in years_list was your third birthday? Remember, you were 0 years of age for your first year."
   ]
  },
  {
   "cell_type": "code",
   "execution_count": 3,
   "id": "1aeab8c2",
   "metadata": {},
   "outputs": [
    {
     "name": "stdout",
     "output_type": "stream",
     "text": [
      "Year of your third birthday: 1998\n"
     ]
    }
   ],
   "source": [
    "birth_year = 1995\n",
    "\n",
    "# Calculate the years from your birth year to your fifth birthday\n",
    "years_list = [year for year in range(birth_year, birth_year + 6)]\n",
    "\n",
    "# Find the year of your third birthday (index 3 in the list)\n",
    "third_birthday_year = years_list[3]\n",
    "\n",
    "# Print the year of your third birthday\n",
    "print(\"Year of your third birthday:\", third_birthday_year)"
   ]
  },
  {
   "cell_type": "markdown",
   "id": "52ded291",
   "metadata": {},
   "source": [
    "### 3.In the years list, which year were you the oldest?"
   ]
  },
  {
   "cell_type": "code",
   "execution_count": 4,
   "id": "09ae8b15",
   "metadata": {},
   "outputs": [
    {
     "name": "stdout",
     "output_type": "stream",
     "text": [
      "Year when you were the oldest: 2000\n"
     ]
    }
   ],
   "source": [
    "# Your birth year\n",
    "birth_year = 1995\n",
    "\n",
    "# Calculate the years from your birth year to your fifth birthday\n",
    "years_list = [year for year in range(birth_year, birth_year + 6)]\n",
    "\n",
    "# Find the year when you were the oldest (last element in the list)\n",
    "oldest_year = years_list[-1]\n",
    "\n",
    "# Print the year when you were the oldest\n",
    "print(\"Year when you were the oldest:\", oldest_year)\n"
   ]
  },
  {
   "cell_type": "markdown",
   "id": "82e7a768",
   "metadata": {},
   "source": [
    "### 4. Make a list called things with these three strings as elements: &quot;mozzarella&quot;, &quot;cinderella&quot;, &quot;salmonella&quot;."
   ]
  },
  {
   "cell_type": "code",
   "execution_count": 5,
   "id": "a7210abf",
   "metadata": {},
   "outputs": [
    {
     "name": "stdout",
     "output_type": "stream",
     "text": [
      "['mozzarella', 'cinderella', 'salmonella']\n"
     ]
    }
   ],
   "source": [
    "# Create a list called things with given strings as elements\n",
    "things = [\"mozzarella\", \"cinderella\", \"salmonella\"]\n",
    "\n",
    "# Print the list\n",
    "print(things)"
   ]
  },
  {
   "cell_type": "markdown",
   "id": "02c88744",
   "metadata": {},
   "source": [
    "### 5. Capitalize the element in things that refers to a person and then print the list. Did it change the element in the list?"
   ]
  },
  {
   "cell_type": "code",
   "execution_count": 6,
   "id": "277f8483",
   "metadata": {},
   "outputs": [
    {
     "name": "stdout",
     "output_type": "stream",
     "text": [
      "['mozzarella', 'Cinderella', 'salmonella']\n"
     ]
    }
   ],
   "source": [
    "# Create a list called things with given strings as elements\n",
    "things = [\"mozzarella\", \"cinderella\", \"salmonella\"]\n",
    "\n",
    "# Capitalize the element that refers to a person\n",
    "things[1] = things[1].capitalize()\n",
    "\n",
    "# Print the modified list\n",
    "print(things)"
   ]
  },
  {
   "cell_type": "markdown",
   "id": "4d5cf583",
   "metadata": {},
   "source": [
    "### 6. Make a surprise list with the elements &quot;Groucho,&quot; &quot;Chico,&quot; and &quot;Harpo.&quot;"
   ]
  },
  {
   "cell_type": "code",
   "execution_count": 7,
   "id": "4ca00efb",
   "metadata": {},
   "outputs": [
    {
     "name": "stdout",
     "output_type": "stream",
     "text": [
      "['Groucho', 'Chico', 'Harpo']\n"
     ]
    }
   ],
   "source": [
    "# Create a surprise list with given elements\n",
    "surprise = [\"Groucho\", \"Chico\", \"Harpo\"]\n",
    "\n",
    "# Print the surprise list\n",
    "print(surprise)\n"
   ]
  },
  {
   "cell_type": "markdown",
   "id": "2933b0a7",
   "metadata": {},
   "source": [
    "### 7. Lowercase the last element of the surprise list, reverse it, and then capitalize it."
   ]
  },
  {
   "cell_type": "code",
   "execution_count": 8,
   "id": "06887877",
   "metadata": {},
   "outputs": [
    {
     "name": "stdout",
     "output_type": "stream",
     "text": [
      "['Groucho', 'Chico', 'Oprah']\n"
     ]
    }
   ],
   "source": [
    "# Lowercase the last element of the surprise list\n",
    "last_element = surprise[-1].lower()\n",
    "\n",
    "# Reverse the characters of the last element\n",
    "reversed_element = last_element[::-1]\n",
    "\n",
    "# Capitalize the reversed element\n",
    "capitalized_reversed_element = reversed_element.capitalize()\n",
    "\n",
    "# Update the last element of the surprise list with the modified element\n",
    "surprise[-1] = capitalized_reversed_element\n",
    "\n",
    "# Print the modified surprise list\n",
    "print(surprise)"
   ]
  },
  {
   "cell_type": "markdown",
   "id": "407485b8",
   "metadata": {},
   "source": [
    "### 8. Make an English-to-French dictionary called e2f and print it. Here are your starter words: dog is chien, cat is chat, and walrus is morse."
   ]
  },
  {
   "cell_type": "code",
   "execution_count": 9,
   "id": "3db8e180",
   "metadata": {},
   "outputs": [
    {
     "name": "stdout",
     "output_type": "stream",
     "text": [
      "{'dog': 'chien', 'cat': 'chat', 'walrus': 'morse'}\n"
     ]
    }
   ],
   "source": [
    "# Create an English-to-French dictionary\n",
    "e2f = {\n",
    "    \"dog\": \"chien\",\n",
    "    \"cat\": \"chat\",\n",
    "    \"walrus\": \"morse\"\n",
    "}\n",
    "\n",
    "# Print the English-to-French dictionary\n",
    "print(e2f)\n"
   ]
  },
  {
   "cell_type": "markdown",
   "id": "43dba4d2",
   "metadata": {},
   "source": [
    "### 9. Write the French word for walrus in your three-word dictionary e2f."
   ]
  },
  {
   "cell_type": "code",
   "execution_count": 10,
   "id": "7a4b249b",
   "metadata": {},
   "outputs": [
    {
     "name": "stdout",
     "output_type": "stream",
     "text": [
      "French word for walrus: morse\n"
     ]
    }
   ],
   "source": [
    "# French word for walrus in the e2f dictionary\n",
    "french_word_for_walrus = e2f[\"walrus\"]\n",
    "\n",
    "# Print the French word for walrus\n",
    "print(\"French word for walrus:\", french_word_for_walrus)"
   ]
  },
  {
   "cell_type": "markdown",
   "id": "14391e94",
   "metadata": {},
   "source": [
    "### 10. Make a French-to-English dictionary called f2e from e2f. Use the items method."
   ]
  },
  {
   "cell_type": "code",
   "execution_count": 11,
   "id": "5c6cfcb2",
   "metadata": {},
   "outputs": [
    {
     "name": "stdout",
     "output_type": "stream",
     "text": [
      "{'chien': 'dog', 'chat': 'cat', 'morse': 'walrus'}\n"
     ]
    }
   ],
   "source": [
    "# Create a French-to-English dictionary from e2f using items() method\n",
    "f2e = {french: english for english, french in e2f.items()}\n",
    "\n",
    "# Print the French-to-English dictionary\n",
    "print(f2e)"
   ]
  },
  {
   "cell_type": "markdown",
   "id": "e5383e64",
   "metadata": {},
   "source": [
    "### 11. Print the English version of the French word chien using f2e."
   ]
  },
  {
   "cell_type": "code",
   "execution_count": 12,
   "id": "e409c205",
   "metadata": {},
   "outputs": [
    {
     "name": "stdout",
     "output_type": "stream",
     "text": [
      "English version of 'chien': dog\n"
     ]
    }
   ],
   "source": [
    "# French-to-English dictionary created from e2f\n",
    "f2e = {'chien': 'dog', 'chat': 'cat', 'morse': 'walrus'}\n",
    "\n",
    "# Print the English version of the French word \"chien\"\n",
    "english_word_for_chien = f2e[\"chien\"]\n",
    "print(\"English version of 'chien':\", english_word_for_chien)\n"
   ]
  },
  {
   "cell_type": "markdown",
   "id": "dd012475",
   "metadata": {},
   "source": [
    "### 12. Make and print a set of English words from the keys in e2f."
   ]
  },
  {
   "cell_type": "code",
   "execution_count": 13,
   "id": "1b2f38b6",
   "metadata": {},
   "outputs": [
    {
     "name": "stdout",
     "output_type": "stream",
     "text": [
      "Set of English words from e2f dictionary: {'walrus', 'cat', 'dog'}\n"
     ]
    }
   ],
   "source": [
    "# Set of English words from the keys in e2f dictionary\n",
    "english_words_set = set(e2f.keys())\n",
    "\n",
    "# Print the set of English words\n",
    "print(\"Set of English words from e2f dictionary:\", english_words_set)\n"
   ]
  },
  {
   "cell_type": "markdown",
   "id": "dc6c27de",
   "metadata": {},
   "source": [
    "### 13. Make a multilevel dictionary called life. Use these strings for the topmost keys: &#39;animals&#39;, &#39;plants&#39;, and &#39;other&#39;. Make the &#39;animals&#39; key refer to another dictionary with the keys &#39;cats&#39;, &#39;octopi&#39;, and &#39;emus&#39;. Make the &#39;cats&#39; key refer to a list of strings with the values &#39;Henri&#39;, &#39;Grumpy&#39;, and &#39;Lucy&#39;. Make all the other keys refer to empty dictionaries."
   ]
  },
  {
   "cell_type": "code",
   "execution_count": 14,
   "id": "c9f1a0c8",
   "metadata": {},
   "outputs": [
    {
     "name": "stdout",
     "output_type": "stream",
     "text": [
      "{'animals': {'cats': ['Henri', 'Grumpy', 'Lucy'], 'octopi': {}, 'emus': {}}, 'plants': {}, 'other': {}}\n"
     ]
    }
   ],
   "source": [
    "# Create a multilevel dictionary called life\n",
    "life = {\n",
    "    'animals': {\n",
    "        'cats': ['Henri', 'Grumpy', 'Lucy'],\n",
    "        'octopi': {},\n",
    "        'emus': {}\n",
    "    },\n",
    "    'plants': {},\n",
    "    'other': {}\n",
    "}\n",
    "\n",
    "# Print the multilevel dictionary\n",
    "print(life)\n"
   ]
  },
  {
   "cell_type": "markdown",
   "id": "1295e83e",
   "metadata": {},
   "source": [
    "### 14. Print the top-level keys of life."
   ]
  },
  {
   "cell_type": "code",
   "execution_count": 15,
   "id": "453d9260",
   "metadata": {},
   "outputs": [
    {
     "name": "stdout",
     "output_type": "stream",
     "text": [
      "Top-level keys of life dictionary: ['animals', 'plants', 'other']\n"
     ]
    }
   ],
   "source": [
    "# Print the top-level keys of the life dictionary\n",
    "top_level_keys = life.keys()\n",
    "\n",
    "# Convert the keys to a list and print\n",
    "print(\"Top-level keys of life dictionary:\", list(top_level_keys))\n"
   ]
  },
  {
   "cell_type": "markdown",
   "id": "5fab6051",
   "metadata": {},
   "source": [
    "### 15. Print the keys for life[&#39;animals&#39;]."
   ]
  },
  {
   "cell_type": "code",
   "execution_count": 16,
   "id": "3893c50e",
   "metadata": {},
   "outputs": [
    {
     "name": "stdout",
     "output_type": "stream",
     "text": [
      "Keys for life['animals']: ['cats', 'octopi', 'emus']\n"
     ]
    }
   ],
   "source": [
    "# Print the keys for life['animals']\n",
    "animal_keys = life['animals'].keys()\n",
    "\n",
    "# Convert the keys to a list and print\n",
    "print(\"Keys for life['animals']:\", list(animal_keys))"
   ]
  },
  {
   "cell_type": "markdown",
   "id": "7e14e953",
   "metadata": {},
   "source": [
    "### 16. Print the values for life[&#39;animals&#39;][&#39;cats&#39;]"
   ]
  },
  {
   "cell_type": "code",
   "execution_count": 17,
   "id": "983e0403",
   "metadata": {},
   "outputs": [
    {
     "name": "stdout",
     "output_type": "stream",
     "text": [
      "Cat names: ['Henri', 'Grumpy', 'Lucy']\n"
     ]
    }
   ],
   "source": [
    "# Print the values for life['animals']['cats']\n",
    "cat_names = life['animals']['cats']\n",
    "\n",
    "# Print the cat names\n",
    "print(\"Cat names:\", cat_names)"
   ]
  }
 ],
 "metadata": {
  "kernelspec": {
   "display_name": "Python 3",
   "language": "python",
   "name": "python3"
  },
  "language_info": {
   "codemirror_mode": {
    "name": "ipython",
    "version": 3
   },
   "file_extension": ".py",
   "mimetype": "text/x-python",
   "name": "python",
   "nbconvert_exporter": "python",
   "pygments_lexer": "ipython3",
   "version": "3.8.8"
  }
 },
 "nbformat": 4,
 "nbformat_minor": 5
}
