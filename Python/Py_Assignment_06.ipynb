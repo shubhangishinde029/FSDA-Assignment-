{
 "cells": [
  {
   "cell_type": "markdown",
   "id": "1cf1c0cd",
   "metadata": {},
   "source": [
    "#### 1. What are escape characters, and how do you use them?"
   ]
  },
  {
   "cell_type": "markdown",
   "id": "07db4e3f",
   "metadata": {},
   "source": [
    "Escape characters in python are special characters that are used to present certain actions or charaters within a string. They are preceded by a backslach to indicate that they have a special meaning. Escape characters allow you to include characters that are difficult to type directly ot that have special meaning in string.\n",
    "\n",
    "Here are some common escape characters in python:\n",
    "1. \\n : Represents a newline character. It is used to start a new line in a string."
   ]
  },
  {
   "cell_type": "code",
   "execution_count": 1,
   "id": "81d58085",
   "metadata": {},
   "outputs": [
    {
     "name": "stdout",
     "output_type": "stream",
     "text": [
      "Hello\n",
      "World\n"
     ]
    }
   ],
   "source": [
    "print(\"Hello\\nWorld\")"
   ]
  },
  {
   "cell_type": "markdown",
   "id": "64ed2505",
   "metadata": {},
   "source": [
    "2. \\t : Represent a tab character . It is used to create horizontal spacing in a string"
   ]
  },
  {
   "cell_type": "code",
   "execution_count": 4,
   "id": "2cf279df",
   "metadata": {},
   "outputs": [
    {
     "name": "stdout",
     "output_type": "stream",
     "text": [
      "Hello\tWorld\n"
     ]
    }
   ],
   "source": [
    "print(\"Hello\\tWorld\")"
   ]
  },
  {
   "cell_type": "markdown",
   "id": "c2763b82",
   "metadata": {},
   "source": [
    "3. ' : Represent a single quotation mark. It is used to include a single quotation mark within a string that is enclosed by single quotation marks "
   ]
  },
  {
   "cell_type": "code",
   "execution_count": 11,
   "id": "4b979496",
   "metadata": {},
   "outputs": [
    {
     "name": "stdout",
     "output_type": "stream",
     "text": [
      "He said,'Hello!\n"
     ]
    }
   ],
   "source": [
    "print('He said,\\'Hello!')"
   ]
  },
  {
   "cell_type": "markdown",
   "id": "a9860af7",
   "metadata": {},
   "source": [
    "#### 2. What do the escape characters n and t stand for?"
   ]
  },
  {
   "cell_type": "markdown",
   "id": "7241432d",
   "metadata": {},
   "source": [
    "\\n : The escape character '\\n' represents a newline. It is used to start a new line in a string or a text output. When he newline character is encountered,the text following it will be printed on a new line.\n",
    "\n",
    "Example:\n",
    "    \n",
    "print(\"Hello\\nWorld\")\n",
    "\n",
    "\n",
    "O/P :\n",
    "    \n",
    "Hello\n",
    "World\n",
    "\n",
    "\\t: The escape character '\\t' represent a tab. It is used to cretae horizontal spacing in a string or a text output. When the tab character is encountered,it adds a horizontal tabulation or indentation to the text\n",
    "    \n",
    "Example:\n",
    "\n",
    "print(\"Name:\\tJohn\") \n",
    "\n",
    "O/P:\n",
    "    \n",
    "Name:  John    "
   ]
  },
  {
   "cell_type": "markdown",
   "id": "e387260a",
   "metadata": {},
   "source": [
    "#### 3. What is the way to include backslash characters in a string?"
   ]
  },
  {
   "cell_type": "markdown",
   "id": "2f855ba3",
   "metadata": {},
   "source": [
    "To include a backslash character('\\') in a string in python, you can use escape charater itself,which is also backslash(\"\\\\\"). This is because the backslash has a special menainf as an escape charater,sp if you want to include a literal backslash in your string,you need to escape it by preceding it with another backslash."
   ]
  },
  {
   "cell_type": "code",
   "execution_count": 12,
   "id": "eb918e22",
   "metadata": {},
   "outputs": [
    {
     "name": "stdout",
     "output_type": "stream",
     "text": [
      "c:\\path\\to\\file\n"
     ]
    }
   ],
   "source": [
    "print(\"c:\\\\path\\\\to\\\\file\")"
   ]
  },
  {
   "cell_type": "markdown",
   "id": "20a76ca3",
   "metadata": {},
   "source": [
    "Using the escape character ('\\\\') allow you to include a literal backslash in your string without it being interpreted as na escape sequence."
   ]
  },
  {
   "cell_type": "markdown",
   "id": "c950003d",
   "metadata": {},
   "source": [
    "#### 4. The string &quot;Howl&#39;s Moving Castle&quot; is a correct value. Why isn&#39;t the single quote character in the word Howl&#39;s not escaped a problem?"
   ]
  },
  {
   "cell_type": "markdown",
   "id": "170110b2",
   "metadata": {},
   "source": [
    "The string \"Howl's Moving Castle\" is the correct value. and it is not causing any problem because the single quote character inside the word \"Howl's\" is properly handled by the string syntax.\n",
    "You can enclose a string using either single quotes(''') or double qotes('\"').When you use single quotes to define a string,any occurrences of a single quote charater whithin the string are automatically interpreted as part of the string and not as the end of the string. When you use double quotes characters within the string are treated as part of the string."
   ]
  },
  {
   "cell_type": "code",
   "execution_count": 17,
   "id": "fbdaa48f",
   "metadata": {},
   "outputs": [
    {
     "name": "stdout",
     "output_type": "stream",
     "text": [
      "Howl's Moving Castle\n"
     ]
    }
   ],
   "source": [
    "print(\"Howl's Moving Castle\")"
   ]
  },
  {
   "cell_type": "code",
   "execution_count": 19,
   "id": "25cf0f8a",
   "metadata": {},
   "outputs": [
    {
     "ename": "SyntaxError",
     "evalue": "invalid syntax (<ipython-input-19-ab565d03c155>, line 1)",
     "output_type": "error",
     "traceback": [
      "\u001b[1;36m  File \u001b[1;32m\"<ipython-input-19-ab565d03c155>\"\u001b[1;36m, line \u001b[1;32m1\u001b[0m\n\u001b[1;33m    print('Howl's Moving castle')\u001b[0m\n\u001b[1;37m                ^\u001b[0m\n\u001b[1;31mSyntaxError\u001b[0m\u001b[1;31m:\u001b[0m invalid syntax\n"
     ]
    }
   ],
   "source": [
    "print('Howl's Moving castle')"
   ]
  },
  {
   "cell_type": "markdown",
   "id": "9e671203",
   "metadata": {},
   "source": [
    "#### 5. How do you write a string of newlines if you don&#39;t want to use the n character?"
   ]
  },
  {
   "cell_type": "markdown",
   "id": "56217e4f",
   "metadata": {},
   "source": [
    "If you want to write a string with newlines without using the '\\n' charater. \n",
    "\n",
    "1. Use Triple quotes: You can enclose the string in triple quotes('\"\"\"') or ('''''). This allows you to write multiple line of text without explicitly using the newline character."
   ]
  },
  {
   "cell_type": "code",
   "execution_count": 23,
   "id": "bf3ad0f3",
   "metadata": {},
   "outputs": [
    {
     "name": "stdout",
     "output_type": "stream",
     "text": [
      "print 1 \n",
      "print 2 \n",
      "print 4\n"
     ]
    }
   ],
   "source": [
    "print(\"\"\"print 1 \n",
    "print 2 \n",
    "print 4\"\"\")"
   ]
  },
  {
   "cell_type": "markdown",
   "id": "71d69516",
   "metadata": {},
   "source": [
    "#### 6. What are the values of the given expressions?\n",
    "\n",
    "&#39;Hello, world!&#39;[1]\n",
    "\n",
    "&#39;Hello, world!&#39;[0:5]\n",
    "\n",
    "&#39;Hello, world!&#39;[:5]\n",
    "\n",
    "&#39;Hello, world!&#39;[3:]"
   ]
  },
  {
   "cell_type": "code",
   "execution_count": 32,
   "id": "0ab78c59",
   "metadata": {},
   "outputs": [
    {
     "data": {
      "text/plain": [
       "'e'"
      ]
     },
     "execution_count": 32,
     "metadata": {},
     "output_type": "execute_result"
    }
   ],
   "source": [
    "'Hello, world!'[1]   #This expression access the character at index 1 in the string, Python index start at 0."
   ]
  },
  {
   "cell_type": "code",
   "execution_count": 33,
   "id": "6bcaedbb",
   "metadata": {},
   "outputs": [
    {
     "data": {
      "text/plain": [
       "'Hello'"
      ]
     },
     "execution_count": 33,
     "metadata": {},
     "output_type": "execute_result"
    }
   ],
   "source": [
    "'Hello, world!'[0:5] #This expression use slicing to extract the substring index 0 to index 4 from the string. The syntax for slicing is 'string[start:end]', where 'start' is starting index and 'end' is ending index."
   ]
  },
  {
   "cell_type": "code",
   "execution_count": 34,
   "id": "da1bf15e",
   "metadata": {},
   "outputs": [
    {
     "data": {
      "text/plain": [
       "'Hello'"
      ]
     },
     "execution_count": 34,
     "metadata": {},
     "output_type": "execute_result"
    }
   ],
   "source": [
    "'Hello, world!'[:5]  #When the starting index is not specified in the slice,it default take 0. so 'Hello, world![0:5]' equivalent to'Hello, world[:5]."
   ]
  },
  {
   "cell_type": "code",
   "execution_count": 35,
   "id": "9e94b87f",
   "metadata": {},
   "outputs": [
    {
     "data": {
      "text/plain": [
       "'lo, world!'"
      ]
     },
     "execution_count": 35,
     "metadata": {},
     "output_type": "execute_result"
    }
   ],
   "source": [
    "'Hello, world!'[3:]  #This exprssion uses slicing to extract the substring from index 3 and to the end of the string."
   ]
  },
  {
   "cell_type": "markdown",
   "id": "8281d81b",
   "metadata": {},
   "source": [
    "#### 7. What are the values of the following expressions?\n",
    "\n",
    "&#39;Hello&#39;.upper()\n",
    "\n",
    "&#39;Hello&#39;.upper().isupper()\n",
    "\n",
    "&#39;Hello&#39;.upper().lower()"
   ]
  },
  {
   "cell_type": "code",
   "execution_count": 36,
   "id": "a8db6341",
   "metadata": {},
   "outputs": [
    {
     "data": {
      "text/plain": [
       "'HELLO'"
      ]
     },
     "execution_count": 36,
     "metadata": {},
     "output_type": "execute_result"
    }
   ],
   "source": [
    "'Hello'.upper()  #This expression applies the 'upper()' method. Which converts all charaters in the string to uppercase."
   ]
  },
  {
   "cell_type": "code",
   "execution_count": 37,
   "id": "dc53adf0",
   "metadata": {},
   "outputs": [
    {
     "data": {
      "text/plain": [
       "True"
      ]
     },
     "execution_count": 37,
     "metadata": {},
     "output_type": "execute_result"
    }
   ],
   "source": [
    "'Hello'.upper().isupper()  #This expression convert the string uppercase.'isupper()' method checks if all the characters in the string are uppercase."
   ]
  },
  {
   "cell_type": "code",
   "execution_count": 38,
   "id": "a4ace0fc",
   "metadata": {},
   "outputs": [
    {
     "data": {
      "text/plain": [
       "'hello'"
      ]
     },
     "execution_count": 38,
     "metadata": {},
     "output_type": "execute_result"
    }
   ],
   "source": [
    "'Hello'.upper().lower() #This expression convert the string lowercase.'lower()' method converts all the characters in the string to lowercase."
   ]
  },
  {
   "cell_type": "markdown",
   "id": "7d9fe5c0",
   "metadata": {},
   "source": [
    "#### 8. What are the values of the following expressions?\n",
    "\n",
    "&#39;Remember, remember, the fifth of July.&#39;.split()\n",
    "\n",
    "&#39;-&#39;.join(&#39;There can only one.&#39;.split())"
   ]
  },
  {
   "cell_type": "code",
   "execution_count": 2,
   "id": "333d2ab8",
   "metadata": {},
   "outputs": [
    {
     "data": {
      "text/plain": [
       "['Remember,', 'remember,', 'the', 'fifth', 'of', 'July.']"
      ]
     },
     "execution_count": 2,
     "metadata": {},
     "output_type": "execute_result"
    }
   ],
   "source": [
    "'Remember, remember, the fifth of July.'.split()"
   ]
  },
  {
   "cell_type": "markdown",
   "id": "3158148f",
   "metadata": {},
   "source": [
    "The 'split()' method is applied to the string 'Remember, remember, the fifth of July.'.split()', which splits the string into a list of substing based on whitespace. Each word or punctuation mark becomes a separate element in the resulting list."
   ]
  },
  {
   "cell_type": "code",
   "execution_count": 3,
   "id": "de3734e9",
   "metadata": {},
   "outputs": [
    {
     "data": {
      "text/plain": [
       "'There-can-only-one.'"
      ]
     },
     "execution_count": 3,
     "metadata": {},
     "output_type": "execute_result"
    }
   ],
   "source": [
    "'-'.join('There can only one.'.split())"
   ]
  },
  {
   "cell_type": "markdown",
   "id": "c108a93b",
   "metadata": {},
   "source": [
    "The string 'There can only one.' is split using 'split()' with the default whitespace delimeter. This result in a list ['There','can','ónly','one.'] then the 'join()'method is applied to the list,joining the elements using the hyphen (''-'') as a separator."
   ]
  },
  {
   "cell_type": "markdown",
   "id": "048a2416",
   "metadata": {},
   "source": [
    "#### 9. What are the methods for right-justifying, left-justifying, and centering a string?"
   ]
  },
  {
   "cell_type": "markdown",
   "id": "cbabbad3",
   "metadata": {},
   "source": [
    "1.Right-justifying a string:\n",
    "\n",
    "This method returns a right-justified version of the string by adding spaces to the left side of sting until it reaches the specified 'width'\n",
    "\n",
    "Example: "
   ]
  },
  {
   "cell_type": "code",
   "execution_count": 9,
   "id": "38ee27cf",
   "metadata": {},
   "outputs": [
    {
     "name": "stdout",
     "output_type": "stream",
     "text": [
      "               Hello\n"
     ]
    }
   ],
   "source": [
    "text = \"Hello\"\n",
    "justified_text = text.rjust(20)\n",
    "print(justified_text)"
   ]
  },
  {
   "cell_type": "markdown",
   "id": "9514f74e",
   "metadata": {},
   "source": [
    "2.Left-justifying a string:\n",
    "    \n",
    "This method returns the left-justified version of a string by adding spaces to the right side of the string until it reaches the specified 'width'    "
   ]
  },
  {
   "cell_type": "code",
   "execution_count": 11,
   "id": "0de60ca6",
   "metadata": {},
   "outputs": [
    {
     "name": "stdout",
     "output_type": "stream",
     "text": [
      "Hello                                   \n"
     ]
    }
   ],
   "source": [
    "text = \"Hello\"\n",
    "justified_text = text.ljust(40)\n",
    "print(justified_text)"
   ]
  },
  {
   "cell_type": "markdown",
   "id": "d7dcce8a",
   "metadata": {},
   "source": [
    "3. Centering a string: \n",
    "    \n",
    "This method returns a centered version of the string by adding a equal amounts of spaces to the both sides of the string until it reaches the specified 'width'.    "
   ]
  },
  {
   "cell_type": "code",
   "execution_count": 12,
   "id": "4e1d49ec",
   "metadata": {},
   "outputs": [
    {
     "name": "stdout",
     "output_type": "stream",
     "text": [
      "  Hello   \n"
     ]
    }
   ],
   "source": [
    "text = \"Hello\"\n",
    "centered_text= text.center(10)\n",
    "print(centered_text)"
   ]
  },
  {
   "cell_type": "markdown",
   "id": "691890c2",
   "metadata": {},
   "source": [
    "#### 10. What is the best way to remove whitespace characters from the start or end?"
   ]
  },
  {
   "cell_type": "markdown",
   "id": "4c60b823",
   "metadata": {},
   "source": [
    "str.strip() - This method removes leading and trailing whitespace characters from a string."
   ]
  },
  {
   "cell_type": "code",
   "execution_count": 13,
   "id": "2dc7f12c",
   "metadata": {},
   "outputs": [
    {
     "name": "stdout",
     "output_type": "stream",
     "text": [
      "Hello\n"
     ]
    }
   ],
   "source": [
    "text = \"   Hello   \"\n",
    "cleaned_text = text.strip()\n",
    "print(cleaned_text)"
   ]
  }
 ],
 "metadata": {
  "kernelspec": {
   "display_name": "Python 3",
   "language": "python",
   "name": "python3"
  },
  "language_info": {
   "codemirror_mode": {
    "name": "ipython",
    "version": 3
   },
   "file_extension": ".py",
   "mimetype": "text/x-python",
   "name": "python",
   "nbconvert_exporter": "python",
   "pygments_lexer": "ipython3",
   "version": "3.8.8"
  }
 },
 "nbformat": 4,
 "nbformat_minor": 5
}
