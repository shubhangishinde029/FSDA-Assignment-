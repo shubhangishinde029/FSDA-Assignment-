{
 "cells": [
  {
   "cell_type": "markdown",
   "id": "3d58e331",
   "metadata": {},
   "source": [
    "### 1. Create an assert statement that throws an AssertionError if the variable spam is a negative integer."
   ]
  },
  {
   "cell_type": "markdown",
   "id": "0cfdda45",
   "metadata": {},
   "source": [
    "Certainly! You can use an assert statement to check if the variable spam is a negative integer and raise an AssertionError if it is. Here's how you can do it:\n",
    "#### Assuming spam is a variable that holds an integer value\n",
    "spam = -5  # Replace this with the actual value of spam\n",
    "\n",
    "#### Assert statement to check if spam is a negative integer\n",
    "assert spam >= 0, \"spam should not be a negative integer\"\n",
    "\n",
    "In this example, if the value of spam is a negative integer, the assert statement will raise an AssertionError with the message \"spam should not be a negative integer\". If spam is non-negative, the program will continue executing without any issues."
   ]
  },
  {
   "cell_type": "markdown",
   "id": "74c5b82a",
   "metadata": {},
   "source": [
    "### 2. Write an assert statement that triggers an AssertionError if the variables eggs and bacon contain strings that are the same as each other, even if their cases are different (that is, &#39;hello&#39; and &#39;hello&#39; areconsidered the same, and &#39;goodbye&#39; and &#39;GOODbye&#39; are also considered the same)."
   ]
  },
  {
   "cell_type": "markdown",
   "id": "bf97eccf",
   "metadata": {},
   "source": [
    "To compare strings case-insensitively, you can convert both strings to lowercase (or uppercase) and then use the assert statement to check if they are equal. Here's the assert statement that triggers an AssertionError if eggs and bacon contain strings that are the same as each other regardless of their case:\n",
    "#### Assuming eggs and bacon are variables containing strings\n",
    "eggs = \"Hello\"\n",
    "bacon = \"HELLO\"\n",
    "\n",
    "#### Assert statement to check if eggs and bacon are the same, ignoring case\n",
    "assert eggs.lower() != bacon.lower(), \"eggs and bacon should not be the same (case-insensitive)\"\n",
    " the lower() method is used to convert both eggs and bacon to lowercase before comparing them. If the strings are the same when case is ignored, the assert statement will trigger an AssertionError with the specified message. If the strings are different, the program will continue executing without any issues."
   ]
  },
  {
   "cell_type": "markdown",
   "id": "86d0ec37",
   "metadata": {},
   "source": [
    "### 3. Create an assert statement that throws an AssertionError every time."
   ]
  },
  {
   "cell_type": "markdown",
   "id": "fc61c74c",
   "metadata": {},
   "source": [
    "An assert statement in Python is used to assert that a certain condition is True. If the condition is False, Python raises an AssertionError. If you want to create an assert statement that always raises an AssertionError, you can simply provide a condition that is always False\n",
    "Example \n",
    "assert False, \"This assertion always triggers an AssertionError\"\n",
    "\n",
    "the condition provided in the assert statement is False, so Python will always raise an AssertionError with the specified message. You can change the message to whatever you like. When you run this code, it will immediately raise the AssertionError."
   ]
  },
  {
   "cell_type": "markdown",
   "id": "d0d679e0",
   "metadata": {},
   "source": [
    "### 4. What are the two lines that must be present in your software in order to call logging.debug()?"
   ]
  },
  {
   "cell_type": "markdown",
   "id": "e69ea88a",
   "metadata": {},
   "source": [
    " when you want to use the logging.debug() function to log debug messages, you need to set up the logging configuration to specify the logging level and where the log messages should be output. Typically, these two lines are present at the beginning of your software to configure the logging system:\n",
    "\n",
    "#### import logging\n",
    "\n",
    "#### logging.basicConfig(level=logging.DEBUG)\n",
    "\n",
    "In the first line, you import the logging module, which provides the logging functions and classes. In the second line, you set up the logging configuration using basicConfig(). In this example, level=logging.DEBUG sets the logging level to DEBUG, which means that logging.debug() messages and messages with higher severity levels (such as INFO, WARNING, ERROR, and CRITICAL) will be output. You can adjust the logging level to control which messages are displayed based on their severit\\\n",
    "\n",
    "With these two lines in your program, you can use logging.debug() to send log messages to the programLog.txt"
   ]
  },
  {
   "cell_type": "markdown",
   "id": "f63ff342",
   "metadata": {},
   "source": [
    "### 5. What are the two lines that your program must have in order to have logging.debug() send a logging message to a file named programLog.txt?"
   ]
  },
  {
   "cell_type": "markdown",
   "id": "eff224ec",
   "metadata": {},
   "source": [
    "To send logging.debug() messages to a file named programLog.txt, you need to configure a FileHandler in the logging system. Here are the two lines you need to include in your program:\n",
    "\n",
    "#### import logging\n",
    "\n",
    "#### logging.basicConfig(filename='programLog.txt', level=logging.DEBUG)    \n",
    "In the first line, you import the logging module. In the second line, you configure the logging system using basicConfig(). filename='programLog.txt' specifies the name of the file where the log messages will be written, and level=logging.DEBUG sets the logging level to DEBUG, allowing logging.debug() messages and messages with higher severity levels to be written to the file.\n",
    "\n",
    "With these two lines in your program, you can use logging.debug() to send log messages to the programLog.txt\n",
    "\n",
    "#### logging.debug('This is a debug message')\n",
    "This will write the debug message to the programLog.txt file. Remember to adjust the logging level and format according to your specific requirements."
   ]
  },
  {
   "cell_type": "markdown",
   "id": "e85f6247",
   "metadata": {},
   "source": [
    "### 6. What are the five levels of logging?"
   ]
  },
  {
   "cell_type": "markdown",
   "id": "07a5999a",
   "metadata": {},
   "source": [
    "In Python's logging module, there are five standard logging levels available, listed in increasing order of severity:\n",
    "\n",
    "###### DEBUG:\n",
    "\n",
    "Detailed information, typically of interest only when diagnosing problems.\n",
    "Used with logging.debug().\n",
    "\n",
    "##### INFO:\n",
    "\n",
    "Confirmation that things are working as expected.\n",
    "Used with logging.info().\n",
    "\n",
    "##### WARNING:\n",
    "\n",
    "An indication that something unexpected happened or indicative of some problem in the near future (e.g., 'disk space low').\n",
    "The software is still functioning as expected.\n",
    "Used with logging.warning().\n",
    "\n",
    "##### ERROR:\n",
    "\n",
    "Due to a more serious problem, the software has not been able to perform some function.\n",
    "Used with logging.error().\n",
    "\n",
    "##### CRITICAL:\n",
    "\n",
    "A very serious error, indicating that the program itself may be unable to continue running.\n",
    "Used with logging.critical().\n",
    "When you configure the logging system, you can set the logging level. Log messages with a severity level greater than or equal to the configured level will be emitted. For example, if you set the logging level to INFO, log messages of severity INFO, WARNING, ERROR, and CRITICAL will be recorded, while DEBUG messages will be ignored"
   ]
  },
  {
   "cell_type": "markdown",
   "id": "b6fd7234",
   "metadata": {},
   "source": [
    "### 7. What line of code would you add to your software to disable all logging messages?"
   ]
  },
  {
   "cell_type": "markdown",
   "id": "811855d0",
   "metadata": {},
   "source": [
    "To disable all logging messages in your Python software, you can add the following line of code:\n",
    "    #### logging.disable(logging.CRITICAL)\n",
    "In this line, logging.CRITICAL represents the highest severity level. By setting the logging level to CRITICAL, you effectively disable all log messages with severity levels of DEBUG, INFO, WARNING, and ERROR. Only log messages with a severity level of CRITICAL (or higher) will be processed.\n",
    "\n",
    "Make sure to include this line after you have imported the logging module in your code. Once this line is executed, all logging messages will be disabled, regardless of the logging statements you have throughout your code.    "
   ]
  },
  {
   "cell_type": "markdown",
   "id": "c49efbb0",
   "metadata": {},
   "source": [
    "### 8.Why is using logging messages better than using print() to display the same message?"
   ]
  },
  {
   "cell_type": "markdown",
   "id": "6ee0a9b2",
   "metadata": {},
   "source": [
    "Using logging messages instead of print() statements offers several advantages in software development:\n",
    "\n",
    "Flexibility and Configurability:\n",
    "\n",
    "With logging, you can easily change the behavior of log messages without modifying the code. You can configure different logging levels (DEBUG, INFO, WARNING, ERROR, CRITICAL) and choose where the log messages should be sent (console, file, network, etc.). This configurability allows you to adjust the verbosity of your application dynamically.\n",
    "\n",
    "\n",
    "Granular Control:\n",
    "\n",
    "Logging allows you to control the verbosity of your application based on the severity of the message. For example, during development, you might want to see detailed debug information, but in production, you may only be interested in errors and critical issues. This granularity in controlling what messages to display is not easily achievable with print() statements.\n",
    "\n",
    "Standardization:\n",
    "\n",
    "Logging follows a standard format and can include timestamps, log levels, and other metadata. This standardization aids in readability and helps in quickly understanding the context of the log message.\n",
    "\n",
    "\n",
    "Structured Data:\n",
    "\n",
    "Log messages can be structured, allowing you to log more than just strings. You can log complex objects, dictionaries, or custom data structures. This capability provides valuable context during debugging and analysis.\n",
    "\n",
    "Redirection and Aggregation:\n",
    "\n",
    "Logging messages can be easily redirected to different outputs. For example, you might log errors to a file, warnings to the console, and debug messages to a separate debugging tool. You can also aggregate logs from multiple sources into a central location for analysis, monitoring, and alerting.\n",
    "\n",
    "Performance Impact:\n",
    "\n",
    "In production code, you can easily disable or reduce the verbosity of logging statements without removing them from your code. This can be important for performance, especially in applications where print() statements might significantly impact performance due to the large volume of output.\n",
    "\n",
    "Testing and Debugging:\n",
    "\n",
    "During testing and debugging, you can have detailed logging statements to trace the flow of execution and identify issues. Once the code is stable, you can simply adjust the logging configuration to decrease the volume of log messages without altering the code."
   ]
  },
  {
   "cell_type": "markdown",
   "id": "775cfdd4",
   "metadata": {},
   "source": [
    "### 9. What are the differences between the Step Over, Step In, and Step Out buttons in the debugger?"
   ]
  },
  {
   "cell_type": "markdown",
   "id": "b4f9a55c",
   "metadata": {},
   "source": [
    "In the context of debugging, the terms \"Step Over,\" \"Step In,\" and \"Step Out\" refer to different ways of controlling the flow of execution in a debugger. These options are typically available in integrated development environments (IDEs) and debugger tools to help developers navigate through their code during debugging sessions. Here's what each of these options does:\n",
    "\n",
    "Step Over:\n",
    "\n",
    "Functionality: When you click \"Step Over\" (sometimes represented by an icon of a single arrow pointing right), the debugger executes the current line of code. If the current line contains a function call, the debugger will not enter the function. Instead, it will execute the entire function and stop at the line immediately after the function call.\n",
    "Use Case: Use \"Step Over\" when you want to execute the current line without delving into the details of the function calls made on that line.\n",
    "Step In:\n",
    "\n",
    "Functionality: When you click \"Step In\" (sometimes represented by an icon of a single arrow pointing down), the debugger enters the function called on the current line. It allows you to step through the function line by line, inspecting variables and evaluating expressions inside the function.\n",
    "Use Case: Use \"Step In\" when you want to dive into the details of a function call, understanding how the function works and how variables are manipulated within it.\n",
    "Step Out:\n",
    "\n",
    "Functionality: When you click \"Step Out\" (sometimes represented by an icon of a single arrow pointing up), the debugger runs until the current function returns and then stops. It's particularly useful when you have stepped into a function (using \"Step In\") but want to quickly return to the calling function's context.\n",
    "Use Case: Use \"Step Out\" when you have stepped into a function but want to quickly exit it and return to the higher-level context where the function was called."
   ]
  },
  {
   "cell_type": "markdown",
   "id": "f9ee4d28",
   "metadata": {},
   "source": [
    "### 10.After you click Continue, when will the debugger stop ?"
   ]
  },
  {
   "cell_type": "markdown",
   "id": "c0423416",
   "metadata": {},
   "source": [
    "When you click \"Continue\" in a debugger, the debugger will continue the program's execution without interruption until one of the following conditions is met:\n",
    "\n",
    "#### A Breakpoint is Encountered:\n",
    "\n",
    "If the program execution encounters a breakpoint, the debugger will pause at that specific line of code. Breakpoints are predetermined points in your code where you have instructed the debugger to pause the execution for inspection.\n",
    "\n",
    "\n",
    "#### An Exception (Error) Occurs:\n",
    "\n",
    "If the program encounters an unhandled exception or error, the debugger will stop at the line of code where the exception occurred. This behavior allows you to inspect the state of the program at the moment of the error, aiding in debugging.\n",
    "\n",
    "\n",
    "#### The Program Completes Execution:\n",
    "\n",
    "If the program runs to its completion without encountering any breakpoints or unhandled exceptions, the debugger will stop when the program finishes executing all the statements in its main flow or when it encounters a designated exit point.\n",
    "\n",
    "\n",
    "#### An External Signal is Received:\n",
    "\n",
    "In some debugging environments, external signals like user interrupt (such as pressing a keyboard combination like Ctrl+C) might cause the debugger to stop the program's execution.\n",
    "\n",
    "\n",
    "#### A Manual Interruption (Pause) is Triggered:\n",
    "\n",
    "Some debuggers allow manual interruption during program execution, where you can pause the program's execution at any point, even if no breakpoints or exceptions are encountered. This manual pause allows you to inspect the program's state on-demand.\n",
    "The exact behavior might vary depending on the debugger or integrated development environment (IDE) you are using. Always consult the documentation of the specific debugger or IDE for precise details about its behavior when you click \"Continue.\""
   ]
  },
  {
   "cell_type": "markdown",
   "id": "04c29d39",
   "metadata": {},
   "source": [
    "### 11. What is the concept of a breakpoint?"
   ]
  },
  {
   "cell_type": "markdown",
   "id": "4b4dd024",
   "metadata": {},
   "source": [
    "A breakpoint is a designated point in a computer program where normal execution is paused, and control is transferred to the debugger. Breakpoints are essential tools for debugging, as they allow developers to inspect the program's state, variables, and memory at specific points in the code without having to run the entire program line by line."
   ]
  }
 ],
 "metadata": {
  "kernelspec": {
   "display_name": "Python 3",
   "language": "python",
   "name": "python3"
  },
  "language_info": {
   "codemirror_mode": {
    "name": "ipython",
    "version": 3
   },
   "file_extension": ".py",
   "mimetype": "text/x-python",
   "name": "python",
   "nbconvert_exporter": "python",
   "pygments_lexer": "ipython3",
   "version": "3.8.8"
  }
 },
 "nbformat": 4,
 "nbformat_minor": 5
}
