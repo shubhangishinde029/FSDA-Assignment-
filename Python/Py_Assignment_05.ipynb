{
 "cells": [
  {
   "cell_type": "markdown",
   "id": "7d6b70c0",
   "metadata": {},
   "source": [
    "#### 1. What does an empty dictionary's code look like?"
   ]
  },
  {
   "cell_type": "markdown",
   "id": "00cd0f8f",
   "metadata": {},
   "source": [
    "In Python,an empty dictionary is represented by a pair of curly bracket '{}'. We can create a empty dictionary :\n",
    "\n",
    "\n",
    "my_dict= { } \n",
    "\n",
    "Once you create a empty dictionary you can assign a key and value pair to an empty dictionary: \n",
    "\n",
    "\n",
    "my_dict = { }\n",
    "\n",
    "my_dict['key'] = 'value'"
   ]
  },
  {
   "cell_type": "markdown",
   "id": "c7fd0082",
   "metadata": {},
   "source": [
    "#### 2. What is the value of a dictionary value with the key \"foo\" and the value 42?"
   ]
  },
  {
   "cell_type": "markdown",
   "id": "58981493",
   "metadata": {},
   "source": [
    "The value of a dictionary can be accessed by providing the corresponding key within square bracket. foo is assoicate with the value 42 in dictionary. "
   ]
  },
  {
   "cell_type": "code",
   "execution_count": 1,
   "id": "aea0e916",
   "metadata": {},
   "outputs": [
    {
     "name": "stdout",
     "output_type": "stream",
     "text": [
      "42\n"
     ]
    }
   ],
   "source": [
    "my_dict= {'foo': 42}\n",
    "value_of_foo = my_dict['foo']\n",
    "print(value_of_foo)"
   ]
  },
  {
   "cell_type": "markdown",
   "id": "a27e71c9",
   "metadata": {},
   "source": [
    "#### 3. What is the most significant distinction between a dictionary and a list?"
   ]
  },
  {
   "cell_type": "markdown",
   "id": "e053b7a2",
   "metadata": {},
   "source": [
    "- In dictionary you can acess the elements by their unique keys, while in list,you can access the elemDent by their indices.\n",
    "- Dictionaries are unordered. list maintain the order of element,allowing you to access based on their position.\n",
    "- Both dictionary and list are mutable. We can change the dividual element based on the their index. Dictionary allow you to modify their element using their key.\n",
    "- Dictionary require unique keys, so you can not have duplicate key. List allow duplicate values, you can have multiple occurances of the same element.\n",
    "- Dictionary stores data using key-value pair. Lits stores the data as individual elements "
   ]
  },
  {
   "cell_type": "markdown",
   "id": "ab52efe2",
   "metadata": {},
   "source": [
    "#### 4. What happens if you try to access spam[\"foo\"] if spam is {'bar': 100}?"
   ]
  },
  {
   "cell_type": "markdown",
   "id": "25832415",
   "metadata": {},
   "source": [
    "If you try to access 'spam[\"foo\"]' and 'spam' is '{'bar':100}', you will encouter an 'keyError' because the key \"foo\" does not exist in dictionary 'spam'."
   ]
  },
  {
   "cell_type": "code",
   "execution_count": 6,
   "id": "0ee8b94a",
   "metadata": {},
   "outputs": [
    {
     "ename": "KeyError",
     "evalue": "'foo'",
     "output_type": "error",
     "traceback": [
      "\u001b[1;31m---------------------------------------------------------------------------\u001b[0m",
      "\u001b[1;31mKeyError\u001b[0m                                  Traceback (most recent call last)",
      "\u001b[1;32m<ipython-input-6-120c5888198b>\u001b[0m in \u001b[0;36m<module>\u001b[1;34m\u001b[0m\n\u001b[0;32m      1\u001b[0m \u001b[0mspam\u001b[0m \u001b[1;33m=\u001b[0m \u001b[1;33m{\u001b[0m\u001b[1;34m'bar'\u001b[0m\u001b[1;33m:\u001b[0m\u001b[1;36m100\u001b[0m\u001b[1;33m}\u001b[0m\u001b[1;33m\u001b[0m\u001b[1;33m\u001b[0m\u001b[0m\n\u001b[1;32m----> 2\u001b[1;33m \u001b[0mvalue\u001b[0m \u001b[1;33m=\u001b[0m \u001b[0mspam\u001b[0m\u001b[1;33m[\u001b[0m\u001b[1;34m'foo'\u001b[0m\u001b[1;33m]\u001b[0m\u001b[1;33m\u001b[0m\u001b[1;33m\u001b[0m\u001b[0m\n\u001b[0m",
      "\u001b[1;31mKeyError\u001b[0m: 'foo'"
     ]
    }
   ],
   "source": [
    "spam = {'bar':100}\n",
    "value = spam['foo']   #The 'Keyerror' occurs because the key 'foo' is not present in dictionary 'spam'. To access avoid the error , you shold ensure that the key you are accessing actually exists in the dictionary "
   ]
  },
  {
   "cell_type": "markdown",
   "id": "e3ce1dcc",
   "metadata": {},
   "source": [
    "#### 5. If a dictionary is stored in spam, what is the difference between the expressions 'cat' in spam and 'cat' in spam.keys()?"
   ]
  },
  {
   "cell_type": "markdown",
   "id": "f440bf64",
   "metadata": {},
   "source": [
    "The 'in' opertor in python can be used to check f\n",
    "or the existance pf key in a dictionary.When used with a dictionary, as in 'cat' in spam, it checks the key 'cat' exists on the dictionary 'spam'.If the key is ,it returns 'True' otherwise it returns 'False'\n",
    "When using 'cat' in spam.keys() the 'key()' method od the dictionary 'spam' returns a view object containinf the keys of the dictionary. "
   ]
  },
  {
   "cell_type": "code",
   "execution_count": 8,
   "id": "f1e2ce23",
   "metadata": {},
   "outputs": [
    {
     "name": "stdout",
     "output_type": "stream",
     "text": [
      "True\n",
      "True\n"
     ]
    }
   ],
   "source": [
    "spam = {'cat':'meow','dog':'woof'}\n",
    "print('cat' in spam)   # using 'in ' with the dict\n",
    "\n",
    "print('cat'in spam.keys()) # using 'in' with spam.keys()"
   ]
  },
  {
   "cell_type": "markdown",
   "id": "59dfaff6",
   "metadata": {},
   "source": [
    "#### 6. If a dictionary is stored in spam, what is the difference between the expressions 'cat'in spam and'cat' in spam.values()?"
   ]
  },
  {
   "cell_type": "markdown",
   "id": "47a9fd4f",
   "metadata": {},
   "source": [
    "'cat' in spam' checks whether the string 'çat' is a key dictionary 'spam'. It will return 'True' if 'cat' is a key in 'spam' and 'False' otherwise. This expression checks if the dictionary contains the key 'cat'.\n",
    "'cat' in spam.values()' checks whether the string 'cat'is a value in the dictionry 'spam'. It will return 'True'if 'spam' and 'False'."
   ]
  },
  {
   "cell_type": "markdown",
   "id": "d555b791",
   "metadata": {},
   "source": [
    "#### 7. What is a shortcut for the following code?\n",
    "\n",
    "if 'color'not in spam:\n",
    "\n",
    "spam['color'] = 'black'"
   ]
  },
  {
   "cell_type": "markdown",
   "id": "17f54ee7",
   "metadata": {},
   "source": [
    "We can use 'dict.setdefault()' method. The 'setdefault()' method is uded to retrive the value of a specofied key in dictionary. If the key does not exist,it adds the key with a default value to the dictionary.\n",
    "\n",
    "spam.setdefault('color','black')"
   ]
  },
  {
   "cell_type": "markdown",
   "id": "8be925ab",
   "metadata": {},
   "source": [
    "#### 8. How do you \"pretty print\" dictionary values using which module and function?"
   ]
  },
  {
   "cell_type": "markdown",
   "id": "5f32c425",
   "metadata": {},
   "source": [
    "\"Pretty print\" dictionary values, you can use the 'pprint' modules 'pprint()'. The 'pprint'module is specially designed for pretty printing data structures\n",
    "\n",
    "Example:\n",
    "    \n",
    "    \n",
    "import pprint \n",
    "\n",
    "my_dict = {'name':'John','age': 40,'city':'New York'}\n",
    "pprint.pprint(my_dict)\n",
    "\n",
    "\n",
    "The 'pprint.pprint()' function takes the dictionary as input and prints it in a formatted and visually appealing way. It automatically handles indentation and line breaks to represent the dictionary in an easily radable structure. By using 'pprint.pprint()',you can obtain a more organized and structured representayion of the dicyionary,which can be helpful for debugging or displaying data in a more user friendly manner."
   ]
  }
 ],
 "metadata": {
  "kernelspec": {
   "display_name": "Python 3",
   "language": "python",
   "name": "python3"
  },
  "language_info": {
   "codemirror_mode": {
    "name": "ipython",
    "version": 3
   },
   "file_extension": ".py",
   "mimetype": "text/x-python",
   "name": "python",
   "nbconvert_exporter": "python",
   "pygments_lexer": "ipython3",
   "version": "3.8.8"
  }
 },
 "nbformat": 4,
 "nbformat_minor": 5
}
