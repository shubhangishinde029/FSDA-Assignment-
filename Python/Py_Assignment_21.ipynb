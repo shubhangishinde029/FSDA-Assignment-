{
 "cells": [
  {
   "cell_type": "markdown",
   "id": "465c3b3f",
   "metadata": {},
   "source": [
    "#### 1. Add the current date to the text file today.txt as a string."
   ]
  },
  {
   "cell_type": "code",
   "execution_count": 1,
   "id": "ba5b0c99",
   "metadata": {},
   "outputs": [],
   "source": [
    "import datetime\n",
    "\n",
    "# Get the current date as a string\n",
    "current_date = datetime.datetime.now().strftime(\"%Y-%m-%d %H:%M:%S\")\n",
    "\n",
    "# Write the current date to today.txt file\n",
    "with open('today.txt', 'w') as file:\n",
    "    file.write(current_date)"
   ]
  },
  {
   "cell_type": "markdown",
   "id": "53a58b46",
   "metadata": {},
   "source": [
    "datetime.datetime.now().strftime(\"%Y-%m-%d %H:%M:%S\") gets the current date and time as a string in the format \"YYYY-MM-DD HH:MM:SS\". Then, it opens the today.txt file in write mode ('w') and writes the current date to the file."
   ]
  },
  {
   "cell_type": "markdown",
   "id": "00781f09",
   "metadata": {},
   "source": [
    "#### 2. Read the text file today.txt into the string today_string"
   ]
  },
  {
   "cell_type": "code",
   "execution_count": 2,
   "id": "53192a1b",
   "metadata": {},
   "outputs": [
    {
     "name": "stdout",
     "output_type": "stream",
     "text": [
      "2023-10-26 18:11:18\n"
     ]
    }
   ],
   "source": [
    "# Read the contents of today.txt file into today_string\n",
    "with open('today.txt', 'r') as file:\n",
    "    today_string = file.read()\n",
    "\n",
    "print(today_string)"
   ]
  },
  {
   "cell_type": "markdown",
   "id": "3e99512b",
   "metadata": {},
   "source": [
    " the open('today.txt', 'r') statement opens the today.txt file in read mode ('r'), and the file.read() method reads the contents of the file and stores it in the variable today_string. Finally, the print(today_string) statement prints the contents of today.txt to the console"
   ]
  },
  {
   "cell_type": "markdown",
   "id": "8e07fda1",
   "metadata": {},
   "source": [
    "#### 3. Parse the date from today_string."
   ]
  },
  {
   "cell_type": "markdown",
   "id": "6bcfc0fa",
   "metadata": {},
   "source": [
    "Today_string contains a date string in a specific format, you can parse it into a datetime object using the datetime module in Python. Assuming today_string contains a date string in the format \"YYYY-MM-DD HH:MM:SS\""
   ]
  },
  {
   "cell_type": "code",
   "execution_count": 3,
   "id": "daa66b05",
   "metadata": {},
   "outputs": [
    {
     "name": "stdout",
     "output_type": "stream",
     "text": [
      "2023-10-26 18:11:18\n"
     ]
    }
   ],
   "source": [
    "from datetime import datetime\n",
    "\n",
    "# Assuming today_string is in the format \"YYYY-MM-DD HH:MM:SS\"\n",
    "date_format = \"%Y-%m-%d %H:%M:%S\"\n",
    "\n",
    "# Parse the date from today_string\n",
    "parsed_date = datetime.strptime(today_string, date_format)\n",
    "\n",
    "print(parsed_date)"
   ]
  },
  {
   "cell_type": "markdown",
   "id": "d0c37971",
   "metadata": {},
   "source": [
    "strptime() method is used to parse the today_string using the specified date format \"%Y-%m-%d %H:%M:%S\". After parsing, parsed_date will contain a datetime object representing the parsed date and time. You can adjust the date_format variable to match the format of the date string in today_string"
   ]
  },
  {
   "cell_type": "markdown",
   "id": "9eca2ad9",
   "metadata": {},
   "source": [
    "#### 4. List the files in your current directory"
   ]
  },
  {
   "cell_type": "code",
   "execution_count": 4,
   "id": "4472b281",
   "metadata": {},
   "outputs": [
    {
     "name": "stdout",
     "output_type": "stream",
     "text": [
      "Files in the current directory:\n",
      ".android\n",
      ".conda\n",
      ".condarc\n",
      ".continuum\n",
      ".dotnet\n",
      ".ipynb_checkpoints\n",
      ".ipython\n",
      ".jdks\n",
      ".jupyter\n",
      ".librarymanager\n",
      ".m2\n",
      ".matplotlib\n",
      ".ms-ad\n",
      "3D Objects\n",
      "anaconda3\n",
      "AppData\n",
      "Application Data\n",
      "books.csv\n",
      "books.db\n",
      "Contacts\n",
      "Cookies\n",
      "Desktop\n",
      "Documents\n",
      "Downloads\n",
      "Favorites\n",
      "IdeaProjects\n",
      "IntelGraphicsProfiles\n",
      "Links\n",
      "Local Settings\n",
      "Microsoft\n",
      "Music\n",
      "My Documents\n",
      "NetHood\n",
      "NTUSER.DAT\n",
      "ntuser.dat.LOG1\n",
      "ntuser.dat.LOG2\n",
      "NTUSER.DAT{53b39e88-18c4-11ea-a811-000d3aa4692b}.TM.blf\n",
      "NTUSER.DAT{53b39e88-18c4-11ea-a811-000d3aa4692b}.TMContainer00000000000000000001.regtrans-ms\n",
      "NTUSER.DAT{53b39e88-18c4-11ea-a811-000d3aa4692b}.TMContainer00000000000000000002.regtrans-ms\n",
      "ntuser.ini\n",
      "OneDrive\n",
      "Pictures\n",
      "Postman\n",
      "PrintHood\n",
      "PyCharm Community Edition 2021.1.3\n",
      "PycharmProjects\n",
      "Py_Assignment_01.ipynb\n",
      "Py_Assignment_02.ipynb\n",
      "Py_Assignment_03.ipynb\n",
      "Py_Assignment_04.ipynb\n",
      "Py_Assignment_05.ipynb\n",
      "Py_Assignment_06.ipynb\n",
      "Py_Assignment_07.ipynb\n",
      "Py_Assignment_10.ipynb\n",
      "Py_Assignment_11.ipynb\n",
      "Py_Assignment_12.ipynb\n",
      "Py_Assignment_13.ipynb\n",
      "Py_Assignment_14.ipynb\n",
      "Py_Assignment_15.ipynb\n",
      "Py_Assignment_16.ipynb\n",
      "Py_Assignment_17.ipynb\n",
      "Py_Assignment_18.ipynb\n",
      "Py_Assignment_19.ipynb\n",
      "Py_Assignment_20.ipynb\n",
      "Py_Assignment_21.ipynb\n",
      "Py_Assignment_22.ipynb\n",
      "Py_Assignment_23.ipynb\n",
      "Py_Assignment_24.ipynb\n",
      "Py_Assignment_25.ipynb\n",
      "Py_Assignment_7.ipynb\n",
      "Py_Assignment_8.ipynb\n",
      "Py_Assignment_9.ipynb\n",
      "Recent\n",
      "Saved Games\n",
      "Searches\n",
      "SendTo\n",
      "source\n",
      "Start Menu\n",
      "Templates\n",
      "test.txt\n",
      "today.txt\n",
      "Untitled.ipynb\n",
      "untitled.txt\n",
      "Untitled1.ipynb\n",
      "untitled1.txt\n",
      "Untitled10.ipynb\n",
      "Untitled11.ipynb\n",
      "Untitled12.ipynb\n",
      "Untitled13.ipynb\n",
      "Untitled14.ipynb\n",
      "Untitled15.ipynb\n",
      "Untitled16.ipynb\n",
      "Untitled17.ipynb\n",
      "Untitled18.ipynb\n",
      "Untitled2.ipynb\n",
      "untitled2.txt\n",
      "Untitled3.ipynb\n",
      "untitled3.txt\n",
      "Untitled4.ipynb\n",
      "untitled4.txt\n",
      "Untitled5.ipynb\n",
      "Untitled6.ipynb\n",
      "Untitled7.ipynb\n",
      "Untitled8.ipynb\n",
      "Untitled9.ipynb\n",
      "Videos\n"
     ]
    }
   ],
   "source": [
    "import os\n",
    "\n",
    "# Get the current directory\n",
    "current_directory = os.getcwd()\n",
    "\n",
    "# List files in the current directory\n",
    "files = os.listdir(current_directory)\n",
    "\n",
    "print(\"Files in the current directory:\")\n",
    "for file in files:\n",
    "    print(file)"
   ]
  },
  {
   "cell_type": "markdown",
   "id": "9b62a737",
   "metadata": {},
   "source": [
    "#### 5. Create a list of all of the files in your parent directory (minimum five files should be available)."
   ]
  },
  {
   "cell_type": "code",
   "execution_count": 5,
   "id": "ec842190",
   "metadata": {},
   "outputs": [
    {
     "name": "stdout",
     "output_type": "stream",
     "text": [
      "Files in the parent directory:\n",
      "['desktop.ini']\n"
     ]
    }
   ],
   "source": [
    "import os\n",
    "\n",
    "# Get the parent directory\n",
    "parent_directory = os.path.dirname(os.getcwd())  # Assuming the script is in a subdirectory\n",
    "\n",
    "# List files in the parent directory\n",
    "files_in_parent_directory = os.listdir(parent_directory)\n",
    "\n",
    "# Filter out files (excluding directories) if needed\n",
    "files_list = [file for file in files_in_parent_directory if os.path.isfile(os.path.join(parent_directory, file))]\n",
    "\n",
    "print(\"Files in the parent directory:\")\n",
    "print(files_list[:5])  # Print the first five files in the list"
   ]
  },
  {
   "cell_type": "markdown",
   "id": "c41979ca",
   "metadata": {},
   "source": [
    "os.path.dirname(os.getcwd()) gets the parent directory of the current working directory. Then, os.listdir() lists all the files in that directory. The list comprehension filters out directories, giving you a list of files. Finally, it prints the first five files in the list. Note that you might need to adjust the path if your script is not directly in a subdirectory of the parent directory."
   ]
  },
  {
   "cell_type": "markdown",
   "id": "0014b404",
   "metadata": {},
   "source": [
    "#### 6. Use multiprocessing to create three separate processes. Make each one wait a random number of seconds between one and five, print the current time, and then exit."
   ]
  },
  {
   "cell_type": "code",
   "execution_count": 7,
   "id": "d42a5e8e",
   "metadata": {},
   "outputs": [
    {
     "name": "stdout",
     "output_type": "stream",
     "text": [
      "All processes have finished.\n"
     ]
    }
   ],
   "source": [
    "import multiprocessing\n",
    "import time\n",
    "import random\n",
    "from datetime import datetime\n",
    "\n",
    "def print_current_time(process_number):\n",
    "    # Generate a random number of seconds between 1 and 5\n",
    "    sleep_time = random.randint(1, 5)\n",
    "    \n",
    "    # Wait for the random number of seconds\n",
    "    time.sleep(sleep_time)\n",
    "    \n",
    "    # Get the current time\n",
    "    current_time = datetime.now().strftime(\"%Y-%m-%d %H:%M:%S\")\n",
    "    \n",
    "    # Print the current time and process number\n",
    "    print(f\"Process {process_number}: Current Time - {current_time}\")\n",
    "    \n",
    "\n",
    "if __name__ == \"__main__\":\n",
    "    # Create three separate processes\n",
    "    processes = []\n",
    "    for i in range(1, 4):\n",
    "        process = multiprocessing.Process(target=print_current_time, args=(i,))\n",
    "        processes.append(process)\n",
    "        process.start()\n",
    "    \n",
    "    # Wait for all processes to complete\n",
    "    for process in processes:\n",
    "        process.join()\n",
    "\n",
    "    print(\"All processes have finished.\")"
   ]
  },
  {
   "cell_type": "markdown",
   "id": "8794efe2",
   "metadata": {},
   "source": [
    "print_current_time is the function that each process will run. It generates a random sleep time between 1 and 5 seconds, waits, retrieves the current time, and prints it along with the process number. The multiprocessing.Process class is used to create separate processes, and the start() method starts each process. The join() method is called to wait for all processes to complete before printing \"All processes have finished.\""
   ]
  },
  {
   "cell_type": "markdown",
   "id": "723edf68",
   "metadata": {},
   "source": [
    "#### 7. Create a date object of your day of birth."
   ]
  },
  {
   "cell_type": "code",
   "execution_count": 8,
   "id": "8fd04444",
   "metadata": {},
   "outputs": [
    {
     "name": "stdout",
     "output_type": "stream",
     "text": [
      "Birthdate: 1995-09-29\n"
     ]
    }
   ],
   "source": [
    "from datetime import date\n",
    "\n",
    "# Specify the year, month, and day of birth\n",
    "birth_year = 1995\n",
    "birth_month = 9\n",
    "birth_day = 29\n",
    "\n",
    "# Create a date object for the birthdate\n",
    "birth_date = date(birth_year, birth_month, birth_day)\n",
    "\n",
    "print(\"Birthdate:\", birth_date)"
   ]
  },
  {
   "cell_type": "markdown",
   "id": "ea1ec5de",
   "metadata": {},
   "source": [
    "#### 8. What day of the week was your day of birth?"
   ]
  },
  {
   "cell_type": "code",
   "execution_count": 10,
   "id": "66dc9b5d",
   "metadata": {},
   "outputs": [
    {
     "name": "stdout",
     "output_type": "stream",
     "text": [
      "My (hypothetical) birthdate: 1995-09-29\n",
      "Day of the week: Friday\n"
     ]
    }
   ],
   "source": [
    "from datetime import date\n",
    "\n",
    "# Specify the year, month, and day of the birthdate\n",
    "birth_year = 1995\n",
    "birth_month = 9\n",
    "birth_day = 29\n",
    "\n",
    "# Create a date object for the birthdate\n",
    "birth_date = date(birth_year, birth_month, birth_day)\n",
    "\n",
    "# Get the day of the week (0 = Monday, 6 = Sunday)\n",
    "day_of_week = birth_date.weekday()\n",
    "\n",
    "# Convert the numerical day of the week to a string\n",
    "days = ['Monday', 'Tuesday', 'Wednesday', 'Thursday', 'Friday', 'Saturday', 'Sunday']\n",
    "day_name = days[day_of_week]\n",
    "\n",
    "print(\"My (hypothetical) birthdate:\", birth_date)\n",
    "print(\"Day of the week:\", day_name)"
   ]
  },
  {
   "cell_type": "markdown",
   "id": "e5997a8c",
   "metadata": {},
   "source": [
    "#### 9. When will you be (or when were you) 10,000 days old?"
   ]
  },
  {
   "cell_type": "code",
   "execution_count": 11,
   "id": "a49be64c",
   "metadata": {},
   "outputs": [
    {
     "name": "stdout",
     "output_type": "stream",
     "text": [
      "The person will be (or was) 10,000 days old on: 2018-03-13 00:00:00\n"
     ]
    }
   ],
   "source": [
    "from datetime import datetime, timedelta\n",
    "\n",
    "# Specify the starting date of birth or any other date\n",
    "start_date = datetime(1990, 10, 26)  # Year, Month, Day\n",
    "\n",
    "# Calculate the date when the person will be (or was) 10,000 days old\n",
    "days_to_add = 10000\n",
    "target_date = start_date + timedelta(days=days_to_add)\n",
    "\n",
    "print(\"The person will be (or was) 10,000 days old on:\", target_date)"
   ]
  },
  {
   "cell_type": "markdown",
   "id": "c09dbcde",
   "metadata": {},
   "source": [
    "datetime(1990, 10, 26) with the specific birthdate or starting date. The timedelta(days=days_to_add) calculates a duration of 10,000 days, which is then added to the starting date to find the target date. The result will be displayed in the target_date variable."
   ]
  }
 ],
 "metadata": {
  "kernelspec": {
   "display_name": "Python 3",
   "language": "python",
   "name": "python3"
  },
  "language_info": {
   "codemirror_mode": {
    "name": "ipython",
    "version": 3
   },
   "file_extension": ".py",
   "mimetype": "text/x-python",
   "name": "python",
   "nbconvert_exporter": "python",
   "pygments_lexer": "ipython3",
   "version": "3.8.8"
  }
 },
 "nbformat": 4,
 "nbformat_minor": 5
}
