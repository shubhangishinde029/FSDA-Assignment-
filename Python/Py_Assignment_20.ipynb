{
 "cells": [
  {
   "cell_type": "markdown",
   "id": "7a81195a",
   "metadata": {},
   "source": [
    "#### 1. Set the variable test1 to the string &#39;This is a test of the emergency text system,&#39; and save test1 to afile named test.txt."
   ]
  },
  {
   "cell_type": "code",
   "execution_count": 6,
   "id": "62332937",
   "metadata": {},
   "outputs": [
    {
     "name": "stdout",
     "output_type": "stream",
     "text": [
      "Content saved to test.txt file.\n"
     ]
    }
   ],
   "source": [
    "# Set the variable test1 to the given string\n",
    "test1 = 'This is a test of the emergency text system.'\n",
    "\n",
    "# Open a file named test.txt in write mode\n",
    "with open('test.txt', 'w') as file:\n",
    "    # Write the content of test1 to the file\n",
    "    file.write(test1)\n",
    "\n",
    "print(\"Content saved to test.txt file.\")"
   ]
  },
  {
   "cell_type": "markdown",
   "id": "f8438302",
   "metadata": {},
   "source": [
    "the open() function is used to open a file named test.txt in write mode ('w'). The with statement ensures that the file is properly closed after writing. The write() method is used to write the content of the test1 variable to the file. After running this code, you will find a file named test.txt in the same directory as your Python script, containing the text \"This is a test of the emergency text system."
   ]
  },
  {
   "cell_type": "markdown",
   "id": "fa174bdc",
   "metadata": {},
   "source": [
    "#### 2. Read the contents of the file test.txt into the variable test2. Is there a difference between test 1 and test 2?"
   ]
  },
  {
   "cell_type": "code",
   "execution_count": 7,
   "id": "d531a769",
   "metadata": {},
   "outputs": [
    {
     "name": "stdout",
     "output_type": "stream",
     "text": [
      "test1 and test2 are the same.\n"
     ]
    }
   ],
   "source": [
    "# Read the contents of the file test.txt into the variable test2\n",
    "with open('test.txt', 'r') as file:\n",
    "    test2 = file.read()\n",
    "\n",
    "# Compare test1 and test2\n",
    "if test1 == test2:\n",
    "    print(\"test1 and test2 are the same.\")\n",
    "else:\n",
    "    print(\"test1 and test2 are different.\")"
   ]
  },
  {
   "cell_type": "markdown",
   "id": "13431be2",
   "metadata": {},
   "source": [
    "open() function is used with the read mode ('r') to open the test.txt file. The read() method is used to read the contents of the file into the variable test2.\n",
    "\n",
    "The code then compares the content of test1 and test2. If they are the same, it will print \"test1 and test2 are the same.\" Otherwise, it will print \"test1 and test2 are different.\"\n",
    "\n",
    "Make sure that the test.txt file exists in the same directory as your Python script for this code to work correctly. If the content of test1 was successfully saved to test.txt, and no changes were made to the file, test1 and test2 should be the same."
   ]
  },
  {
   "cell_type": "markdown",
   "id": "a8c46e6e",
   "metadata": {},
   "source": [
    "#### 3. Create a CSV file called books.csv by using these lines:  title,author,year   The Weirdstone of Brisingamen,Alan Garner,1960  Perdido Street Station,China Miéville,2000  Thud!,Terry Pratchett,2005  The Spellman Files,Lisa Lutz,2007  Small Gods,Terry Pratchett,1992"
   ]
  },
  {
   "cell_type": "code",
   "execution_count": 8,
   "id": "f4ebf661",
   "metadata": {},
   "outputs": [
    {
     "name": "stdout",
     "output_type": "stream",
     "text": [
      "books.csv created successfully.\n"
     ]
    }
   ],
   "source": [
    "import csv\n",
    "\n",
    "# Data to be written to the CSV file\n",
    "data = [\n",
    "    ['title', 'author', 'year'],\n",
    "    ['The Weirdstone of Brisingamen', 'Alan Garner', 1960],\n",
    "    ['Perdido Street Station', 'China Miéville', 2000],\n",
    "    ['Thud!', 'Terry Pratchett', 2005],\n",
    "    ['The Spellman Files', 'Lisa Lutz', 2007],\n",
    "    ['Small Gods', 'Terry Pratchett', 1992]\n",
    "]\n",
    "\n",
    "# Write data to the CSV file\n",
    "with open('books.csv', 'w', newline='') as csvfile:\n",
    "    csvwriter = csv.writer(csvfile)\n",
    "    csvwriter.writerows(data)\n",
    "\n",
    "print(\"books.csv created successfully.\")"
   ]
  },
  {
   "cell_type": "markdown",
   "id": "eb9eb522",
   "metadata": {},
   "source": [
    "csv module is used to write the given data to a CSV file named books.csv. The writerows() function writes the data to the file. After running this code, you will find a file named books.csv containing the specified information."
   ]
  },
  {
   "cell_type": "markdown",
   "id": "55ec905f",
   "metadata": {},
   "source": [
    "#### 4. Use the sqlite3 module to create a SQLite database called books.db, and a table called books with these fields: title (text), author (text), and year (integer)"
   ]
  },
  {
   "cell_type": "code",
   "execution_count": 9,
   "id": "c97dde75",
   "metadata": {},
   "outputs": [
    {
     "name": "stdout",
     "output_type": "stream",
     "text": [
      "Database 'books.db' created successfully with 'books' table.\n"
     ]
    }
   ],
   "source": [
    "import sqlite3\n",
    "\n",
    "# Connect to the SQLite database (or create it if it doesn't exist)\n",
    "conn = sqlite3.connect('books.db')\n",
    "\n",
    "# Create a cursor object to execute SQL commands\n",
    "cursor = conn.cursor()\n",
    "\n",
    "# Execute SQL command to create the 'books' table\n",
    "cursor.execute('''\n",
    "    CREATE TABLE books (\n",
    "        id INTEGER PRIMARY KEY AUTOINCREMENT,\n",
    "        title TEXT,\n",
    "        author TEXT,\n",
    "        year INTEGER\n",
    "    )\n",
    "''')\n",
    "\n",
    "# Commit the changes and close the connection\n",
    "conn.commit()\n",
    "conn.close()\n",
    "\n",
    "print(\"Database 'books.db' created successfully with 'books' table.\")"
   ]
  },
  {
   "cell_type": "markdown",
   "id": "9ac8bc2c",
   "metadata": {},
   "source": [
    " the sqlite3 module is used to connect to the SQLite database (books.db). The cursor object is used to execute the SQL command to create the books table. The table has fields: id (auto-incremented primary key), title (text), author (text), and year (integer).\n",
    "\n",
    "After running this code, you will have a SQLite database file named books.db containing a table called books with the specified fields."
   ]
  },
  {
   "cell_type": "markdown",
   "id": "6b597f37",
   "metadata": {},
   "source": [
    "#### 5. Read books.csv and insert its data into the book table."
   ]
  },
  {
   "cell_type": "code",
   "execution_count": 10,
   "id": "999d3818",
   "metadata": {},
   "outputs": [
    {
     "name": "stdout",
     "output_type": "stream",
     "text": [
      "Data from books.csv inserted into 'books' table in books.db database.\n"
     ]
    }
   ],
   "source": [
    "import csv\n",
    "import sqlite3\n",
    "\n",
    "# Connect to the SQLite database\n",
    "conn = sqlite3.connect('books.db')\n",
    "cursor = conn.cursor()\n",
    "\n",
    "# Create the books table if it doesn't exist\n",
    "cursor.execute('''\n",
    "    CREATE TABLE IF NOT EXISTS books (\n",
    "        id INTEGER PRIMARY KEY AUTOINCREMENT,\n",
    "        title TEXT,\n",
    "        author TEXT,\n",
    "        year INTEGER\n",
    "    )\n",
    "''')\n",
    "\n",
    "# Read data from books.csv and insert it into the books table\n",
    "with open('books.csv', 'r') as csvfile:\n",
    "    csvreader = csv.reader(csvfile)\n",
    "    next(csvreader)  # Skip header row\n",
    "    for row in csvreader:\n",
    "        title, author, year = row\n",
    "        cursor.execute('INSERT INTO books (title, author, year) VALUES (?, ?, ?)', (title, author, int(year)))\n",
    "\n",
    "# Commit the changes and close the connection\n",
    "conn.commit()\n",
    "conn.close()\n",
    "\n",
    "print(\"Data from books.csv inserted into 'books' table in books.db database.\")"
   ]
  },
  {
   "cell_type": "markdown",
   "id": "2ba48235",
   "metadata": {},
   "source": [
    "#### 6. Select and print the title column from the book table in alphabetical order."
   ]
  },
  {
   "cell_type": "code",
   "execution_count": 11,
   "id": "caec1023",
   "metadata": {},
   "outputs": [
    {
     "name": "stdout",
     "output_type": "stream",
     "text": [
      "Perdido Street Station\n",
      "Small Gods\n",
      "The Spellman Files\n",
      "The Weirdstone of Brisingamen\n",
      "Thud!\n"
     ]
    }
   ],
   "source": [
    "import sqlite3\n",
    "\n",
    "# Connect to the SQLite database\n",
    "conn = sqlite3.connect('books.db')\n",
    "cursor = conn.cursor()\n",
    "\n",
    "# Select the title column from the books table in alphabetical order\n",
    "cursor.execute('SELECT title FROM books ORDER BY title ASC')\n",
    "\n",
    "# Fetch all rows and print the titles\n",
    "titles = cursor.fetchall()\n",
    "for title in titles:\n",
    "    print(title[0])\n",
    "\n",
    "# Close the connection\n",
    "conn.close()"
   ]
  },
  {
   "cell_type": "markdown",
   "id": "eaf49493",
   "metadata": {},
   "source": [
    "1. sqlite3 module is used to connect to the books.db database.\n",
    "2. SQL query SELECT title FROM books ORDER BY title ASC is executed to select the title column from the books table and order the results alphabetically.\n",
    "3. cursor.fetchall() retrieves all the selected rows, and the title values are printed one by one.\n",
    "Ensure the books.db database is in the same directory as your Python script, or provide the correct path to the database file in the sqlite3.connect() call. When you run this code, it will print the title column from the books table in alphabetical order."
   ]
  },
  {
   "cell_type": "markdown",
   "id": "9c292936",
   "metadata": {},
   "source": [
    "#### 7. From the book table, select and print all columns in the order of publication."
   ]
  },
  {
   "cell_type": "code",
   "execution_count": 12,
   "id": "5c4aa072",
   "metadata": {},
   "outputs": [
    {
     "name": "stdout",
     "output_type": "stream",
     "text": [
      "(1, 'The Weirdstone of Brisingamen', 'Alan Garner', 1960)\n",
      "(5, 'Small Gods', 'Terry Pratchett', 1992)\n",
      "(2, 'Perdido Street Station', 'China Miéville', 2000)\n",
      "(3, 'Thud!', 'Terry Pratchett', 2005)\n",
      "(4, 'The Spellman Files', 'Lisa Lutz', 2007)\n"
     ]
    }
   ],
   "source": [
    "import sqlite3\n",
    "\n",
    "# Connect to the SQLite database\n",
    "conn = sqlite3.connect('books.db')\n",
    "cursor = conn.cursor()\n",
    "\n",
    "# Select all columns from the books table ordered by the year column\n",
    "cursor.execute('SELECT * FROM books ORDER BY year ASC')\n",
    "\n",
    "# Fetch all rows and print the columns\n",
    "rows = cursor.fetchall()\n",
    "for row in rows:\n",
    "    print(row)\n",
    "\n",
    "# Close the connection\n",
    "conn.close()\n"
   ]
  },
  {
   "cell_type": "markdown",
   "id": "6bf281f0",
   "metadata": {},
   "source": [
    "1.The SQL query SELECT * FROM books ORDER BY year ASC selects all columns from the books table and orders the results by the year column in ascending order.\n",
    "\n",
    "\n",
    "2.fetchall() retrieves all selected rows, and the entire rows (all columns) are printed one by one.\n",
    "Ensure the books.db database is in the same directory as your Python script, or provide the correct path to the database file in the sqlite3.connect() call. When you run this code, it will print all columns from the books table, ordered by the publication year (year) in ascending order."
   ]
  },
  {
   "cell_type": "markdown",
   "id": "7d7defd7",
   "metadata": {},
   "source": [
    "#### 8. Use the sqlalchemy module to connect to the sqlite3 database books.db that you just made in 6."
   ]
  },
  {
   "cell_type": "code",
   "execution_count": 13,
   "id": "c3b07d91",
   "metadata": {},
   "outputs": [
    {
     "name": "stdout",
     "output_type": "stream",
     "text": [
      "Connected to the 'books.db' database using SQLAlchemy.\n"
     ]
    }
   ],
   "source": [
    "from sqlalchemy import create_engine\n",
    "\n",
    "# Create an engine to connect to the SQLite database\n",
    "engine = create_engine('sqlite:///books.db')\n",
    "\n",
    "# Establish a connection to the database\n",
    "connection = engine.connect()\n",
    "\n",
    "print(\"Connected to the 'books.db' database using SQLAlchemy.\")"
   ]
  },
  {
   "cell_type": "markdown",
   "id": "b5ea0c0c",
   "metadata": {},
   "source": [
    "create_engine function is used to create an engine to connect to the SQLite database. The engine URL 'sqlite:///books.db' specifies that the database is SQLite and is located in the current directory with the name books.db. The engine.connect() function establishes a connection to the database.\n",
    "\n",
    "Make sure to have the books.db file in the same directory as your Python script or specify the correct path to the database file in the create_engine function. When you run this code, it will print \"Connected to the 'books.db' database using SQLAlchemy.\" indicating a successful connection to the SQLite database."
   ]
  },
  {
   "cell_type": "markdown",
   "id": "1ee60e15",
   "metadata": {},
   "source": [
    "#### 9. Install the Redis server and the Python redis library (pip install redis) on your computer. Create aRedis hash called test with the fields count (1) and name (&#39;Fester Bestertester&#39;). Print all the fields for test."
   ]
  },
  {
   "cell_type": "markdown",
   "id": "2e1c18bc",
   "metadata": {},
   "source": [
    "1. Redis Server:\n",
    "\n",
    "2.Visit the official Redis website: https://redis.io/download\n",
    "Follow the installation instructions specific to your operating system.\n",
    "Install Python Redis Library:\n",
    "Open your terminal or command prompt and run the following command to install the redis library using pip:"
   ]
  },
  {
   "cell_type": "code",
   "execution_count": 14,
   "id": "ad517093",
   "metadata": {},
   "outputs": [
    {
     "name": "stdout",
     "output_type": "stream",
     "text": [
      "Collecting redis\n",
      "  Downloading redis-5.0.1-py3-none-any.whl (250 kB)\n",
      "Collecting async-timeout>=4.0.2\n",
      "  Downloading async_timeout-4.0.3-py3-none-any.whl (5.7 kB)\n",
      "Installing collected packages: async-timeout, redis\n",
      "Successfully installed async-timeout-4.0.3 redis-5.0.1\n",
      "Note: you may need to restart the kernel to use updated packages.\n"
     ]
    }
   ],
   "source": [
    "pip install redis"
   ]
  },
  {
   "cell_type": "markdown",
   "id": "f2cf4efa",
   "metadata": {},
   "source": [
    "3 . Python Code to Create Redis Hash and Print Fields:\n",
    "Now, you can create a Redis hash called test with the fields count and name, and then print all the fields."
   ]
  },
  {
   "cell_type": "code",
   "execution_count": null,
   "id": "059e15a3",
   "metadata": {},
   "outputs": [],
   "source": [
    "import redis\n",
    "\n",
    "# Connect to the Redis server (assuming it's running on the default localhost and port)\n",
    "r = redis.Redis(host='localhost', port=6379, db=0)\n",
    "\n",
    "# Create a Redis hash called 'test' with fields 'count' and 'name'\n",
    "r.hset('test', 'count', 1)\n",
    "r.hset('test', 'name', 'Fester Bestertester')\n",
    "\n",
    "# Print all fields for the 'test' hash\n",
    "all_fields = r.hgetall('test')\n",
    "decoded_fields = {key.decode(): value.decode() for key, value in all_fields.items()}\n",
    "print(decoded_fields)"
   ]
  },
  {
   "cell_type": "markdown",
   "id": "6f09a3d3",
   "metadata": {},
   "source": [
    "#### 10. Increment the count field of test and print it."
   ]
  },
  {
   "cell_type": "code",
   "execution_count": null,
   "id": "9410a420",
   "metadata": {},
   "outputs": [],
   "source": [
    "import redis\n",
    "\n",
    "# Connect to the Redis server (assuming it's running on the default localhost and port)\n",
    "r = redis.Redis(host='localhost', port=6379, db=0)\n",
    "\n",
    "# Increment the 'count' field of the 'test' hash\n",
    "r.hincrby('test', 'count', 1)\n",
    "\n",
    "# Print the updated 'count' field value\n",
    "count_value = r.hget('test', 'count').decode()\n",
    "print(\"Updated 'count' field value:\", count_value)"
   ]
  }
 ],
 "metadata": {
  "kernelspec": {
   "display_name": "Python 3",
   "language": "python",
   "name": "python3"
  },
  "language_info": {
   "codemirror_mode": {
    "name": "ipython",
    "version": 3
   },
   "file_extension": ".py",
   "mimetype": "text/x-python",
   "name": "python",
   "nbconvert_exporter": "python",
   "pygments_lexer": "ipython3",
   "version": "3.8.8"
  }
 },
 "nbformat": 4,
 "nbformat_minor": 5
}
