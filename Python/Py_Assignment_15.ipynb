{
 "cells": [
  {
   "cell_type": "markdown",
   "id": "ec170483",
   "metadata": {},
   "source": [
    "### 1.How many seconds are in an hour? Use the interactive interpreter as a calculator and multiply the number of seconds in a minute (60) by the number of minutes in an hour (also 60)."
   ]
  },
  {
   "cell_type": "code",
   "execution_count": 1,
   "id": "50484b6a",
   "metadata": {},
   "outputs": [
    {
     "name": "stdout",
     "output_type": "stream",
     "text": [
      "Number of seconds in an hour: 3600\n"
     ]
    }
   ],
   "source": [
    "seconds_in_minute = 60\n",
    "minutes_in_hour = 60\n",
    "\n",
    "# Multiply the number of seconds in a minute by the number of minutes in an hour\n",
    "seconds_in_hour = seconds_in_minute * minutes_in_hour\n",
    "\n",
    "# Print the result\n",
    "print(\"Number of seconds in an hour:\", seconds_in_hour)"
   ]
  },
  {
   "cell_type": "markdown",
   "id": "f1b6d8b7",
   "metadata": {},
   "source": [
    "### 2. Assign the result from the previous task (seconds in an hour) to a variable called seconds_per_hour."
   ]
  },
  {
   "cell_type": "code",
   "execution_count": 2,
   "id": "47f5c39b",
   "metadata": {},
   "outputs": [
    {
     "name": "stdout",
     "output_type": "stream",
     "text": [
      "Number of seconds in an hour: 3600\n"
     ]
    }
   ],
   "source": [
    "seconds_in_minute = 60\n",
    "minutes_in_hour = 60\n",
    "\n",
    "# Multiply the number of seconds in a minute by the number of minutes in an hour\n",
    "seconds_per_hour = seconds_in_minute * minutes_in_hour\n",
    "\n",
    "# Print the result\n",
    "print(\"Number of seconds in an hour:\", seconds_per_hour)"
   ]
  },
  {
   "cell_type": "markdown",
   "id": "258d1620",
   "metadata": {},
   "source": [
    "### 3. How many seconds do you think there are in a day? Make use of the variables seconds per hour and minutes per hour."
   ]
  },
  {
   "cell_type": "markdown",
   "id": "67481530",
   "metadata": {},
   "source": [
    "To calculate the number of seconds in a day, you can multiply the number of seconds in an hour by the number of hours in a day. Using the variable seconds_per_hour (which is 3600) that we calculated earlier, and considering there are 24 hours in a day, the calculation would be:"
   ]
  },
  {
   "cell_type": "code",
   "execution_count": 3,
   "id": "96e11bee",
   "metadata": {},
   "outputs": [
    {
     "name": "stdout",
     "output_type": "stream",
     "text": [
      "Number of seconds in a day: 86400\n"
     ]
    }
   ],
   "source": [
    "# Number of hours in a day\n",
    "hours_in_day = 24\n",
    "\n",
    "# Calculate the number of seconds in a day\n",
    "seconds_per_day = seconds_per_hour * hours_in_day\n",
    "\n",
    "# Print the result\n",
    "print(\"Number of seconds in a day:\", seconds_per_day)"
   ]
  },
  {
   "cell_type": "markdown",
   "id": "33c9daeb",
   "metadata": {},
   "source": [
    "### 4. Calculate seconds per day again, but this time save the result in a variable called seconds_per_day"
   ]
  },
  {
   "cell_type": "code",
   "execution_count": 4,
   "id": "8fecfd3b",
   "metadata": {},
   "outputs": [
    {
     "name": "stdout",
     "output_type": "stream",
     "text": [
      "Number of seconds in a day: 86400\n"
     ]
    }
   ],
   "source": [
    "# Number of hours in a day\n",
    "hours_in_day = 24\n",
    "\n",
    "# Calculate the number of seconds in a day and store it in the variable seconds_per_day\n",
    "seconds_per_day = seconds_per_hour * hours_in_day\n",
    "\n",
    "# Print the result\n",
    "print(\"Number of seconds in a day:\", seconds_per_day)"
   ]
  },
  {
   "cell_type": "markdown",
   "id": "dd043ca2",
   "metadata": {},
   "source": [
    "### 5. Divide seconds_per_day by seconds_per_hour. Use floating-point (/) division."
   ]
  },
  {
   "cell_type": "code",
   "execution_count": 5,
   "id": "5964173d",
   "metadata": {},
   "outputs": [
    {
     "name": "stdout",
     "output_type": "stream",
     "text": [
      "Result of seconds_per_day divided by seconds_per_hour: 24.0\n"
     ]
    }
   ],
   "source": [
    "# Divide seconds_per_day by seconds_per_hour using floating-point division\n",
    "result = seconds_per_day / seconds_per_hour\n",
    "\n",
    "# Print the result\n",
    "print(\"Result of seconds_per_day divided by seconds_per_hour:\", result)"
   ]
  },
  {
   "cell_type": "markdown",
   "id": "15bb8e43",
   "metadata": {},
   "source": [
    "### 6. Divide seconds_per_day by seconds_per_hour, using integer (//) division. Did this number agree with the floating-point value from the previous question, aside from the final .0?"
   ]
  },
  {
   "cell_type": "markdown",
   "id": "5bd609e5",
   "metadata": {},
   "source": [
    "To divide seconds_per_day by seconds_per_hour using integer (//) division in Python, you can use the //"
   ]
  },
  {
   "cell_type": "code",
   "execution_count": 6,
   "id": "e9f7fffb",
   "metadata": {},
   "outputs": [
    {
     "name": "stdout",
     "output_type": "stream",
     "text": [
      "Result of seconds_per_day divided by seconds_per_hour (integer division): 24\n"
     ]
    }
   ],
   "source": [
    "# Divide seconds_per_day by seconds_per_hour using integer division\n",
    "result_integer_division = seconds_per_day // seconds_per_hour\n",
    "\n",
    "# Print the result\n",
    "print(\"Result of seconds_per_day divided by seconds_per_hour (integer division):\", result_integer_division)"
   ]
  },
  {
   "cell_type": "markdown",
   "id": "e255ae39",
   "metadata": {},
   "source": [
    "### 7. Write a generator, genPrimes, that returns the sequence of prime numbers on successive calls to its next() method: 2, 3, 5, 7, 11, ..."
   ]
  },
  {
   "cell_type": "code",
   "execution_count": 7,
   "id": "c90f2fb3",
   "metadata": {},
   "outputs": [
    {
     "name": "stdout",
     "output_type": "stream",
     "text": [
      "2\n",
      "3\n",
      "5\n",
      "7\n",
      "11\n"
     ]
    }
   ],
   "source": [
    "def genPrimes():\n",
    "    primes = [2]  # Start with the first prime number\n",
    "    yield 2\n",
    "    \n",
    "    num = 3  # Start checking for primes from 3\n",
    "    \n",
    "    while True:\n",
    "        is_prime = all(num % prime != 0 for prime in primes)\n",
    "        if is_prime:\n",
    "            primes.append(num)\n",
    "            yield num\n",
    "        num += 2  # Check only odd numbers for efficiency (except 2)\n",
    "\n",
    "# Example usage of the genPrimes generator\n",
    "prime_generator = genPrimes()\n",
    "\n",
    "# Print the first 5 prime numbers\n",
    "for _ in range(5):\n",
    "    print(next(prime_generator))"
   ]
  }
 ],
 "metadata": {
  "kernelspec": {
   "display_name": "Python 3",
   "language": "python",
   "name": "python3"
  },
  "language_info": {
   "codemirror_mode": {
    "name": "ipython",
    "version": 3
   },
   "file_extension": ".py",
   "mimetype": "text/x-python",
   "name": "python",
   "nbconvert_exporter": "python",
   "pygments_lexer": "ipython3",
   "version": "3.8.8"
  }
 },
 "nbformat": 4,
 "nbformat_minor": 5
}
