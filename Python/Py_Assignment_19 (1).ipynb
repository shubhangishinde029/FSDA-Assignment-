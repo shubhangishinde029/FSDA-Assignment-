{
 "cells": [
  {
   "cell_type": "markdown",
   "id": "5b10b0d6",
   "metadata": {},
   "source": [
    "#### 1. Make a class called Thing with no contents and print it. Then, create an object called example from this class and also print it. Are the printed values the same or different?"
   ]
  },
  {
   "cell_type": "code",
   "execution_count": 2,
   "id": "c87b21e5",
   "metadata": {},
   "outputs": [
    {
     "name": "stdout",
     "output_type": "stream",
     "text": [
      "Class: <class '__main__.Thing'>\n",
      "Object: <__main__.Thing object at 0x00000187EA13DB80>\n"
     ]
    }
   ],
   "source": [
    "# Define the Thing class with no contents\n",
    "class Thing:\n",
    "    pass\n",
    "\n",
    "# Create an instance of the Thing class\n",
    "example = Thing()\n",
    "\n",
    "# Print the class and the object\n",
    "print(\"Class:\", Thing)\n",
    "print(\"Object:\", example)"
   ]
  },
  {
   "cell_type": "markdown",
   "id": "ba52a313",
   "metadata": {},
   "source": [
    "he first line, print(\"Class:\", Thing), prints the class definition itself, showing that Thing is a class in the __main__ module. The second line, print(\"Object:\", example), prints the object instance of the class, showing the memory address where the object is stored in memory (<__main__.Thing object at 0x...>)."
   ]
  },
  {
   "cell_type": "markdown",
   "id": "58a50e3a",
   "metadata": {},
   "source": [
    "#### 2. Create a new class called Thing2 and add the value &#39;abc&#39; to the letters class attribute. Lettersshould be printed."
   ]
  },
  {
   "cell_type": "code",
   "execution_count": 3,
   "id": "e662aa71",
   "metadata": {},
   "outputs": [
    {
     "name": "stdout",
     "output_type": "stream",
     "text": [
      "Letters: abc\n"
     ]
    }
   ],
   "source": [
    "class Thing2:\n",
    "    # Class attribute\n",
    "    letters = 'abc'\n",
    "\n",
    "# Print the 'letters' class attribute of Thing2 class\n",
    "print(\"Letters:\", Thing2.letters)\n"
   ]
  },
  {
   "cell_type": "markdown",
   "id": "b2fc3a59",
   "metadata": {},
   "source": [
    "Thing2 is a class with a class attribute letters that has the value 'abc'. The print(\"Letters:\", Thing2.letters) statement prints the value of the letters class attribute of the Thing2 class"
   ]
  },
  {
   "cell_type": "markdown",
   "id": "8636ae99",
   "metadata": {},
   "source": [
    "#### 3. Make yet another class called, of course, Thing3. This time, assign the value &#39;xyz&#39; to an instance(object) attribute called letters. Print letters. Do you need to make an object from the class to dothis?"
   ]
  },
  {
   "cell_type": "code",
   "execution_count": 4,
   "id": "0b391939",
   "metadata": {},
   "outputs": [
    {
     "name": "stdout",
     "output_type": "stream",
     "text": [
      "Letters: xyz\n"
     ]
    }
   ],
   "source": [
    "class Thing3:\n",
    "    def __init__(self):\n",
    "        # Instance attribute\n",
    "        self.letters = 'xyz'\n",
    "\n",
    "# Create an object of the Thing3 class\n",
    "thing3_object = Thing3()\n",
    "\n",
    "# Print the 'letters' instance attribute of the Thing3 object\n",
    "print(\"Letters:\", thing3_object.letters)"
   ]
  },
  {
   "cell_type": "markdown",
   "id": "158a0b0d",
   "metadata": {},
   "source": [
    "Thing3 is a class with an instance attribute letters initialized to 'xyz'. You create an object thing3_object from the Thing3 class and then access and print the letters attribute of this object using thing3_object.letters."
   ]
  },
  {
   "cell_type": "markdown",
   "id": "f137d87e",
   "metadata": {},
   "source": [
    "#### 4. Create an Element class with the instance attributes name, symbol, and number. Create a class object with the values &#39;Hydrogen,&#39; &#39;H,&#39; and 1."
   ]
  },
  {
   "cell_type": "code",
   "execution_count": 5,
   "id": "efc8b301",
   "metadata": {},
   "outputs": [
    {
     "name": "stdout",
     "output_type": "stream",
     "text": [
      "Name: Hydrogen\n",
      "Symbol: H\n",
      "Number: 1\n"
     ]
    }
   ],
   "source": [
    "class Element:\n",
    "    def __init__(self, name, symbol, number):\n",
    "        self.name = name\n",
    "        self.symbol = symbol\n",
    "        self.number = number\n",
    "\n",
    "# Create an Element object with the specified values\n",
    "hydrogen = Element('Hydrogen', 'H', 1)\n",
    "\n",
    "# Access and print the attributes of the Element object\n",
    "print(\"Name:\", hydrogen.name)\n",
    "print(\"Symbol:\", hydrogen.symbol)\n",
    "print(\"Number:\", hydrogen.number)\n"
   ]
  },
  {
   "cell_type": "markdown",
   "id": "8f795ab8",
   "metadata": {},
   "source": [
    "the Element class has an __init__ method that initializes the instance attributes name, symbol, and number. An object hydrogen is created from the Element class with the values 'Hydrogen', 'H', and 1. The attributes of the hydrogen object are then accessed and printed."
   ]
  },
  {
   "cell_type": "markdown",
   "id": "02318271",
   "metadata": {},
   "source": [
    "#### 5. Make a dictionary with these keys and values: &#39;name&#39;: &#39;Hydrogen&#39;, &#39;symbol&#39;: &#39;H&#39;, &#39;number&#39;: 1. Then, create an object called hydrogen from class Element using this dictionary."
   ]
  },
  {
   "cell_type": "code",
   "execution_count": 6,
   "id": "120e176a",
   "metadata": {},
   "outputs": [
    {
     "name": "stdout",
     "output_type": "stream",
     "text": [
      "Name: Hydrogen\n",
      "Symbol: H\n",
      "Number: 1\n"
     ]
    }
   ],
   "source": [
    "class Element:\n",
    "    def __init__(self, name, symbol, number):\n",
    "        self.name = name\n",
    "        self.symbol = symbol\n",
    "        self.number = number\n",
    "\n",
    "# Dictionary with keys and values\n",
    "element_info = {'name': 'Hydrogen', 'symbol': 'H', 'number': 1}\n",
    "\n",
    "# Create an Element object using the dictionary\n",
    "hydrogen = Element(**element_info)\n",
    "\n",
    "# Access and print the attributes of the Element object\n",
    "print(\"Name:\", hydrogen.name)\n",
    "print(\"Symbol:\", hydrogen.symbol)\n",
    "print(\"Number:\", hydrogen.number)"
   ]
  },
  {
   "cell_type": "markdown",
   "id": "96aaf75b",
   "metadata": {},
   "source": [
    "the dictionary element_info contains the keys 'name', 'symbol', and 'number' with their corresponding values. The **element_info syntax is used to pass the dictionary items as keyword arguments to the Element class constructor. The object hydrogen is created with the specified attributes, and then the attributes of the hydrogen object are accessed and printed"
   ]
  },
  {
   "cell_type": "markdown",
   "id": "9d3fb725",
   "metadata": {},
   "source": [
    "#### 6. For the Element class, define a method called dump() that prints the values of the object’s attributes (name, symbol, and number). Create the hydrogen object from this new definition and use dump() to print its attributes."
   ]
  },
  {
   "cell_type": "code",
   "execution_count": 7,
   "id": "38e88ae2",
   "metadata": {},
   "outputs": [
    {
     "name": "stdout",
     "output_type": "stream",
     "text": [
      "Name: Hydrogen\n",
      "Symbol: H\n",
      "Number: 1\n"
     ]
    }
   ],
   "source": [
    "class Element:\n",
    "    def __init__(self, name, symbol, number):\n",
    "        self.name = name\n",
    "        self.symbol = symbol\n",
    "        self.number = number\n",
    "\n",
    "    def dump(self):\n",
    "        print(\"Name:\", self.name)\n",
    "        print(\"Symbol:\", self.symbol)\n",
    "        print(\"Number:\", self.number)\n",
    "\n",
    "# Create an Element object\n",
    "hydrogen = Element('Hydrogen', 'H', 1)\n",
    "\n",
    "# Call the dump() method to print the object's attributes\n",
    "hydrogen.dump()"
   ]
  },
  {
   "cell_type": "markdown",
   "id": "ebd92a42",
   "metadata": {},
   "source": [
    " the dump() method is defined inside the Element class. It takes no additional arguments (except self, which refers to the instance of the class) and prints the values of the object's attributes (name, symbol, and number). The hydrogen object is created from the Element class, and the dump() method is called on this object to print its attributes."
   ]
  },
  {
   "cell_type": "markdown",
   "id": "0d6d4f14",
   "metadata": {},
   "source": [
    "#### 7. Call print(hydrogen). In the definition of Element, change the name of method dump to __str__, create a new hydrogen object, and call print(hydrogen) again."
   ]
  },
  {
   "cell_type": "code",
   "execution_count": 8,
   "id": "e89e7965",
   "metadata": {},
   "outputs": [
    {
     "name": "stdout",
     "output_type": "stream",
     "text": [
      "Name: Hydrogen\n",
      "Symbol: H\n",
      "Number: 1\n"
     ]
    }
   ],
   "source": [
    "class Element:\n",
    "    def __init__(self, name, symbol, number):\n",
    "        self.name = name\n",
    "        self.symbol = symbol\n",
    "        self.number = number\n",
    "\n",
    "    def __str__(self):\n",
    "        return f\"Name: {self.name}\\nSymbol: {self.symbol}\\nNumber: {self.number}\"\n",
    "\n",
    "# Create an Element object\n",
    "hydrogen = Element('Hydrogen', 'H', 1)\n",
    "\n",
    "# Call print(hydrogen) - it will internally use the __str__() method\n",
    "print(hydrogen)"
   ]
  },
  {
   "cell_type": "markdown",
   "id": "fa5da65b",
   "metadata": {},
   "source": [
    "the __str__() method is defined inside the Element class, which returns a formatted string containing the object's attributes (name, symbol, and number). When you call print(hydrogen), it internally uses the __str__() method to obtain the string representation of the hydrogen object and prints it."
   ]
  },
  {
   "cell_type": "markdown",
   "id": "5aa18733",
   "metadata": {},
   "source": [
    "#### 8. Modify Element to make the attributes name, symbol, and number private. Define a getter property for each to return its value."
   ]
  },
  {
   "cell_type": "markdown",
   "id": "efcc0b7a",
   "metadata": {},
   "source": [
    "To make the attributes name, symbol, and number private in the Element class, you can prefix their names with double underscores (__). This makes them private attributes, meaning they can only be accessed within the class methods. To provide access to these private attributes, you can define getter methods using the @property decorator."
   ]
  },
  {
   "cell_type": "code",
   "execution_count": 9,
   "id": "886df1bd",
   "metadata": {},
   "outputs": [
    {
     "name": "stdout",
     "output_type": "stream",
     "text": [
      "Name: Hydrogen\n",
      "Symbol: H\n",
      "Number: 1\n"
     ]
    }
   ],
   "source": [
    "class Element:\n",
    "    def __init__(self, name, symbol, number):\n",
    "        self.__name = name\n",
    "        self.__symbol = symbol\n",
    "        self.__number = number\n",
    "\n",
    "    @property\n",
    "    def name(self):\n",
    "        return self.__name\n",
    "\n",
    "    @property\n",
    "    def symbol(self):\n",
    "        return self.__symbol\n",
    "\n",
    "    @property\n",
    "    def number(self):\n",
    "        return self.__number\n",
    "\n",
    "    def __str__(self):\n",
    "        return f\"Name: {self.__name}\\nSymbol: {self.__symbol}\\nNumber: {self.__number}\"\n",
    "\n",
    "# Create an Element object\n",
    "hydrogen = Element('Hydrogen', 'H', 1)\n",
    "\n",
    "# Access private attributes using the getter properties\n",
    "print(\"Name:\", hydrogen.name)\n",
    "print(\"Symbol:\", hydrogen.symbol)\n",
    "print(\"Number:\", hydrogen.number)\n"
   ]
  },
  {
   "cell_type": "markdown",
   "id": "62eedf35",
   "metadata": {},
   "source": [
    "In this modified code, the attributes __name, __symbol, and __number are private, and getter methods (name(), symbol(), and number()) are defined using the @property decorator. These getter methods allow you to access the private attributes from outside the class."
   ]
  },
  {
   "cell_type": "markdown",
   "id": "400821c4",
   "metadata": {},
   "source": [
    "#### 9. Define three classes: Bear, Rabbit, and Octothorpe. For each, define only one method: eats(). Thisshould return &#39;berries&#39; (Bear), &#39;clover&#39; (Rabbit), or &#39;campers&#39; (Octothorpe). Create one object from each and print what it eats."
   ]
  },
  {
   "cell_type": "code",
   "execution_count": 10,
   "id": "41ca7000",
   "metadata": {},
   "outputs": [
    {
     "name": "stdout",
     "output_type": "stream",
     "text": [
      "Bear eats: berries\n",
      "Rabbit eats: clover\n",
      "Octothorpe eats: campers\n"
     ]
    }
   ],
   "source": [
    "class Bear:\n",
    "    def eats(self):\n",
    "        return 'berries'\n",
    "\n",
    "class Rabbit:\n",
    "    def eats(self):\n",
    "        return 'clover'\n",
    "\n",
    "class Octothorpe:\n",
    "    def eats(self):\n",
    "        return 'campers'\n",
    "\n",
    "# Create objects from each class\n",
    "bear_obj = Bear()\n",
    "rabbit_obj = Rabbit()\n",
    "octothorpe_obj = Octothorpe()\n",
    "\n",
    "# Print what each object eats\n",
    "print(\"Bear eats:\", bear_obj.eats())\n",
    "print(\"Rabbit eats:\", rabbit_obj.eats())\n",
    "print(\"Octothorpe eats:\", octothorpe_obj.eats())"
   ]
  },
  {
   "cell_type": "markdown",
   "id": "adf103e3",
   "metadata": {},
   "source": [
    "the Bear, Rabbit, and Octothorpe classes each have an eats() method that returns the respective food they eat. Objects are created from each class, and the eats() method of each object is called to determine what they eat."
   ]
  },
  {
   "cell_type": "markdown",
   "id": "b7c3637b",
   "metadata": {},
   "source": [
    "#### 10. Define these classes: Laser, Claw, and SmartPhone. Each has only one method: does(). This returns &#39;disintegrate&#39; (Laser), &#39;crush&#39; (Claw), or &#39;ring&#39; (SmartPhone). Then, define the class Robot that has one instance (object) of each of these. Define a does() method for the Robot that prints what its component objects do."
   ]
  },
  {
   "cell_type": "code",
   "execution_count": 11,
   "id": "bf33fdc9",
   "metadata": {},
   "outputs": [
    {
     "name": "stdout",
     "output_type": "stream",
     "text": [
      "Laser does: disintegrate\n",
      "Claw does: crush\n",
      "SmartPhone does: ring\n"
     ]
    }
   ],
   "source": [
    "class Laser:\n",
    "    def does(self):\n",
    "        return 'disintegrate'\n",
    "\n",
    "class Claw:\n",
    "    def does(self):\n",
    "        return 'crush'\n",
    "\n",
    "class SmartPhone:\n",
    "    def does(self):\n",
    "        return 'ring'\n",
    "\n",
    "class Robot:\n",
    "    def __init__(self):\n",
    "        self.laser = Laser()\n",
    "        self.claw = Claw()\n",
    "        self.smartphone = SmartPhone()\n",
    "\n",
    "    def does(self):\n",
    "        print(\"Laser does:\", self.laser.does())\n",
    "        print(\"Claw does:\", self.claw.does())\n",
    "        print(\"SmartPhone does:\", self.smartphone.does())\n",
    "\n",
    "# Create a Robot object\n",
    "robot = Robot()\n",
    "\n",
    "# Call the does() method of the Robot to print what its components do\n",
    "robot.does()"
   ]
  },
  {
   "cell_type": "markdown",
   "id": "553eec13",
   "metadata": {},
   "source": [
    "the Laser, Claw, and SmartPhone classes each have a does() method that returns the respective action they perform. The Robot class has instances of these component classes (laser, claw, and smartphone) as attributes. The does() method of the Robot class prints what its component objects do by calling their respective does() methods."
   ]
  },
  {
   "cell_type": "code",
   "execution_count": null,
   "id": "a3fd1afa",
   "metadata": {},
   "outputs": [],
   "source": []
  }
 ],
 "metadata": {
  "kernelspec": {
   "display_name": "Python 3",
   "language": "python",
   "name": "python3"
  },
  "language_info": {
   "codemirror_mode": {
    "name": "ipython",
    "version": 3
   },
   "file_extension": ".py",
   "mimetype": "text/x-python",
   "name": "python",
   "nbconvert_exporter": "python",
   "pygments_lexer": "ipython3",
   "version": "3.8.8"
  }
 },
 "nbformat": 4,
 "nbformat_minor": 5
}
