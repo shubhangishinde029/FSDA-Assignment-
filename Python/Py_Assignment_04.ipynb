{
 "cells": [
  {
   "cell_type": "markdown",
   "id": "8e18b192",
   "metadata": {},
   "source": [
    "#### 1. What exactly is []?"
   ]
  },
  {
   "cell_type": "markdown",
   "id": "abfcd57c",
   "metadata": {},
   "source": [
    "'[]' is an empty list literal. It represnts an empty list.which is a mutable ordered collection of elements. A list is denoted by square backets ('[]'), and it can contain zero or more items separted by commans.\n",
    "\n",
    "Example: "
   ]
  },
  {
   "cell_type": "code",
   "execution_count": 3,
   "id": "72ecdad9",
   "metadata": {},
   "outputs": [
    {
     "name": "stdout",
     "output_type": "stream",
     "text": [
      "[]\n"
     ]
    }
   ],
   "source": [
    "empty_list = []\n",
    "print(empty_list)"
   ]
  },
  {
   "cell_type": "markdown",
   "id": "4db5c8c6",
   "metadata": {},
   "source": [
    "#### 2. In a list of values stored in a variable called spam, how would you assign the value &#39;hello&#39; as the third value? (Assume [2, 4, 6, 8, 10] are in spam.) Let&#39;s pretend the spam includes the list [&#39;a&#39;, &#39;b&#39;, &#39;c&#39;, &#39;d&#39;] for the next three queries."
   ]
  },
  {
   "cell_type": "markdown",
   "id": "f9247ae9",
   "metadata": {},
   "source": [
    "To assign the value 'hello'as the third value in a list stored in a variable called 'spam',you can use indexing and assignment. List indices start from 0 so third value corresponding to index 2."
   ]
  },
  {
   "cell_type": "code",
   "execution_count": 9,
   "id": "24bb6b03",
   "metadata": {},
   "outputs": [
    {
     "name": "stdout",
     "output_type": "stream",
     "text": [
      "[2, 4, 'hello', 8, 10]\n"
     ]
    }
   ],
   "source": [
    "spam = [2,4,6,8,10]\n",
    "spam[2] = 'hello'\n",
    "print(spam)        # The resulting list will have 'hello' as the third element,replacing the previous value '6'."
   ]
  },
  {
   "cell_type": "markdown",
   "id": "ff8f0994",
   "metadata": {},
   "source": [
    "#### 3. What is the value of spam[int(int(&#39;3&#39; * 2) / 11)]?"
   ]
  },
  {
   "cell_type": "code",
   "execution_count": 12,
   "id": "76a45ca3",
   "metadata": {},
   "outputs": [
    {
     "data": {
      "text/plain": [
       "'d'"
      ]
     },
     "execution_count": 12,
     "metadata": {},
     "output_type": "execute_result"
    }
   ],
   "source": [
    "spam = ['a','b','c','d','e']\n",
    "\n",
    "spam[int(int('3'*2)/11)]"
   ]
  },
  {
   "cell_type": "markdown",
   "id": "739afc0a",
   "metadata": {},
   "source": [
    "The value of 'spam[int(int('3'*2)/11)]' Can be determined by evaluating the expression \n",
    "-'3'*2 will result in str '33' because * opertor is used for string repetition.\n",
    "- 'int(33)' will be convert the string '33' to an integer value,which is '33'. \n",
    "- int('33')/11 will perform integer division,resulting in the value '3' because both the numerator and denominator arw integers. Finally 'spam[3]'will access the elemnet at index 3 in the 'spam'list.Actual value of spam is depend on the content of the 'spam' list then it will be evaluate to 'd' because 'd' is the element at index 3 in the 'spam' list."
   ]
  },
  {
   "cell_type": "markdown",
   "id": "1ca14545",
   "metadata": {},
   "source": [
    "#### 4. What is the value of spam[-1]?"
   ]
  },
  {
   "cell_type": "code",
   "execution_count": 16,
   "id": "e889bb22",
   "metadata": {},
   "outputs": [
    {
     "name": "stdout",
     "output_type": "stream",
     "text": [
      "e\n"
     ]
    }
   ],
   "source": [
    "spam=['a','b','c','d','e']\n",
    "print(spam[-1])"
   ]
  },
  {
   "cell_type": "markdown",
   "id": "8384a37a",
   "metadata": {},
   "source": [
    "The value spam[-1] refers to the last element in the list stored in the variable 'spam'. Negative indices are used to access elements from the end of the list\n",
    "\n",
    "  spam = ['a','b','c','d','e']\n",
    "\n",
    "then spam[-1] will evaluate to 'e' because 'e'is the last element in the 'spam'list. Output will be 'e'. '-1' as the index will always retrieve the last element."
   ]
  },
  {
   "cell_type": "markdown",
   "id": "0a2c0f1d",
   "metadata": {},
   "source": [
    "#### 5. What is the value of spam[:2]?"
   ]
  },
  {
   "cell_type": "code",
   "execution_count": 20,
   "id": "4d0de1b7",
   "metadata": {},
   "outputs": [
    {
     "data": {
      "text/plain": [
       "['a', 'b']"
      ]
     },
     "execution_count": 20,
     "metadata": {},
     "output_type": "execute_result"
    }
   ],
   "source": [
    "spam[:2]"
   ]
  },
  {
   "cell_type": "markdown",
   "id": "1b88bcab",
   "metadata": {},
   "source": [
    "The value of 'spam[:2]' it includes the elements starting from index 0 upto but not includind index 2. Then'spam[:2]'will evaluate to '[a,b]'because it includes the elements at indices 0 and 1. The notation '[:2]'specifies that we want the first two elements of the list."
   ]
  },
  {
   "cell_type": "markdown",
   "id": "b9da58de",
   "metadata": {},
   "source": [
    "#### Let&#39;s pretend bacon has the list [3.14, &#39;cat,&#39; 11, &#39;cat,&#39; True] for the next three questions."
   ]
  },
  {
   "cell_type": "markdown",
   "id": "5a5b7528",
   "metadata": {},
   "source": [
    "#### 6. What is the value of bacon.index(&#39;cat&#39;)?"
   ]
  },
  {
   "cell_type": "code",
   "execution_count": 3,
   "id": "ba3739df",
   "metadata": {},
   "outputs": [
    {
     "data": {
      "text/plain": [
       "[3.14, 'cat', 11, 'cat', True]"
      ]
     },
     "execution_count": 3,
     "metadata": {},
     "output_type": "execute_result"
    }
   ],
   "source": [
    "bacon = [3.14,'cat', 11 ,'cat', True]\n",
    "bacon"
   ]
  },
  {
   "cell_type": "code",
   "execution_count": 4,
   "id": "f06e5be5",
   "metadata": {},
   "outputs": [
    {
     "data": {
      "text/plain": [
       "1"
      ]
     },
     "execution_count": 4,
     "metadata": {},
     "output_type": "execute_result"
    }
   ],
   "source": [
    "bacon.index('cat') # The 'index()' method in python returns the index of the first occurrence of the specified element in a list. It searches for the element from the element from the beginning of the list and returms the index when it finds a match. string 'cat' is at index '1'in the 'bacon'list."
   ]
  },
  {
   "cell_type": "markdown",
   "id": "acc54045",
   "metadata": {},
   "source": [
    "#### 7. How does bacon.append(99) change the look of the list value in bacon?"
   ]
  },
  {
   "cell_type": "markdown",
   "id": "1a619f17",
   "metadata": {},
   "source": [
    "The 'bacon.append(99)' operation adds the value '99' to the end of the list stored in the variable 'bacon'. It modifie the list-in -place, extending the new elememt.'bacon' [3.14,'cat',11,'cat', True] after executing 'bacon.append(99)',the updated 'bacon list' look like this :"
   ]
  },
  {
   "cell_type": "code",
   "execution_count": 7,
   "id": "244362fb",
   "metadata": {},
   "outputs": [
    {
     "name": "stdout",
     "output_type": "stream",
     "text": [
      "[3.14, 'cat', 11, 'cat', True, 99, 99, 99]\n"
     ]
    }
   ],
   "source": [
    "bacon.append(99)\n",
    "print(bacon)"
   ]
  },
  {
   "cell_type": "markdown",
   "id": "e0853bae",
   "metadata": {},
   "source": [
    "#### 8. How does bacon.remove(&#39;cat&#39;) change the look of the list in bacon?"
   ]
  },
  {
   "cell_type": "code",
   "execution_count": 41,
   "id": "5bfe17a5",
   "metadata": {},
   "outputs": [
    {
     "data": {
      "text/plain": [
       "[3.14, 11, 'cat', True, 99]"
      ]
     },
     "execution_count": 41,
     "metadata": {},
     "output_type": "execute_result"
    }
   ],
   "source": [
    "bacon.remove('cat')\n",
    "bacon"
   ]
  },
  {
   "cell_type": "markdown",
   "id": "651a2a24",
   "metadata": {},
   "source": [
    "The 'bacon.remove('cat')' operation will remove the first occurrence of the string 'cat' from the list stored in the variable 'bacon'. It modifies the list in-place by deleting the matching element.The first occurrence of 'cat' is removed from the list and the remaining elements shift to fill the gap.\n"
   ]
  },
  {
   "cell_type": "markdown",
   "id": "5b02ba04",
   "metadata": {},
   "source": [
    "#### 9. What are the list concatenation and list replication operators?"
   ]
  },
  {
   "cell_type": "markdown",
   "id": "4bc3e1a2",
   "metadata": {},
   "source": [
    "The list concatenation operator is '+' and list replication operator is '*'. The list concatenation operator ('+') is used to combine two or more lists into a single list. It creates a new list that contains all the elements from the operands in the order they appear.\n",
    "Example: \n",
    "\n",
    "    list1 =[1,4,6]\n",
    "    list2 =[3,8]\n",
    "    concatenation = list1 + list2\n",
    "    print(concatenation)\n",
    "\n",
    "Output:\n",
    "\n",
    "    [1,4,6,3,8]\n",
    "    \n",
    "The list replication operator('*')is used to create a new list by repeating the elements of alist a specified number of times.\n",
    "  Example:\n",
    "  \n",
    "        a=[1,2]\n",
    "        \n",
    "        replication= a * 3\n",
    "        \n",
    "        \n",
    "Output:\n",
    "\n",
    "    [1,2,1,2]"
   ]
  },
  {
   "cell_type": "markdown",
   "id": "b9ddd4ca",
   "metadata": {},
   "source": [
    "### 10. What is difference between the list methods append() and insert()?"
   ]
  },
  {
   "cell_type": "markdown",
   "id": "9352c41f",
   "metadata": {},
   "source": [
    "The 'append()'and 'insert()' methods are both used to add elements to a list.\n",
    "\n",
    "1.'append()' method:\n",
    "    - The 'append()' method is used to add an element to the end of a list.\n",
    "    - It takes a single argument,which is the element to be added.\n",
    "    - The elment is appended to the end of the list increasing the list length by one.\n",
    "    \n",
    "    Example:\n",
    "        my_list = [1,2,3]\n",
    "        my_list.append(4)\n",
    "        print(my_list)\n",
    "    \n",
    "    Output:\n",
    "        \n",
    "        [1,2,3,4]\n",
    "        \n",
    "    \n",
    "    2. 'insert()' method:\n",
    "        - The 'insert()' method is used to add an element at a specific postion in a list.\n",
    "        - It takes two argument: the index where the element should be inserted and the element itself.\n",
    "        - The element is inserted at the specified index,and the existing elements are shifted to accommodate the new element.\n",
    "    \n",
    "    Example:\n",
    "        \n",
    "        my_list = [1,2,3]\n",
    "        my_list.insert(1,4)\n",
    "        print(my_list)\n",
    "     \n",
    "    Output:\n",
    "        [1,4,]\n"
   ]
  },
  {
   "cell_type": "markdown",
   "id": "b326fedb",
   "metadata": {},
   "source": [
    "#### 11. What are the two methods for removing items from a list?"
   ]
  },
  {
   "cell_type": "markdown",
   "id": "7403bb00",
   "metadata": {},
   "source": [
    "Methods for removing items from list:\n",
    "\n",
    "1. 'remove()' method:     \n",
    "    \n",
    "    - The 'remove()' method is used to remove the first occrance of a specifiv value from a list.\n",
    "    - It takes a single argument,which us the value to be removed.\n",
    "    - The method searches for the value in the list and removes it if found.If the value us not present in the list,it raises a 'ValueError'\n",
    "    \n",
    "    Example:\n",
    "        "
   ]
  },
  {
   "cell_type": "code",
   "execution_count": 13,
   "id": "432e3079",
   "metadata": {},
   "outputs": [
    {
     "name": "stdout",
     "output_type": "stream",
     "text": [
      "[1, 3, 4, 2]\n"
     ]
    }
   ],
   "source": [
    "list = [1,2,3,4,2]\n",
    "list.remove(2)\n",
    "print(list)    #The first occurrance of the value '2' is removed from the list."
   ]
  },
  {
   "cell_type": "markdown",
   "id": "d28b6411",
   "metadata": {},
   "source": [
    "'pop()' method:\n",
    "    - The 'pop()'method is used to remove an element from a list at a specific index.\n",
    "    - It takes an optional argument,which is the index of the element to be removed. If no index is specified,it removes and returns the last element of the list.\n",
    "    - The method returns the removed element,allowing you to store it in variable if needed.\n",
    "    \n",
    "    Example:\n",
    "        "
   ]
  },
  {
   "cell_type": "code",
   "execution_count": 10,
   "id": "77b490f2",
   "metadata": {},
   "outputs": [
    {
     "name": "stdout",
     "output_type": "stream",
     "text": [
      "3\n"
     ]
    }
   ],
   "source": [
    "list =[1,2,3,4,5]\n",
    "remove_item=list.pop(2)\n",
    "print(remove_item)    #pop() removes an element based on its index"
   ]
  },
  {
   "cell_type": "markdown",
   "id": "80cb8852",
   "metadata": {},
   "source": [
    "#### 12. Describe how list values and string values are identical."
   ]
  },
  {
   "cell_type": "markdown",
   "id": "ee22edd4",
   "metadata": {},
   "source": [
    "List values and string values are actually not identical. They have distinct characteristics and behave differently.\n",
    "\n",
    "1. Nature of Elements:\n",
    "    \n",
    "    - List values: Lits can contaion elements of different types,such as intergers,floats,strings or even other lists. The elements in a list can be modified or updated independently.\n",
    "    - String Values: Strings are sequeces of characters. The elements in a string are individual characters that from a text.\n",
    "        \n",
    "2. Mutable Vs. Immutable:\n",
    "    \n",
    "    - List value : List are mutable,which means you can modify,add or remove elements within a list. You can change the elements at specific position or resize the list dynamically.\n",
    "    - String Value: String are immutable,meaning they can not be modified after creation. Any opertaion that appears to modify a string actually creates a new string with the desired changes.\n",
    "\n",
    "3. Operations and Methods:\n",
    "    \n",
    "    -List Value: Lits have various built-in-methods and opertions. You can perform operations like appending elements ('append()'),inserting elements('insert()'),removing the element ('remove()','pop()') and sorting elements ('sort()') list also supports concatenation and repetition.\n",
    "    -String value: String have their own set of opertions and methoda. You can perform opertons like concatenation and repetation ,indexing,slicing. String also provide methods for case conversion ('lower()','upper()'),finding sunstrings('find()','index()'). \n",
    "        \n",
    "4. Iteration and Indexing:\n",
    "    \n",
    "    -List values: Lits can be iterated over using loops to access each element by its index. You can modify or manipulate individual elments within a list during iteration.\n",
    "    - String Values: String can also be iterated over using loops to access each character by its index. However since strings are immutable,you cannot modify individual charaters directly during iteration.   \n",
    "        \n",
    "        \n",
    "        \n",
    "        \n",
    "        "
   ]
  },
  {
   "cell_type": "markdown",
   "id": "ef689862",
   "metadata": {},
   "source": [
    "#### 13. What&#39;s the difference between tuples and lists?"
   ]
  },
  {
   "cell_type": "markdown",
   "id": "aa70f061",
   "metadata": {},
   "source": [
    "Difference between tuples and list as follows:\n",
    "\n",
    "1. Mutability: Tuples are immutable,meaning their elements can not modified oncethey are defined. In contrast,list are mutable,allowing you to modify,add or remove elements.\n",
    "2. Syntax: Tuples are defined using parentheses(),whereas list are defined using square brackets[].\n",
    "3. Performance: Since tuples are immutable,they are more lightweight in terms of memory and slighly more efficient than list.\n",
    "    \n",
    "Example:\n",
    "    \n",
    "    "
   ]
  },
  {
   "cell_type": "code",
   "execution_count": 2,
   "id": "9770de51",
   "metadata": {},
   "outputs": [
    {
     "ename": "TypeError",
     "evalue": "'tuple' object does not support item assignment",
     "output_type": "error",
     "traceback": [
      "\u001b[1;31m---------------------------------------------------------------------------\u001b[0m",
      "\u001b[1;31mTypeError\u001b[0m                                 Traceback (most recent call last)",
      "\u001b[1;32m<ipython-input-2-8f34248ec685>\u001b[0m in \u001b[0;36m<module>\u001b[1;34m\u001b[0m\n\u001b[0;32m      2\u001b[0m \u001b[0mmy_list\u001b[0m \u001b[1;33m=\u001b[0m\u001b[1;33m[\u001b[0m\u001b[1;36m1\u001b[0m\u001b[1;33m,\u001b[0m\u001b[1;36m2\u001b[0m\u001b[1;33m,\u001b[0m\u001b[1;36m3\u001b[0m\u001b[1;33m]\u001b[0m\u001b[1;33m\u001b[0m\u001b[1;33m\u001b[0m\u001b[0m\n\u001b[0;32m      3\u001b[0m \u001b[1;33m\u001b[0m\u001b[0m\n\u001b[1;32m----> 4\u001b[1;33m \u001b[0mmy_tuple\u001b[0m\u001b[1;33m[\u001b[0m\u001b[1;36m0\u001b[0m\u001b[1;33m]\u001b[0m\u001b[1;33m=\u001b[0m \u001b[1;36m4\u001b[0m\u001b[1;33m\u001b[0m\u001b[1;33m\u001b[0m\u001b[0m\n\u001b[0m",
      "\u001b[1;31mTypeError\u001b[0m: 'tuple' object does not support item assignment"
     ]
    }
   ],
   "source": [
    "my_tuple = (1,2,3)\n",
    "my_list =[1,2,3]\n",
    "\n",
    "my_tuple[0]= 4    # This will raise an error since tuple are immutable "
   ]
  },
  {
   "cell_type": "code",
   "execution_count": 3,
   "id": "226c52ad",
   "metadata": {},
   "outputs": [
    {
     "name": "stdout",
     "output_type": "stream",
     "text": [
      "[4, 2, 3]\n"
     ]
    }
   ],
   "source": [
    "my_list[0] = 4\n",
    "print(my_list)"
   ]
  },
  {
   "cell_type": "markdown",
   "id": "3f68eee4",
   "metadata": {},
   "source": [
    "Tuples are preferred when you have a collection of value taht should not change,where as list aee sutiable when you need a mutable collection that allows modifiction of elements"
   ]
  },
  {
   "cell_type": "markdown",
   "id": "76c53f82",
   "metadata": {},
   "source": [
    "#### 14. How do you type a tuple value that only contains the integer 42?"
   ]
  },
  {
   "cell_type": "code",
   "execution_count": 8,
   "id": "b2b26334",
   "metadata": {},
   "outputs": [
    {
     "name": "stdout",
     "output_type": "stream",
     "text": [
      "(78,)\n"
     ]
    },
    {
     "data": {
      "text/plain": [
       "tuple"
      ]
     },
     "execution_count": 8,
     "metadata": {},
     "output_type": "execute_result"
    }
   ],
   "source": [
    "tuple_int = (78,)\n",
    "print(tuple_int)\n",
    "type(tuple_int)"
   ]
  },
  {
   "cell_type": "markdown",
   "id": "13189d2d",
   "metadata": {},
   "source": [
    "The comma after the integer 42. The comma us essential to differentiate between an expression enclosed in parentheses taht evaluates to an integer and a sigle element tuple. Without the comma,Python would interpret the expression '(42)' as just the interger 42 rather than tuple."
   ]
  },
  {
   "cell_type": "markdown",
   "id": "994d190d",
   "metadata": {},
   "source": [
    "#### 15. How do you get a list value&#39;s tuple form? How do you get a tuple value&#39;s list form?"
   ]
  },
  {
   "cell_type": "code",
   "execution_count": 11,
   "id": "9294f635",
   "metadata": {},
   "outputs": [
    {
     "name": "stdout",
     "output_type": "stream",
     "text": [
      "[1, 3, 5, 6, 7]\n"
     ]
    },
    {
     "data": {
      "text/plain": [
       "list"
      ]
     },
     "execution_count": 11,
     "metadata": {},
     "output_type": "execute_result"
    }
   ],
   "source": [
    "tuple_value = (1,3,5,6,7)\n",
    "list_tuple_value = list(tuple_value)\n",
    "print(list_tuple_value)\n",
    "type(list_tuple_value)"
   ]
  },
  {
   "cell_type": "markdown",
   "id": "ec4a2d99",
   "metadata": {},
   "source": [
    "To convert a list to a tuple in python,you can use the 'tuple()' function. The 'tuple()'. The 'tuple()' funcation takes an iterable as an argument and returns a tuple containing the same elements,to convert a tuple to a list, you can use the 'list()' function."
   ]
  },
  {
   "cell_type": "markdown",
   "id": "1799e1a9",
   "metadata": {},
   "source": [
    "#### 16. Variables that &quot;contain&quot; list values are not necessarily lists themselves. Instead, what do theycontain?"
   ]
  },
  {
   "cell_type": "markdown",
   "id": "0320e408",
   "metadata": {},
   "source": [
    "Variable can be seen as labels or names that refer to objects in memory. When you assign a list to a variable,the variable holds  reference to the list object. The list object contains the actual list value."
   ]
  },
  {
   "cell_type": "markdown",
   "id": "5e26e173",
   "metadata": {},
   "source": [
    "#### 17. How do you distinguish between copy.copy() and copy.deepcopy()?"
   ]
  },
  {
   "cell_type": "markdown",
   "id": "6bfea346",
   "metadata": {},
   "source": [
    "'COPY.COPY()': This function performs a shallow copy of an object. It creates a new object and copies the references to the nested objects. It creates a new top-level object and copies the references of the nested objects to the new object. It creates a new object and copies the references to the nested objects. It creates a new top level object and copies rge references of the nested objects to the new object. Changes made to the original object will be reflected in the copied object and vice versa if the nested objects are modified.\n",
    "\n",
    "'copy.deepcopy()': This fucntion performs a deep copy of an object. It creates a completely independent copy if an object and all its nested objects. It recursively copies all the object refernced by the original object,creating new objects in memoery.\n",
    "  "
   ]
  }
 ],
 "metadata": {
  "kernelspec": {
   "display_name": "Python 3",
   "language": "python",
   "name": "python3"
  },
  "language_info": {
   "codemirror_mode": {
    "name": "ipython",
    "version": 3
   },
   "file_extension": ".py",
   "mimetype": "text/x-python",
   "name": "python",
   "nbconvert_exporter": "python",
   "pygments_lexer": "ipython3",
   "version": "3.8.8"
  }
 },
 "nbformat": 4,
 "nbformat_minor": 5
}
