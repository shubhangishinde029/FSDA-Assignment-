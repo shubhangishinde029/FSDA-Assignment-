{
 "cells": [
  {
   "cell_type": "markdown",
   "id": "8dbe024a",
   "metadata": {},
   "source": [
    "##### 1. In the below elements which of them are values or an expression? eg:- values can be integer or string and expressions will be mathematical operators.\n",
    "*\n",
    "&#39;hello&#39;\n",
    "-87.8\n",
    "-\n",
    "/\n",
    "+\n",
    "6"
   ]
  },
  {
   "cell_type": "markdown",
   "id": "92766d01",
   "metadata": {},
   "source": [
    "-Values:\n",
    "\n",
    "\n",
    "\t-‘hello’(String)\n",
    "\t-  -87.8(Floating-point- number)\n",
    "\t- 6 (Integer)\n",
    "    \n",
    "    \n",
    "Expression (Mathematical Operators):\n",
    "   -\t*   multiplication\n",
    "   -\t-   subtraction\n",
    "   -\t/    division\n",
    "  -\t+  addition\n"
   ]
  },
  {
   "cell_type": "markdown",
   "id": "e8bc01a4",
   "metadata": {},
   "source": [
    "#### 2. What is the difference between string and variable?"
   ]
  },
  {
   "cell_type": "markdown",
   "id": "1ba72497",
   "metadata": {},
   "source": [
    "- String:\n",
    "A string is a data type used to represent a sequence of characters. It is typically used to store and manipulate text or alphanumeric data. In the most programming languages,a string is enclosed within quotation marks. E.g – “Hello Wold” is a string literal. String can contain letters,number,symbols,and whitespace characters.\n",
    " Variable:\n",
    "A variable is a named storage location in a program that holds a value. It is a way to represent and store data temporarily during the execution of a program. Variables can have different data types, Including strings, numbers, Booleans, and more. Unlike string, variables are not the data itself but rather references or containers that hold the data.\n"
   ]
  },
  {
   "cell_type": "markdown",
   "id": "b2ea6ceb",
   "metadata": {},
   "source": [
    "#### 3. Describe three different data types"
   ]
  },
  {
   "cell_type": "markdown",
   "id": "c7f60c5f",
   "metadata": {},
   "source": [
    "1. Integer: \n",
    "\n",
    "The integer data type represents whole numbers without any fractional or decimal parts. It includes both positive and negative numbers, as well as zero. Integers are typically used for counting or representing discrete quantities. In most programming languages,integers have a fixed range of values, which can vary based on the number of bits used to store them. Example of integers include -5,0,34, 1000.\n",
    "\n",
    "2. Floating-point:\n",
    "\n",
    "The floating-point data type, often referred to as “float” or double, is used to represent real numbers that can have fractional parts. Floating-point numbers are used when precision is required in mathematical calculations or when dealing with continuous values. Examples of floating-point numbers -3.23, 2.3445, 1.0e -4.\n",
    "\n",
    "3. String: \n",
    "\n",
    "The string data type represents a sequence of characters. It is used to store and manipulate text or alphanumeric data. String are typically enclosed with quotation marks ( single or double) to differentiate them from other data types. Example –“Hello world!”.\n"
   ]
  },
  {
   "cell_type": "markdown",
   "id": "64bfb41c",
   "metadata": {},
   "source": [
    "#### 4. What is an expression made up of? What do all expressions do?"
   ]
  },
  {
   "cell_type": "raw",
   "id": "abfe01c1",
   "metadata": {},
   "source": [
    "- An expression is made up of one or more operators and operands. Expression is a combination of values, variables, operators , and function calls that evaluate to a single value. Here are the components typically found in an expression:\n",
    "\n",
    "a. Operators:\n",
    "\n",
    "Operator perform specific operation on one or more operands to produce a result. Examples of the operators include arithmetic operators ( +, -,* ,/) comparison operator ( >,<, =, != ) logical operator, assignment operators.\n",
    "\n",
    "b. Operands:\n",
    "Operands are the values or variables on which the operators act. They can be constants variable, or funcation calls.\n",
    "\n",
    "C. Parentheses: \n",
    "Parentheses are used to group and prioritize parts of an expression. They determine the order in which operations are performed. Exprssion inside parentheses are evaluated first.\n",
    "\n",
    "D. Functions:\n",
    "Functions are predefined or use-defined operations that perform specific tasks. They take arguments and return a value.\n",
    "The purpose of an expression is to compute a value. When an expression is evaluated, the opertors and operands are processed according to the rules of the programming language.\n"
   ]
  },
  {
   "cell_type": "markdown",
   "id": "316b8233",
   "metadata": {},
   "source": [
    "#### 5. This assignment statements, like spam = 10. What is the difference between an expression and a statement?"
   ]
  },
  {
   "cell_type": "raw",
   "id": "fb7566b8",
   "metadata": {},
   "source": [
    "- An expression is a combination of values, variables, operators and funcation calls that can be evaluated to produce a result. Expression can be simple, like a single constant value or variable or complex, involving mathematical or logical operations. \n",
    "Statement is a complete unit of code that performs a action. It is a line or group of lines that represents a specific instruction or command in a programming language. Statement can include assignments,loops , conditions , funcation calls and more. They are used to control the flow of execution and manipulate data.\n",
    "The difference between expression and statements is that expressions are evaluated to produce a value , while statements perform an action or command. Expression are often used within statement to compute values or make decision, but statements are the higher-level construct that govern the overall behavior and logic of the program.\n"
   ]
  },
  {
   "cell_type": "markdown",
   "id": "d61d9b46",
   "metadata": {},
   "source": [
    "#### 6. After running the following code, what does the variable bacon contain?\n",
    "bacon = 22\n",
    "bacon + 1\n"
   ]
  },
  {
   "cell_type": "markdown",
   "id": "b3af6b96",
   "metadata": {},
   "source": [
    "- After running the code:\n",
    "Bacon = 22\n",
    "Bacon + 1\n",
    "The variable ‘bacon’ would still contain the value 22.\n",
    "The second line of code ‘bacon + 1’ is an expression that adds 1 to the value stored in the variable ‘bacon’. However, the result of this expression is not assigned to any variable or used in any way.\n",
    "If you want to update the value of ‘bacon’ to reflect the addition of 1, you would need to assign result back to the variable like this."
   ]
  },
  {
   "cell_type": "code",
   "execution_count": 3,
   "id": "0370121a",
   "metadata": {},
   "outputs": [],
   "source": [
    "bacon = 22"
   ]
  },
  {
   "cell_type": "code",
   "execution_count": 4,
   "id": "d3d22388",
   "metadata": {},
   "outputs": [
    {
     "data": {
      "text/plain": [
       "23"
      ]
     },
     "execution_count": 4,
     "metadata": {},
     "output_type": "execute_result"
    }
   ],
   "source": [
    "bacon +1 "
   ]
  },
  {
   "cell_type": "markdown",
   "id": "53ade4a4",
   "metadata": {},
   "source": [
    "After executing these line 'bacon' would contain the value 23 "
   ]
  },
  {
   "cell_type": "markdown",
   "id": "de31722e",
   "metadata": {},
   "source": [
    "#### 7. What should the values of the following two terms be?\n",
    "&#39;spam&#39; + &#39;spamspam&#39;\n",
    "&#39;spam&#39; * 3\n"
   ]
  },
  {
   "cell_type": "code",
   "execution_count": 5,
   "id": "bb8efad8",
   "metadata": {},
   "outputs": [
    {
     "data": {
      "text/plain": [
       "'spamspamspam'"
      ]
     },
     "execution_count": 5,
     "metadata": {},
     "output_type": "execute_result"
    }
   ],
   "source": [
    "'spam'+ 'spamspam' "
   ]
  },
  {
   "cell_type": "markdown",
   "id": "4d09b9fd",
   "metadata": {},
   "source": [
    "The '+' operator, when used with string,performs concatenation,which means it combines the two string together. In case 'spam'+'spamspam' . result in string 'spamspamspam'."
   ]
  },
  {
   "cell_type": "code",
   "execution_count": 6,
   "id": "bba0e8c3",
   "metadata": {},
   "outputs": [
    {
     "data": {
      "text/plain": [
       "'spamspamspam'"
      ]
     },
     "execution_count": 6,
     "metadata": {},
     "output_type": "execute_result"
    }
   ],
   "source": [
    "'spam'*3"
   ]
  },
  {
   "cell_type": "markdown",
   "id": "92c61cfc",
   "metadata": {},
   "source": [
    "#The '*' ,when used within used with a string and an integer, perform string repetation.It repeats the given string the specificed number of times. In case 'spam'* 3 would repeat the string 'spam' three times, resulting in 'spamspamspam'.In the both expression result is same."
   ]
  },
  {
   "cell_type": "markdown",
   "id": "a0bd59f6",
   "metadata": {},
   "source": [
    "#### 8. Why is eggs a valid variable name while 100 is invalid?"
   ]
  },
  {
   "cell_type": "markdown",
   "id": "98c54077",
   "metadata": {},
   "source": [
    "1. Valid variable names: \n",
    "      - Must start with a letter(a-z, A-Z) or an underscore(_).\n",
    "      - Can contain letters,digits(0-9), or underscores.\n",
    "      - Are case-sensitive,meaning 'spam' and 'Spam'are considered different variables.\n",
    "      - should not be a reserved word or keyword in the programming language.\n",
    "    \n",
    "Based on these rules 'eggs'is a valid variable name because it starts with a letter and consists of only letters. It adheres to the naming coventions and does not conflict with any reserved words or keywords.\n",
    "'100' is an invaild variable name because it starts with a difit, violating the rule that variable names must start with a letter or an underscore.Variable names cannot begin with a number in Python or many other programming language."
   ]
  },
  {
   "cell_type": "markdown",
   "id": "ad865050",
   "metadata": {},
   "source": [
    "#### 9. What three functions can be used to get the integer, floating-point number, or string version of a value?\n"
   ]
  },
  {
   "cell_type": "markdown",
   "id": "17941169",
   "metadata": {},
   "source": [
    "1. Integer int() function:\n",
    "    The 'int()'function is used to convert a value to an integer. It takes a numeric or string argument and return an integer represention of the value,if possible. If the value cannot be converted to an integer, a 'ValueError' is raised\n"
   ]
  },
  {
   "cell_type": "code",
   "execution_count": 9,
   "id": "0db9ee53",
   "metadata": {},
   "outputs": [
    {
     "data": {
      "text/plain": [
       "int"
      ]
     },
     "execution_count": 9,
     "metadata": {},
     "output_type": "execute_result"
    }
   ],
   "source": [
    " num = int(\"10\") # converts the string \"10\" to the integer 10\n",
    "type(num)"
   ]
  },
  {
   "cell_type": "markdown",
   "id": "d5c50ce3",
   "metadata": {},
   "source": [
    "2. 'float()' function:\n",
    "    The 'float()'functio is used to convert a value to a floating-point number.It takes a numeric or string argument and returns a floating -point representation of the value,if possible. If the value cannot be converted to a floar, a 'ValueError' is raised. Example:"
   ]
  },
  {
   "cell_type": "code",
   "execution_count": 10,
   "id": "9c108ed2",
   "metadata": {},
   "outputs": [
    {
     "data": {
      "text/plain": [
       "float"
      ]
     },
     "execution_count": 10,
     "metadata": {},
     "output_type": "execute_result"
    }
   ],
   "source": [
    "num = float(\"4.45\") #convet the string \"4.45\" to a float 4.45\n",
    "type(num)"
   ]
  },
  {
   "cell_type": "markdown",
   "id": "ac993bb0",
   "metadata": {},
   "source": [
    "3. 'Str()' function:\n",
    "    The 'str()' function is used to convert a value to its string representation. It takes any value as an argument and returns a string representation of that value. Example: "
   ]
  },
  {
   "cell_type": "code",
   "execution_count": 11,
   "id": "f62e68a9",
   "metadata": {},
   "outputs": [
    {
     "data": {
      "text/plain": [
       "str"
      ]
     },
     "execution_count": 11,
     "metadata": {},
     "output_type": "execute_result"
    }
   ],
   "source": [
    "text = str(\"45\") #Converts the integer 45 to the string \"45\"\n",
    "type(text)"
   ]
  },
  {
   "cell_type": "markdown",
   "id": "bc767f27",
   "metadata": {},
   "source": [
    "#### 10. Why does this expression cause an error? How can you fix it?  &#39;I have eaten &#39; + 99 + &#39; burritos.&#39;"
   ]
  },
  {
   "cell_type": "markdown",
   "id": "92a9442f",
   "metadata": {},
   "source": [
    "The given expression 'I have eaten' + 99 + 'burritos.' caused an error because it attempts to concatenate a strinf('I have eaten') with an integer('99') without converting the integer to a string explicitly. In Python,concatenating a strinf with an integer directly is not allowed. \n",
    "To fix this error, you need to ensure that all the operands bening concatenated are of the same type,which in this shoube be string. You can achieve this by converting the integer '99' to a string using 'str()'"
   ]
  },
  {
   "cell_type": "code",
   "execution_count": 14,
   "id": "0ed46b6d",
   "metadata": {},
   "outputs": [
    {
     "data": {
      "text/plain": [
       "'I have eaten99 burritos.'"
      ]
     },
     "execution_count": 14,
     "metadata": {},
     "output_type": "execute_result"
    }
   ],
   "source": [
    "'I have eaten'+ str( 99) + ' burritos.'"
   ]
  },
  {
   "cell_type": "markdown",
   "id": "80b0209c",
   "metadata": {},
   "source": [
    "By using 'str(99)',the integer '99'is converted to the string '99',allowing it to be concatenated with the other string."
   ]
  }
 ],
 "metadata": {
  "kernelspec": {
   "display_name": "Python 3",
   "language": "python",
   "name": "python3"
  },
  "language_info": {
   "codemirror_mode": {
    "name": "ipython",
    "version": 3
   },
   "file_extension": ".py",
   "mimetype": "text/x-python",
   "name": "python",
   "nbconvert_exporter": "python",
   "pygments_lexer": "ipython3",
   "version": "3.8.8"
  }
 },
 "nbformat": 4,
 "nbformat_minor": 5
}
