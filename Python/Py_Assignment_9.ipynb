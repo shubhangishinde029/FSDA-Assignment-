{
 "cells": [
  {
   "cell_type": "markdown",
   "id": "17d6471e",
   "metadata": {},
   "source": [
    "### 1. To what does a relative path refer?"
   ]
  },
  {
   "cell_type": "markdown",
   "id": "cdc38c76",
   "metadata": {},
   "source": [
    "A relative path in computing refers to the location of a file or directory with respect to a starting point or current working directory. Unlike an absolute path, which specifies the exact location of a file or directory from the root directory of the file system, a relative path provides a path that is relative to the current location in the file system.\n",
    "Relative paths are useful when you want to refer to files or directories in a way that is independent of the specific directory structure, making it easier to move or distribute the files and folders without breaking the paths. They are often used in programming and scripting to access files within the same project or application."
   ]
  },
  {
   "cell_type": "markdown",
   "id": "81b57dc8",
   "metadata": {},
   "source": [
    "### 2. What does an absolute path start with your operating system?"
   ]
  },
  {
   "cell_type": "markdown",
   "id": "22271124",
   "metadata": {},
   "source": [
    "In Python, an absolute path starts with the root directory of the file system. On Windows, it typically starts with a drive letter (e.g., C:\\) or a network share (e.g., \\\\server\\share\\). On Unix-based systems like Linux and macOS, it starts with a forward slash (/).\n",
    "\n",
    "For example, in Python, an absolute path might look like this:\n",
    "\n",
    "On Windows: C:\\Users\\User\\Documents\\file.txt\n",
    "On Unix-based systems: /home/user/documents/file.txt\n",
    "You can create absolute paths in Python using the os.path.join() function, which helps in constructing paths using the appropriate directory separator based on the operating "
   ]
  },
  {
   "cell_type": "markdown",
   "id": "2ef2dd1e",
   "metadata": {},
   "source": [
    "### 3. What do the functions os.getcwd() and os.chdir() do?"
   ]
  },
  {
   "cell_type": "markdown",
   "id": "e6a7b53c",
   "metadata": {},
   "source": [
    "In Python's os module, os.getcwd() and os.chdir() are functions related to file and directory manipulation:\n",
    "\n",
    "os.getcwd():\n",
    "\n",
    "os.getcwd() stands for \"get current working directory.\"\n",
    "It returns a string representing the current working directory of the Python process.\n",
    "The current working directory is the directory in which the Python script is running.\n",
    "Example usage:"
   ]
  },
  {
   "cell_type": "code",
   "execution_count": 4,
   "id": "6e056108",
   "metadata": {},
   "outputs": [
    {
     "name": "stdout",
     "output_type": "stream",
     "text": [
      "Current directory: C:\\Users\\Shubhangi\n"
     ]
    }
   ],
   "source": [
    "import os \n",
    "current_directory = os.getcwd()\n",
    "print(\"Current directory:\", current_directory)"
   ]
  },
  {
   "cell_type": "markdown",
   "id": "b562608a",
   "metadata": {},
   "source": [
    "os.chdir(path):\n",
    "\n",
    "os.chdir() stands for \"change directory.\"\n",
    "It is used to change the current working directory to the specified path.\n",
    "path can be an absolute or relative directory path.\n",
    "Example:"
   ]
  },
  {
   "cell_type": "markdown",
   "id": "73627a43",
   "metadata": {},
   "source": [
    "import os \n",
    "new_directory = '/path/to/new/directory'\n",
    "os.chdir(new_directory)\n",
    "\n",
    "\n",
    "Here's how these functions work together: os.getcwd() allows you to retrieve the current working directory, and os.chdir() allows you to change the current working directory to the specified path. This can be helpful when you want to perform file operations in a specific directory or navigate between different directories within your Python script."
   ]
  },
  {
   "cell_type": "markdown",
   "id": "0d214b0d",
   "metadata": {},
   "source": [
    "### 4. What are the . and .. folders?"
   ]
  },
  {
   "cell_type": "markdown",
   "id": "e52a51d3",
   "metadata": {},
   "source": [
    "\n",
    "In most file systems, including those used by Unix-like operating systems (such as Linux and macOS) and Windows, . and .. are special directory entries used to represent the current directory and the parent directory, respectively.\n",
    "\n",
    "1. . (Dot):\n",
    "\n",
    "The . (dot) represents the current directory. When you refer to a file or directory using . as part of the path, you are specifying the file or directory in the current working directory.\n",
    "For example, if your current working directory is /home/user, then the path ./file.txt refers to a file named file.txt in the /home/user directory.\n",
    "\n",
    "2. .. (Double Dot):\n",
    "\n",
    "The .. (double dot) represents the parent directory. When you refer to a file or directory using .. as part of the path, you are specifying the file or directory in the parent directory of the current working directory.\n",
    "For example, if your current working directory is /home/user/documents, then the path ../file.txt refers to a file named file.txt in the /home/user directory.\n",
    "These special entries are useful when navigating the file system. For instance, if you want to move up one level in the directory hierarchy, you can use .. to reference the parent directory. Similarly, . is used to refer to the current directory when specifying paths."
   ]
  },
  {
   "cell_type": "markdown",
   "id": "910e9ce2",
   "metadata": {},
   "source": [
    "### 5. In C:\\bacon\\eggs\\spam.txt, which part is the dir name, and which part is the base name?"
   ]
  },
  {
   "cell_type": "markdown",
   "id": "22d169a6",
   "metadata": {},
   "source": [
    "In the path C:\\bacon\\eggs\\spam.txt:\n",
    "\n",
    "Directory Name: C:\\bacon\\eggs\n",
    "Base Name: spam.txt\n",
    "In file paths, the directory name is the portion of the path that specifies the folder or directory where the file is located, and the base name is the name of the file itself, including the file extension"
   ]
  },
  {
   "cell_type": "markdown",
   "id": "0cdbe8c1",
   "metadata": {},
   "source": [
    "### 6. What are the three “mode” arguments that can be passed to the open() function?"
   ]
  },
  {
   "cell_type": "markdown",
   "id": "6eaeccc6",
   "metadata": {},
   "source": [
    "In Python's open() function, the first argument specifies the file path, and the second argument specifies the mode in which the file should be opened. The mode argument is a string that defines both the file's accessibility (read, write, or both) and its content handling (text or binary). Here are the three most common mode arguments:\n",
    "\n",
    "Read Mode ('r'):\n",
    "\n",
    "This is the default mode. It opens the file for reading.\n",
    "Example: open('file.txt', 'r')\n",
    "If the file does not exist, it raises a FileNotFoundError.\n",
    "Write Mode ('w'):\n",
    "\n",
    "It opens the file for writing. If the file exists, it truncates (removes all content) the file. If the file does not exist, it creates a new empty file.\n",
    "Example: open('file.txt', 'w')\n",
    "If the file does not exist, it creates the file. If the file exists, it truncates the file to zero length.\n",
    "Append Mode ('a'):\n"
   ]
  },
  {
   "cell_type": "markdown",
   "id": "a23ed080",
   "metadata": {},
   "source": [
    "### 7. What happens if an existing file is opened in write mode?"
   ]
  },
  {
   "cell_type": "markdown",
   "id": "e700ddce",
   "metadata": {},
   "source": [
    "If an existing file is opened in write mode ('w') using the open() function in Python, the following will occur:\n",
    "\n",
    "File Truncation:\n",
    "\n",
    "If the file exists, Python will truncate (empty) the file. This means all existing content in the file will be deleted, and the file will be effectively cleared.\n",
    "File Creation:\n",
    "\n",
    "If the file does not exist, Python will create a new empty file with the specified name.\n",
    "It's important to be cautious when using write mode ('w') because it can result in data loss if you accidentally truncate an existing file. If you want to append data to an existing file without erasing its content, you should use append mode ('a') instead of write mode."
   ]
  },
  {
   "cell_type": "markdown",
   "id": "82f4e6bc",
   "metadata": {},
   "source": [
    "### 8. How do you tell the difference between read() and readlines()?"
   ]
  },
  {
   "cell_type": "markdown",
   "id": "3bc31315",
   "metadata": {},
   "source": [
    "read():\n",
    "\n",
    "The read() method reads the entire content of the file and returns it as a single string.\n",
    "If you call read() multiple times on the same file object, it will return an empty string after reaching the end of the file.\n",
    "\n",
    "readlines():\n",
    "\n",
    "The readlines() method reads all lines from the file and returns them as a list of strings, where each element of the list represents a line in the file.\n",
    "If you call readlines() multiple times on the same file object, it will start reading from where it left off, meaning subsequent calls will return lines that were not read in previous calls.\n",
    "'read()' returns the entire content of the file as a single string, while readlines() returns the lines of the file as a list of strings, with each element representing a line. Choose the appropriate method based on whether you need the entire content as a single string or as a list of lines.'"
   ]
  },
  {
   "cell_type": "markdown",
   "id": "5dd66204",
   "metadata": {},
   "source": [
    "### 9. What data structure does a shelf value resemble?"
   ]
  },
  {
   "cell_type": "markdown",
   "id": "53140b90",
   "metadata": {},
   "source": [
    "In Python, the shelve module provides a way to persistently store objects (like dictionaries) on disk, allowing them to be accessed like dictionaries, but with the advantage of persistence between program runs. Internally, shelve uses the pickle module for serialization.\n",
    "\n",
    "The data structure that a shelve value resembles is a dictionary. When you store key-value pairs in a shelve, you can access and manipulate them in a manner similar to how you work with dictionaries in Python."
   ]
  }
 ],
 "metadata": {
  "kernelspec": {
   "display_name": "Python 3",
   "language": "python",
   "name": "python3"
  },
  "language_info": {
   "codemirror_mode": {
    "name": "ipython",
    "version": 3
   },
   "file_extension": ".py",
   "mimetype": "text/x-python",
   "name": "python",
   "nbconvert_exporter": "python",
   "pygments_lexer": "ipython3",
   "version": "3.8.8"
  }
 },
 "nbformat": 4,
 "nbformat_minor": 5
}
