{
 "cells": [
  {
   "cell_type": "markdown",
   "id": "dcf2dce2",
   "metadata": {},
   "source": [
    "### 1. In what modes should the PdfFileReader() and PdfFileWriter() File objects will be opened?"
   ]
  },
  {
   "cell_type": "markdown",
   "id": "f6f7a4c7",
   "metadata": {},
   "source": [
    "When working with PDF files using the PyPDF2 library in Python, you typically use PdfFileReader() and PdfFileWriter() objects to read and write PDF files, respectively. You do not need to manually open these PDF files using modes like you do with regular file objects (e.g., open('file.pdf', 'rb') for reading binary files). Instead, you provide the file paths directly to PdfFileReader() and PdfFileWriter() constructors, and the library handles the necessary file operations internally.\n",
    "\n",
    "The input PDF file is provided directly to PdfFileReader(), and the output PDF file is specified directly when writing the PDF using PdfFileWriter(). The library takes care of the necessary file modes internally, so you don't need to handle them explicitly."
   ]
  },
  {
   "cell_type": "markdown",
   "id": "c4b2a2e0",
   "metadata": {},
   "source": [
    "### 2. From a PdfFileReader object, how do you get a Page object for page 5?"
   ]
  },
  {
   "cell_type": "markdown",
   "id": "e21f934b",
   "metadata": {},
   "source": [
    "To get a Page object for page 5 from a PdfFileReader object in Python, you can use the getPage() method provided by the PyPDF2 library. First, make sure you have installed PyPDF2. If you haven't already, you can install it using pip:\n",
    "\n",
    "#### pip install PyPDF2\n",
    "\n",
    "Here's an example of how you can obtain a Page object for page 5 from a PdfFileReader \n",
    "\n",
    "import PyPDF2\n",
    "\n",
    "#### Open the PDF file in read-binary mode\n",
    "with open('your_pdf_file.pdf', 'rb') as file:\n",
    "    # Create a PdfFileReader object\n",
    "    pdf_reader = PyPDF2.PdfFileReader(file)\n",
    "    \n",
    "    # Get a Page object for page 5 (page numbering is 0-based)\n",
    "    page_number = 4  # Page 5 corresponds to index 4\n",
    "    page_object = pdf_reader.getPage(page_number)\n",
    "    \n",
    "    # Now you can work with the page_object, for example, extract text from the page\n",
    "    page_text = page_object.extractText()\n",
    "    print(page_text)"
   ]
  },
  {
   "cell_type": "markdown",
   "id": "928adbc4",
   "metadata": {},
   "source": [
    "### 3. What PdfFileReader variable stores the number of pages in the PDF document?"
   ]
  },
  {
   "cell_type": "markdown",
   "id": "14ff3612",
   "metadata": {},
   "source": [
    "The numPages attribute of a PdfFileReader object stores the total number of pages in a PDF document. For example, the following code will print the number of pages in a PDF file:\n",
    "    \n",
    "#### import PyPDF2\n",
    "\n",
    "#### with open('example.pdf', 'rb') as f:\n",
    "####    pdf_reader = PyPDF2.PdfFileReader(f)\n",
    "\n",
    "print(pdf_reader.numPages)\n",
    "\n",
    "\n",
    "The numPages attribute is a read-only property. It cannot be set."
   ]
  },
  {
   "cell_type": "markdown",
   "id": "d723def2",
   "metadata": {},
   "source": [
    "### 4. If a PdfFileReader object’s PDF is encrypted with the password swordfish, what must you dobefore you can obtain Page objects from it?"
   ]
  },
  {
   "cell_type": "markdown",
   "id": "b3ca8160",
   "metadata": {},
   "source": [
    "If a PDF file is encrypted with a password, you need to decrypt it before you can obtain Page objects from it using a PdfFileReader object in PyPDF2.\n",
    "\n",
    "replace 'your_encrypted_pdf_file.pdf' with the path to your encrypted PDF file. The decrypt() method is used to decrypt the PDF with the specified password ('swordfish' in this case). After decryption, you can obtain Page objects from the PDF and perform various operations on them."
   ]
  },
  {
   "cell_type": "markdown",
   "id": "551a36b6",
   "metadata": {},
   "source": [
    "### 5. What methods do you use to rotate a page?"
   ]
  },
  {
   "cell_type": "markdown",
   "id": "216a4c5b",
   "metadata": {},
   "source": [
    "In PyPDF2, you can rotate a page using the rotateClockwise() or rotateCounterClockwise() methods of the PageObject class. Here's how you can use these methods to rotate a page clockwise or counterclockwise:\n",
    "\n",
    "#### Rotate Clockwise (90 degrees clockwise)\n",
    "#### Rotate Counterclockwise (90 degrees counterclockwise)\n",
    "\n",
    "replace 'your_pdf_file.pdf' with the path to your PDF file. The rotateClockwise() method rotates the page 90 degrees clockwise, and the rotateCounterClockwise() method rotates the page 90 degrees counterclockwise. The modified page is then saved to a new PDF file called 'output_rotated_page.pdf'."
   ]
  },
  {
   "cell_type": "markdown",
   "id": "b0ebfcbe",
   "metadata": {},
   "source": [
    "### 6. What is the difference between a Run object and a Paragraph object?"
   ]
  },
  {
   "cell_type": "markdown",
   "id": "cee1d5de",
   "metadata": {},
   "source": [
    "In the context of text processing, particularly in libraries like Python's python-docx (used for working with Microsoft Word documents), a Paragraph object and a Run object represent different levels of text elements within a document.\n",
    "\n",
    "#### Paragraph Object:\n",
    "\n",
    "A paragraph is a higher-level text element that represents a block of text in a document.\n",
    "It can contain multiple runs of text with different formatting styles.\n",
    "Paragraphs are typically used to group and organize text in sections, such as headings, body text, or bullet points.\n",
    "You can apply paragraph-level formatting, such as alignment, indentation, and spacing, to a whole paragraph.\n",
    "In libraries like python-docx, you work with paragraphs to handle larger sections of text.\n",
    "Example (using python-docx):\n",
    "\n",
    "#### Run Object:\n",
    "\n",
    "A run is a lower-level text element that represents a contiguous sequence of characters in a consistent style.\n",
    "Runs are contained within paragraphs and represent a span of text with a specific font, size, color, or other formatting properties.\n",
    "You can apply run-level formatting, such as bold, italic, underline, or font color, to a specific run of text within a paragraph.\n",
    "A paragraph can contain one or more runs, each with its own distinct formatting.\n",
    "Runs are used for fine-grained control over text formatting within a paragraph.\n"
   ]
  },
  {
   "cell_type": "markdown",
   "id": "cb6e20e6",
   "metadata": {},
   "source": [
    "### 7. How do you obtain a list of Paragraph objects for a Document object that’s stored in a variablenamed doc?"
   ]
  },
  {
   "cell_type": "markdown",
   "id": "fc4f53aa",
   "metadata": {},
   "source": [
    "In the python-docx library, you can obtain a list of Paragraph objects from a Document object using the paragraphs attribute. Here's how you can do it:\n",
    "\n",
    "from docx import Document\n",
    "\n",
    "#### Assume you have a Document object stored in a variable named doc\n",
    "doc = Document(\"your_document.docx\")  # Replace with the path to your DOCX file\n",
    "\n",
    "#### Get a list of Paragraph objects from the Document\n",
    "paragraphs_list = doc.paragraphs\n",
    "\n",
    "#### Now, paragraphs_list contains a list of Paragraph objects\n",
    "#### You can iterate through the list to access individual Paragraph objects\n",
    "for paragraph in paragraphs_list:\n",
    "    print(paragraph.text)  # Print the text of each paragraph\n",
    "    \n",
    "In this example, doc.paragraphs returns a list of Paragraph objects contained in the Document object stored in the variable doc. You can then iterate through this list to access each Paragraph object and work with its properties, such as text, style, and formatting.    \n",
    "    "
   ]
  },
  {
   "cell_type": "markdown",
   "id": "b15790cd",
   "metadata": {},
   "source": [
    "### 8. What type of object has bold, underline, italic, strike, and outline variables?"
   ]
  },
  {
   "cell_type": "markdown",
   "id": "0088bbf8",
   "metadata": {},
   "source": [
    "In the context of text formatting in libraries like python-docx (which is used for working with Microsoft Word documents), the Run object is the type of object that has properties such as bold, underline, italic, strike, and outline.\n",
    "\n",
    "Each Run object represents a contiguous run of text in the same style within a paragraph. These properties (bold, underline, italic, strike, etc.) are used to apply formatting to specific runs of text within a paragraph."
   ]
  },
  {
   "cell_type": "markdown",
   "id": "aca6154c",
   "metadata": {},
   "source": [
    "### 9. What is the difference between False, True, and None for the bold variable?"
   ]
  },
  {
   "cell_type": "markdown",
   "id": "4fdd1812",
   "metadata": {},
   "source": [
    "In the context of text formatting, specifically in libraries like python-docx used for working with Microsoft Word documents, the bold variable can have three states: True, False, and None. Here's what each state signifies:\n",
    "\n",
    "#### 1.True for bold:\n",
    "\n",
    "Setting bold to True makes the text bold.\n",
    "When you set the bold property of a Run object to True, the corresponding text will appear in bold in the generated document.\n",
    "\n",
    "\n",
    "#### 2.False for bold:\n",
    "\n",
    "Setting bold to False makes the text not bold.\n",
    "When you set the bold property of a Run object to False, the text will appear with regular (non-bold) formatting.\n",
    "\n",
    "#### 3.None for bold:\n",
    "\n",
    "When bold is set to None, it means the text will inherit its boldness from the underlying style.\n",
    "If the text's style (such as the style of the paragraph it belongs to) is set to bold, the text will appear bold. If the style is not bold, the text will not appear bold.\n"
   ]
  },
  {
   "cell_type": "markdown",
   "id": "673ad5b0",
   "metadata": {},
   "source": [
    "### 10. How do you create a Document object for a new Word document?"
   ]
  },
  {
   "cell_type": "markdown",
   "id": "6410901b",
   "metadata": {},
   "source": [
    "To create a Document object for a new Word document using the python-docx library, you can simply call the Document() constructor. Here's an example of how you can create a new Word document:\n",
    "\n",
    "from docx import Document\n",
    "\n",
    "#### Create a new Document object\n",
    "doc = Document()\n",
    "\n",
    "#### Add content to the document\n",
    "doc.add_heading('My Document Title', level=1)\n",
    "doc.add_paragraph('This is the first paragraph of the document.')\n",
    "doc.add_paragraph('This is the second paragraph of the document.')\n",
    "\n",
    "#### Save the document to a file\n",
    "doc.save('my_document.docx')\n",
    "In this example, the Document() constructor creates a new, empty Word document. You can then use various methods provided by the Document object to add content, such as headings, paragraphs, tables, and more. Finally, you can save the document to a file using the save() method. The code above creates a Word document named my_document.docx in the same directory as your Python script. You can customize the content and formatting of the document according to your requirements."
   ]
  },
  {
   "cell_type": "markdown",
   "id": "93c980a7",
   "metadata": {},
   "source": [
    "### 11. How do you add a paragraph with the text &#39;Hello, there!&#39; to a Document object stored in a variable named doc?"
   ]
  },
  {
   "cell_type": "markdown",
   "id": "47b366ab",
   "metadata": {},
   "source": [
    "To add a paragraph with the text 'Hello, there!' to a Document object stored in a variable named doc using the python-docx library, you can use the add_paragraph() method. Here's how you can do it:\n",
    "\n",
    "from docx import Document\n",
    "\n",
    "#### Add a paragraph with the text 'Hello, there!'\n",
    "doc.add_paragraph('Hello, there!')\n",
    "\n",
    "#### Optionally, you can also store the paragraph object in a variable for further manipulation\n",
    " new_paragraph = doc.add_paragraph('Hello, there!')\n",
    "\n",
    "#### Save the document to a file\n",
    "doc.save('output_document.docx')\n",
    "\n",
    "\n",
    "In this code, doc.add_paragraph('Hello, there!') adds a new paragraph with the specified text to the Document object stored in the variable doc. You can customize the text and further format the paragraph as needed. The doc.save('output_document.docx') line saves the document to a file named output_document.docx."
   ]
  },
  {
   "cell_type": "markdown",
   "id": "09be8dc4",
   "metadata": {},
   "source": [
    "### 12. What integers represent the levels of headings available in Word documents?"
   ]
  },
  {
   "cell_type": "markdown",
   "id": "135dadf4",
   "metadata": {},
   "source": [
    "In Word documents, headings are typically styled with different levels of hierarchy to create a structured document outline. In the context of python-docx library (and in Word documents in general), the levels of headings are represented by integers from 1 to 9, where 1 represents the highest and most important level (usually the main title or heading), and 9 represents the lowest level of heading. These levels are commonly used to define the document's structure and hierarchy.\n",
    "\n",
    "Here's a general mapping of heading levels to their corresponding integers:\n",
    "\n",
    "Heading 1: Level 1\n",
    "Heading 2: Level 2\n",
    "Heading 3: Level 3\n",
    "Heading 4: Level 4\n",
    "Heading 5: Level 5\n",
    "Heading 6: Level 6\n",
    "Heading 7: Level 7\n",
    "Heading 8: Level 8\n",
    "Heading 9: Level 9\n",
    "In the python-docx library, you can set the level of a heading when adding it to a document using the add_heading() method. For example:\n",
    "\n",
    "from docx import Document\n",
    "\n",
    "#### Create a new Document object\n",
    "doc = Document()\n",
    "\n",
    "#### Add a Heading 1 with the text 'Main Heading'\n",
    "doc.add_heading('Main Heading', level=1)\n",
    "\n",
    "#### Add a Heading 2 with the text 'Subheading'\n",
    "doc.add_heading('Subheading', level=2)\n",
    "\n",
    "#### Save the document to a file\n",
    "doc.save('document_with_headings.docx')\n",
    "In this example, level=1 represents Heading 1, and level=2 represents Heading 2. You can adjust the level parameter to set the appropriate heading level according to your document's structure.\n"
   ]
  }
 ],
 "metadata": {
  "kernelspec": {
   "display_name": "Python 3",
   "language": "python",
   "name": "python3"
  },
  "language_info": {
   "codemirror_mode": {
    "name": "ipython",
    "version": 3
   },
   "file_extension": ".py",
   "mimetype": "text/x-python",
   "name": "python",
   "nbconvert_exporter": "python",
   "pygments_lexer": "ipython3",
   "version": "3.8.8"
  }
 },
 "nbformat": 4,
 "nbformat_minor": 5
}
